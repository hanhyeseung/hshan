{
 "cells": [
  {
   "cell_type": "markdown",
   "metadata": {},
   "source": [
    "# 가장 큰 수"
   ]
  },
  {
   "cell_type": "code",
   "execution_count": 112,
   "metadata": {
    "ExecuteTime": {
     "end_time": "2022-03-13T14:50:17.444138Z",
     "start_time": "2022-03-13T14:50:17.438554Z"
    }
   },
   "outputs": [],
   "source": [
    "numbers = [6, 10, 2]"
   ]
  },
  {
   "cell_type": "code",
   "execution_count": 116,
   "metadata": {
    "ExecuteTime": {
     "end_time": "2022-03-13T14:51:20.596139Z",
     "start_time": "2022-03-13T14:51:20.589339Z"
    }
   },
   "outputs": [],
   "source": [
    "from itertools import combinations, permutations"
   ]
  },
  {
   "cell_type": "code",
   "execution_count": 128,
   "metadata": {
    "ExecuteTime": {
     "end_time": "2022-03-13T14:53:15.796141Z",
     "start_time": "2022-03-13T14:53:15.790220Z"
    }
   },
   "outputs": [],
   "source": [
    "t1 = list(permutations(numbers, len(numbers)))"
   ]
  },
  {
   "cell_type": "code",
   "execution_count": 129,
   "metadata": {
    "ExecuteTime": {
     "end_time": "2022-03-13T14:53:16.380106Z",
     "start_time": "2022-03-13T14:53:16.373446Z"
    }
   },
   "outputs": [
    {
     "data": {
      "text/plain": [
       "[(6, 10, 2), (6, 2, 10), (10, 6, 2), (10, 2, 6), (2, 6, 10), (2, 10, 6)]"
      ]
     },
     "execution_count": 129,
     "metadata": {},
     "output_type": "execute_result"
    }
   ],
   "source": [
    "t1"
   ]
  },
  {
   "cell_type": "code",
   "execution_count": 131,
   "metadata": {
    "ExecuteTime": {
     "end_time": "2022-03-13T14:54:09.872114Z",
     "start_time": "2022-03-13T14:54:09.864320Z"
    }
   },
   "outputs": [
    {
     "data": {
      "text/plain": [
       "'6102'"
      ]
     },
     "execution_count": 131,
     "metadata": {},
     "output_type": "execute_result"
    }
   ],
   "source": [
    "str(t1[0][0]) + str(t1[0][1]) + str(t1[0][2])"
   ]
  },
  {
   "cell_type": "code",
   "execution_count": 145,
   "metadata": {
    "ExecuteTime": {
     "end_time": "2022-03-13T14:57:17.148131Z",
     "start_time": "2022-03-13T14:57:17.139351Z"
    }
   },
   "outputs": [],
   "source": [
    "res = []\n",
    "for i in range(0, len(t1)):\n",
    "    t2 = ''\n",
    "    for j in range(0, len(numbers)):\n",
    "        t2 += str(t1[i][j])\n",
    "        \n",
    "    res.append(int(t2))\n",
    "    \n",
    "result = str(max(res))"
   ]
  },
  {
   "cell_type": "code",
   "execution_count": null,
   "metadata": {},
   "outputs": [],
   "source": []
  },
  {
   "cell_type": "code",
   "execution_count": 146,
   "metadata": {
    "ExecuteTime": {
     "end_time": "2022-03-13T14:59:08.480133Z",
     "start_time": "2022-03-13T14:59:08.470103Z"
    }
   },
   "outputs": [],
   "source": [
    "def solution(numbers):\n",
    "    comb_list = list(permutations(numbers, len(numbers)))\n",
    "    \n",
    "    comb_res = []\n",
    "    for i in range(0, len(comb_list)):\n",
    "        t2 = ''\n",
    "        for j in range(0, len(numbers)):\n",
    "            t2 += str(comb_list[i][j])\n",
    "\n",
    "        comb_res.append(int(t2))\n",
    "\n",
    "    result = str(max(comb_res))\n",
    "    \n",
    "    return result"
   ]
  },
  {
   "cell_type": "code",
   "execution_count": 148,
   "metadata": {
    "ExecuteTime": {
     "end_time": "2022-03-13T14:59:17.252142Z",
     "start_time": "2022-03-13T14:59:17.243920Z"
    }
   },
   "outputs": [
    {
     "data": {
      "text/plain": [
       "'6210'"
      ]
     },
     "execution_count": 148,
     "metadata": {},
     "output_type": "execute_result"
    }
   ],
   "source": [
    "solution(numbers)"
   ]
  },
  {
   "cell_type": "code",
   "execution_count": null,
   "metadata": {},
   "outputs": [],
   "source": []
  },
  {
   "cell_type": "code",
   "execution_count": null,
   "metadata": {},
   "outputs": [],
   "source": []
  },
  {
   "cell_type": "code",
   "execution_count": null,
   "metadata": {},
   "outputs": [],
   "source": []
  },
  {
   "cell_type": "code",
   "execution_count": null,
   "metadata": {},
   "outputs": [],
   "source": []
  }
 ],
 "metadata": {
  "kernelspec": {
   "display_name": "api",
   "language": "python",
   "name": "api"
  },
  "language_info": {
   "codemirror_mode": {
    "name": "ipython",
    "version": 3
   },
   "file_extension": ".py",
   "mimetype": "text/x-python",
   "name": "python",
   "nbconvert_exporter": "python",
   "pygments_lexer": "ipython3",
   "version": "3.6.3"
  },
  "toc": {
   "base_numbering": 1,
   "nav_menu": {},
   "number_sections": true,
   "sideBar": true,
   "skip_h1_title": false,
   "title_cell": "Table of Contents",
   "title_sidebar": "Contents",
   "toc_cell": false,
   "toc_position": {},
   "toc_section_display": true,
   "toc_window_display": false
  },
  "varInspector": {
   "cols": {
    "lenName": 16,
    "lenType": 16,
    "lenVar": 40
   },
   "kernels_config": {
    "python": {
     "delete_cmd_postfix": "",
     "delete_cmd_prefix": "del ",
     "library": "var_list.py",
     "varRefreshCmd": "print(var_dic_list())"
    },
    "r": {
     "delete_cmd_postfix": ") ",
     "delete_cmd_prefix": "rm(",
     "library": "var_list.r",
     "varRefreshCmd": "cat(var_dic_list()) "
    }
   },
   "types_to_exclude": [
    "module",
    "function",
    "builtin_function_or_method",
    "instance",
    "_Feature"
   ],
   "window_display": false
  }
 },
 "nbformat": 4,
 "nbformat_minor": 2
}
