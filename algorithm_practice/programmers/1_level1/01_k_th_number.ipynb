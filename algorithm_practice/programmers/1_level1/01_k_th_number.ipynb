{
 "cells": [
  {
   "cell_type": "markdown",
   "metadata": {},
   "source": [
    "# K번째수"
   ]
  },
  {
   "cell_type": "code",
   "execution_count": 1,
   "metadata": {
    "ExecuteTime": {
     "end_time": "2022-03-12T12:12:10.720104Z",
     "start_time": "2022-03-12T12:12:10.543070Z"
    }
   },
   "outputs": [],
   "source": [
    "import pandas as pd\n",
    "import numpy as np"
   ]
  },
  {
   "cell_type": "code",
   "execution_count": 2,
   "metadata": {
    "ExecuteTime": {
     "end_time": "2022-03-12T12:12:11.456122Z",
     "start_time": "2022-03-12T12:12:10.927433Z"
    }
   },
   "outputs": [],
   "source": [
    "array = [1, 5, 2, 6, 3, 7, 4]"
   ]
  },
  {
   "cell_type": "code",
   "execution_count": 3,
   "metadata": {
    "ExecuteTime": {
     "end_time": "2022-03-12T12:12:11.520107Z",
     "start_time": "2022-03-12T12:12:11.467629Z"
    }
   },
   "outputs": [],
   "source": [
    "commands = [[2, 5, 3], [4, 4, 1], [1, 7, 3]]"
   ]
  },
  {
   "cell_type": "code",
   "execution_count": 4,
   "metadata": {
    "ExecuteTime": {
     "end_time": "2022-03-12T12:12:11.580156Z",
     "start_time": "2022-03-12T12:12:11.530959Z"
    }
   },
   "outputs": [],
   "source": [
    "i = 2\n",
    "j = 5\n",
    "k = 3"
   ]
  },
  {
   "cell_type": "code",
   "execution_count": 5,
   "metadata": {
    "ExecuteTime": {
     "end_time": "2022-03-12T12:12:11.644113Z",
     "start_time": "2022-03-12T12:12:11.617864Z"
    }
   },
   "outputs": [],
   "source": [
    "def calc(array, rule):\n",
    "    i = rule[0]\n",
    "    j = rule[1]\n",
    "    k = rule[2]\n",
    "    res = sorted(array[(i-1):j])[k-1]\n",
    "    return res"
   ]
  },
  {
   "cell_type": "code",
   "execution_count": 6,
   "metadata": {
    "ExecuteTime": {
     "end_time": "2022-03-12T12:12:11.896110Z",
     "start_time": "2022-03-12T12:12:11.886842Z"
    }
   },
   "outputs": [
    {
     "name": "stdout",
     "output_type": "stream",
     "text": [
      "0\n",
      "[2, 5, 3]\n",
      "1\n",
      "[4, 4, 1]\n",
      "2\n",
      "[1, 7, 3]\n"
     ]
    }
   ],
   "source": [
    "result = []\n",
    "for i in range(0, len(commands)):\n",
    "    print(i)\n",
    "    print(commands[i])\n",
    "    res = calc(array, commands[i])\n",
    "    result.append(res)"
   ]
  },
  {
   "cell_type": "code",
   "execution_count": 9,
   "metadata": {
    "ExecuteTime": {
     "end_time": "2022-03-12T12:12:23.936196Z",
     "start_time": "2022-03-12T12:12:23.925694Z"
    }
   },
   "outputs": [],
   "source": [
    "def calc(array, rule):\n",
    "    i = rule[0]\n",
    "    j = rule[1]\n",
    "    k = rule[2]\n",
    "    res = sorted(array[(i-1):j])[k-1]\n",
    "    return res\n",
    "    \n",
    "def solution(array, commands):\n",
    "    answer = []\n",
    "    for i in range(0, len(commands)):\n",
    "        res = calc(array, commands[i])\n",
    "        answer.append(res)\n",
    "    return answer"
   ]
  },
  {
   "cell_type": "code",
   "execution_count": 10,
   "metadata": {
    "ExecuteTime": {
     "end_time": "2022-03-12T12:12:24.756103Z",
     "start_time": "2022-03-12T12:12:24.749657Z"
    }
   },
   "outputs": [
    {
     "data": {
      "text/plain": [
       "[5, 6, 3]"
      ]
     },
     "execution_count": 10,
     "metadata": {},
     "output_type": "execute_result"
    }
   ],
   "source": [
    "solution(array, commands)"
   ]
  },
  {
   "cell_type": "code",
   "execution_count": null,
   "metadata": {},
   "outputs": [],
   "source": []
  },
  {
   "cell_type": "code",
   "execution_count": null,
   "metadata": {},
   "outputs": [],
   "source": []
  }
 ],
 "metadata": {
  "kernelspec": {
   "display_name": "api",
   "language": "python",
   "name": "api"
  },
  "language_info": {
   "codemirror_mode": {
    "name": "ipython",
    "version": 3
   },
   "file_extension": ".py",
   "mimetype": "text/x-python",
   "name": "python",
   "nbconvert_exporter": "python",
   "pygments_lexer": "ipython3",
   "version": "3.6.3"
  },
  "toc": {
   "base_numbering": 1,
   "nav_menu": {},
   "number_sections": true,
   "sideBar": true,
   "skip_h1_title": false,
   "title_cell": "Table of Contents",
   "title_sidebar": "Contents",
   "toc_cell": false,
   "toc_position": {},
   "toc_section_display": true,
   "toc_window_display": false
  },
  "varInspector": {
   "cols": {
    "lenName": 16,
    "lenType": 16,
    "lenVar": 40
   },
   "kernels_config": {
    "python": {
     "delete_cmd_postfix": "",
     "delete_cmd_prefix": "del ",
     "library": "var_list.py",
     "varRefreshCmd": "print(var_dic_list())"
    },
    "r": {
     "delete_cmd_postfix": ") ",
     "delete_cmd_prefix": "rm(",
     "library": "var_list.r",
     "varRefreshCmd": "cat(var_dic_list()) "
    }
   },
   "types_to_exclude": [
    "module",
    "function",
    "builtin_function_or_method",
    "instance",
    "_Feature"
   ],
   "window_display": false
  }
 },
 "nbformat": 4,
 "nbformat_minor": 2
}
