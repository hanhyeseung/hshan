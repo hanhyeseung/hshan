{
 "cells": [
  {
   "cell_type": "markdown",
   "metadata": {},
   "source": [
    "# 로또 최고 순위와 최저 순위"
   ]
  },
  {
   "cell_type": "code",
   "execution_count": 61,
   "metadata": {
    "ExecuteTime": {
     "end_time": "2022-03-13T11:12:58.720124Z",
     "start_time": "2022-03-13T11:12:58.712887Z"
    }
   },
   "outputs": [],
   "source": [
    "lottos  = [44, 1, 0, 0, 31, 25]"
   ]
  },
  {
   "cell_type": "code",
   "execution_count": 62,
   "metadata": {
    "ExecuteTime": {
     "end_time": "2022-03-13T11:12:58.876107Z",
     "start_time": "2022-03-13T11:12:58.869621Z"
    }
   },
   "outputs": [],
   "source": [
    "win_nums = [31, 10, 45, 1, 6, 19]"
   ]
  },
  {
   "cell_type": "code",
   "execution_count": 63,
   "metadata": {
    "ExecuteTime": {
     "end_time": "2022-03-13T11:12:59.024112Z",
     "start_time": "2022-03-13T11:12:59.012291Z"
    }
   },
   "outputs": [
    {
     "name": "stdout",
     "output_type": "stream",
     "text": [
      "2\n",
      "4\n"
     ]
    }
   ],
   "source": [
    "rank_dict = {6:1, 5:2, 4:3, 3:4, 2:5, 1:6, 0:6}\n",
    "\n",
    "answer = len(set(lottos)&set(win_nums))\n",
    "print(answer)\n",
    "possible = lottos.count(0)\n",
    "\n",
    "highest = answer+possible\n",
    "print(highest)\n",
    "if highest > 6:\n",
    "    highest = 6\n",
    "lowest = answer"
   ]
  },
  {
   "cell_type": "code",
   "execution_count": 64,
   "metadata": {
    "ExecuteTime": {
     "end_time": "2022-03-13T11:12:59.188120Z",
     "start_time": "2022-03-13T11:12:59.179762Z"
    }
   },
   "outputs": [
    {
     "data": {
      "text/plain": [
       "[3, 5]"
      ]
     },
     "execution_count": 64,
     "metadata": {},
     "output_type": "execute_result"
    }
   ],
   "source": [
    "[rank_dict[highest], rank_dict[lowest]]"
   ]
  },
  {
   "cell_type": "code",
   "execution_count": 65,
   "metadata": {
    "ExecuteTime": {
     "end_time": "2022-03-13T11:12:59.332107Z",
     "start_time": "2022-03-13T11:12:59.321301Z"
    }
   },
   "outputs": [],
   "source": [
    "def solution(lottos, win_nums):\n",
    "    rank_dict = {6:1, 5:2, 4:3, 3:4, 2:5, 1:6, 0:6}\n",
    "\n",
    "    answer = len(set(lottos)&set(win_nums))\n",
    "    possible = lottos.count(0)\n",
    "    \n",
    "    highest = answer+possible\n",
    "    if highest > 6:\n",
    "        highest = 6\n",
    "        \n",
    "    lowest = answer\n",
    "    \n",
    "    return [rank_dict[highest], rank_dict[lowest]]"
   ]
  },
  {
   "cell_type": "code",
   "execution_count": 66,
   "metadata": {
    "ExecuteTime": {
     "end_time": "2022-03-13T11:12:59.492100Z",
     "start_time": "2022-03-13T11:12:59.484214Z"
    }
   },
   "outputs": [
    {
     "data": {
      "text/plain": [
       "[3, 5]"
      ]
     },
     "execution_count": 66,
     "metadata": {},
     "output_type": "execute_result"
    }
   ],
   "source": [
    "solution(lottos, win_nums)"
   ]
  },
  {
   "cell_type": "code",
   "execution_count": null,
   "metadata": {},
   "outputs": [],
   "source": []
  }
 ],
 "metadata": {
  "kernelspec": {
   "display_name": "api",
   "language": "python",
   "name": "api"
  },
  "language_info": {
   "codemirror_mode": {
    "name": "ipython",
    "version": 3
   },
   "file_extension": ".py",
   "mimetype": "text/x-python",
   "name": "python",
   "nbconvert_exporter": "python",
   "pygments_lexer": "ipython3",
   "version": "3.6.3"
  },
  "toc": {
   "base_numbering": 1,
   "nav_menu": {},
   "number_sections": true,
   "sideBar": true,
   "skip_h1_title": false,
   "title_cell": "Table of Contents",
   "title_sidebar": "Contents",
   "toc_cell": false,
   "toc_position": {},
   "toc_section_display": true,
   "toc_window_display": false
  },
  "varInspector": {
   "cols": {
    "lenName": 16,
    "lenType": 16,
    "lenVar": 40
   },
   "kernels_config": {
    "python": {
     "delete_cmd_postfix": "",
     "delete_cmd_prefix": "del ",
     "library": "var_list.py",
     "varRefreshCmd": "print(var_dic_list())"
    },
    "r": {
     "delete_cmd_postfix": ") ",
     "delete_cmd_prefix": "rm(",
     "library": "var_list.r",
     "varRefreshCmd": "cat(var_dic_list()) "
    }
   },
   "types_to_exclude": [
    "module",
    "function",
    "builtin_function_or_method",
    "instance",
    "_Feature"
   ],
   "window_display": false
  }
 },
 "nbformat": 4,
 "nbformat_minor": 2
}
