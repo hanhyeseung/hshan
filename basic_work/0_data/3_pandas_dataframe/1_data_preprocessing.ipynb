{
 "cells": [
  {
   "cell_type": "markdown",
   "metadata": {},
   "source": [
    "# 데이터 전처리\n",
    "* 본 데이터는 plant의 info가 파일명에 기입되어 있다. \n",
    "    * plant의 info만을 가지고 있는 pandas dataframe 형식의 변수를 만들어준다.\n",
    "* 본 데이터는 plant 별 타임시리즈 형태의 발전량 데이터가 csv 파일로 저장되어 있다. \n",
    "    * 백개가 넘는 개별 csv 파일로 관리하기 힘들기 때문에 하나의 파일로 변경해준다.\n",
    "    * 이 때, plant의 id별로 구별되어야 한다.\n",
    "\n",
    "# Data preprocessing\n",
    "* This data contains plant information in the file name.\n",
    "    * It creates a pandas dataframe type variable that has only plant information.\n",
    "* In this data, power generation data in the form of time series for each plant are stored as csv files.\n",
    "    * Since it is difficult to manage with more than a hundred individual csv files, it is changed to a single file.\n",
    "    * At this time, plants must be distinguished as plant id."
   ]
  },
  {
   "cell_type": "code",
   "execution_count": 1,
   "metadata": {},
   "outputs": [],
   "source": [
    "import pandas as pd"
   ]
  },
  {
   "cell_type": "code",
   "execution_count": 2,
   "metadata": {},
   "outputs": [],
   "source": [
    "import os"
   ]
  },
  {
   "cell_type": "markdown",
   "metadata": {},
   "source": [
    "## load file names (파일명 불러오기)\n",
    "* 단, 리파지토리에 5분단위 데이터와 60분 단위 데이터가 섞여있기 때문에 이를 분리시켜준다."
   ]
  },
  {
   "cell_type": "code",
   "execution_count": 16,
   "metadata": {},
   "outputs": [],
   "source": [
    "def search(dirname):\n",
    "    filenames = os.listdir(dirname)\n",
    "    full_filenames = []\n",
    "    for filename in filenames:\n",
    "        full_filename = os.path.join(dirname, filename)\n",
    "#         print(full_filename)\n",
    "        full_filenames.append(full_filename)\n",
    "        \n",
    "    return full_filenames"
   ]
  },
  {
   "cell_type": "code",
   "execution_count": 4,
   "metadata": {},
   "outputs": [
    {
     "data": {
      "text/plain": [
       "'/Users/hanhyeseung/hshan/basic_work/0_data/3_pandas_dataframe'"
      ]
     },
     "execution_count": 4,
     "metadata": {},
     "output_type": "execute_result"
    }
   ],
   "source": [
    "pwd"
   ]
  },
  {
   "cell_type": "code",
   "execution_count": 5,
   "metadata": {},
   "outputs": [],
   "source": [
    "filenames = search('/Users/hanhyeseung/hshan/basic_work/0_data/raw_data/az-pv-2006/')"
   ]
  },
  {
   "cell_type": "code",
   "execution_count": 6,
   "metadata": {},
   "outputs": [],
   "source": [
    "hourly_full_names = []\n",
    "for fullname in filenames:\n",
    "    if fullname.split('/')[-1].split('_')[0] == 'HA4':\n",
    "        hourly_full_names.append(fullname)"
   ]
  },
  {
   "cell_type": "code",
   "execution_count": 13,
   "metadata": {},
   "outputs": [
    {
     "data": {
      "text/plain": [
       "['/Users/hanhyeseung/hshan/basic_work/0_data/raw_data/az-pv-2006/HA4_32.55_-112.05_2006_UPV_100MW_60_Min.csv',\n",
       " '/Users/hanhyeseung/hshan/basic_work/0_data/raw_data/az-pv-2006/HA4_33.85_-112.55_2006_UPV_28MW_60_Min.csv',\n",
       " '/Users/hanhyeseung/hshan/basic_work/0_data/raw_data/az-pv-2006/HA4_33.95_-114.25_2006_UPV_75MW_60_Min.csv',\n",
       " '/Users/hanhyeseung/hshan/basic_work/0_data/raw_data/az-pv-2006/HA4_35.05_-114.45_2006_UPV_100MW_60_Min.csv',\n",
       " '/Users/hanhyeseung/hshan/basic_work/0_data/raw_data/az-pv-2006/HA4_34.65_-114.15_2006_UPV_150MW_60_Min.csv']"
      ]
     },
     "execution_count": 13,
     "metadata": {},
     "output_type": "execute_result"
    }
   ],
   "source": [
    "hourly_full_names[:5]"
   ]
  },
  {
   "cell_type": "markdown",
   "metadata": {},
   "source": [
    "## make plant info dataframe"
   ]
  },
  {
   "cell_type": "code",
   "execution_count": 25,
   "metadata": {},
   "outputs": [],
   "source": [
    "plant_info = pd.DataFrame()\n",
    "for idx, file in enumerate(hourly_full_names):\n",
    "    pid = idx +1\n",
    "    lat = hourly_full_names[idx].split('/')[-1].split('_')[1]\n",
    "    lng = hourly_full_names[idx].split('/')[-1].split('_')[2]\n",
    "    cap = hourly_full_names[idx].split('/')[-1].split('_')[5][:-2]\n",
    "    \n",
    "    plant_info = plant_info.append(pd.Series([pid, lat, lng, cap]), ignore_index=True)\n",
    "#     print(pid, lat, lng, cap)\n",
    "plant_info.columns=['plant_id', 'latitude', 'longitude', 'capacity']"
   ]
  },
  {
   "cell_type": "code",
   "execution_count": 26,
   "metadata": {},
   "outputs": [
    {
     "data": {
      "text/html": [
       "<div>\n",
       "<style scoped>\n",
       "    .dataframe tbody tr th:only-of-type {\n",
       "        vertical-align: middle;\n",
       "    }\n",
       "\n",
       "    .dataframe tbody tr th {\n",
       "        vertical-align: top;\n",
       "    }\n",
       "\n",
       "    .dataframe thead th {\n",
       "        text-align: right;\n",
       "    }\n",
       "</style>\n",
       "<table border=\"1\" class=\"dataframe\">\n",
       "  <thead>\n",
       "    <tr style=\"text-align: right;\">\n",
       "      <th></th>\n",
       "      <th>plant_id</th>\n",
       "      <th>latitude</th>\n",
       "      <th>longitude</th>\n",
       "      <th>capacity</th>\n",
       "    </tr>\n",
       "  </thead>\n",
       "  <tbody>\n",
       "    <tr>\n",
       "      <th>0</th>\n",
       "      <td>1.0</td>\n",
       "      <td>32.55</td>\n",
       "      <td>-112.05</td>\n",
       "      <td>100</td>\n",
       "    </tr>\n",
       "    <tr>\n",
       "      <th>1</th>\n",
       "      <td>2.0</td>\n",
       "      <td>33.85</td>\n",
       "      <td>-112.55</td>\n",
       "      <td>28</td>\n",
       "    </tr>\n",
       "    <tr>\n",
       "      <th>2</th>\n",
       "      <td>3.0</td>\n",
       "      <td>33.95</td>\n",
       "      <td>-114.25</td>\n",
       "      <td>75</td>\n",
       "    </tr>\n",
       "    <tr>\n",
       "      <th>3</th>\n",
       "      <td>4.0</td>\n",
       "      <td>35.05</td>\n",
       "      <td>-114.45</td>\n",
       "      <td>100</td>\n",
       "    </tr>\n",
       "    <tr>\n",
       "      <th>4</th>\n",
       "      <td>5.0</td>\n",
       "      <td>34.65</td>\n",
       "      <td>-114.15</td>\n",
       "      <td>150</td>\n",
       "    </tr>\n",
       "  </tbody>\n",
       "</table>\n",
       "</div>"
      ],
      "text/plain": [
       "   plant_id latitude longitude capacity\n",
       "0       1.0    32.55   -112.05      100\n",
       "1       2.0    33.85   -112.55       28\n",
       "2       3.0    33.95   -114.25       75\n",
       "3       4.0    35.05   -114.45      100\n",
       "4       5.0    34.65   -114.15      150"
      ]
     },
     "execution_count": 26,
     "metadata": {},
     "output_type": "execute_result"
    }
   ],
   "source": [
    "plant_info.head()"
   ]
  },
  {
   "cell_type": "markdown",
   "metadata": {},
   "source": [
    "## save pv power as a single csv"
   ]
  },
  {
   "cell_type": "code",
   "execution_count": 27,
   "metadata": {},
   "outputs": [],
   "source": [
    "yield_data = pd.DataFrame()\n",
    "for idx, file in enumerate(hourly_full_names):\n",
    "    pid = idx +1\n",
    "    \n",
    "    data = pd.read_csv(file)\n",
    "    data['plant_id'] = pid\n",
    "    \n",
    "    yield_data = yield_data.append(data)\n",
    "yield_data['dt'] = pd.to_datetime(yield_data['LocalTime']).dt.tz_localize(tz='Asia/Seoul')\n",
    "yield_data.set_index('dt', inplace=True)\n",
    "yield_data.drop(['LocalTime'], axis=1, inplace=True)\n",
    "\n",
    "# yield_data.to_csv('/Users/hanhyeseung/hshan/basic_work/0_data/data/arizona_pv_data.csv')"
   ]
  },
  {
   "cell_type": "code",
   "execution_count": 39,
   "metadata": {
    "scrolled": true
   },
   "outputs": [
    {
     "data": {
      "text/html": [
       "<div>\n",
       "<style scoped>\n",
       "    .dataframe tbody tr th:only-of-type {\n",
       "        vertical-align: middle;\n",
       "    }\n",
       "\n",
       "    .dataframe tbody tr th {\n",
       "        vertical-align: top;\n",
       "    }\n",
       "\n",
       "    .dataframe thead th {\n",
       "        text-align: right;\n",
       "    }\n",
       "</style>\n",
       "<table border=\"1\" class=\"dataframe\">\n",
       "  <thead>\n",
       "    <tr style=\"text-align: right;\">\n",
       "      <th></th>\n",
       "      <th>Power(MW)</th>\n",
       "      <th>plant_id</th>\n",
       "    </tr>\n",
       "    <tr>\n",
       "      <th>dt</th>\n",
       "      <th></th>\n",
       "      <th></th>\n",
       "    </tr>\n",
       "  </thead>\n",
       "  <tbody>\n",
       "    <tr>\n",
       "      <th>2006-01-01 00:00:00+09:00</th>\n",
       "      <td>0.0</td>\n",
       "      <td>1</td>\n",
       "    </tr>\n",
       "    <tr>\n",
       "      <th>2006-01-01 01:00:00+09:00</th>\n",
       "      <td>0.0</td>\n",
       "      <td>1</td>\n",
       "    </tr>\n",
       "    <tr>\n",
       "      <th>2006-01-01 02:00:00+09:00</th>\n",
       "      <td>0.0</td>\n",
       "      <td>1</td>\n",
       "    </tr>\n",
       "    <tr>\n",
       "      <th>2006-01-01 03:00:00+09:00</th>\n",
       "      <td>0.0</td>\n",
       "      <td>1</td>\n",
       "    </tr>\n",
       "    <tr>\n",
       "      <th>2006-01-01 04:00:00+09:00</th>\n",
       "      <td>0.0</td>\n",
       "      <td>1</td>\n",
       "    </tr>\n",
       "  </tbody>\n",
       "</table>\n",
       "</div>"
      ],
      "text/plain": [
       "                           Power(MW)  plant_id\n",
       "dt                                            \n",
       "2006-01-01 00:00:00+09:00        0.0         1\n",
       "2006-01-01 01:00:00+09:00        0.0         1\n",
       "2006-01-01 02:00:00+09:00        0.0         1\n",
       "2006-01-01 03:00:00+09:00        0.0         1\n",
       "2006-01-01 04:00:00+09:00        0.0         1"
      ]
     },
     "execution_count": 39,
     "metadata": {},
     "output_type": "execute_result"
    }
   ],
   "source": [
    "yield_data.head()"
   ]
  },
  {
   "cell_type": "code",
   "execution_count": null,
   "metadata": {},
   "outputs": [],
   "source": []
  }
 ],
 "metadata": {
  "kernelspec": {
   "display_name": "Python 3",
   "language": "python",
   "name": "python3"
  },
  "language_info": {
   "codemirror_mode": {
    "name": "ipython",
    "version": 3
   },
   "file_extension": ".py",
   "mimetype": "text/x-python",
   "name": "python",
   "nbconvert_exporter": "python",
   "pygments_lexer": "ipython3",
   "version": "3.8.5"
  }
 },
 "nbformat": 4,
 "nbformat_minor": 4
}
