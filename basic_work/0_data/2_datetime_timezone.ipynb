{
 "cells": [
  {
   "cell_type": "markdown",
   "metadata": {},
   "source": [
    "# 형식 바꾸기, 타임존 설정하기"
   ]
  },
  {
   "cell_type": "markdown",
   "metadata": {},
   "source": [
    "## datetime 다루기"
   ]
  },
  {
   "cell_type": "code",
   "execution_count": 1,
   "metadata": {},
   "outputs": [],
   "source": [
    "import pandas as pd"
   ]
  },
  {
   "cell_type": "code",
   "execution_count": 2,
   "metadata": {},
   "outputs": [],
   "source": [
    "raw_file = pd.read_csv('/Users/hanhyeseung/hshan/basic_work/0_data/raw_data/az-pv-2006/HA4_32.55_-112.05_2006_UPV_100MW_60_Min.csv')"
   ]
  },
  {
   "cell_type": "code",
   "execution_count": 3,
   "metadata": {},
   "outputs": [
    {
     "data": {
      "text/html": [
       "<div>\n",
       "<style scoped>\n",
       "    .dataframe tbody tr th:only-of-type {\n",
       "        vertical-align: middle;\n",
       "    }\n",
       "\n",
       "    .dataframe tbody tr th {\n",
       "        vertical-align: top;\n",
       "    }\n",
       "\n",
       "    .dataframe thead th {\n",
       "        text-align: right;\n",
       "    }\n",
       "</style>\n",
       "<table border=\"1\" class=\"dataframe\">\n",
       "  <thead>\n",
       "    <tr style=\"text-align: right;\">\n",
       "      <th></th>\n",
       "      <th>LocalTime</th>\n",
       "      <th>Power(MW)</th>\n",
       "    </tr>\n",
       "  </thead>\n",
       "  <tbody>\n",
       "    <tr>\n",
       "      <th>0</th>\n",
       "      <td>01/01/06 00:00</td>\n",
       "      <td>0.0</td>\n",
       "    </tr>\n",
       "    <tr>\n",
       "      <th>1</th>\n",
       "      <td>01/01/06 01:00</td>\n",
       "      <td>0.0</td>\n",
       "    </tr>\n",
       "    <tr>\n",
       "      <th>2</th>\n",
       "      <td>01/01/06 02:00</td>\n",
       "      <td>0.0</td>\n",
       "    </tr>\n",
       "    <tr>\n",
       "      <th>3</th>\n",
       "      <td>01/01/06 03:00</td>\n",
       "      <td>0.0</td>\n",
       "    </tr>\n",
       "    <tr>\n",
       "      <th>4</th>\n",
       "      <td>01/01/06 04:00</td>\n",
       "      <td>0.0</td>\n",
       "    </tr>\n",
       "  </tbody>\n",
       "</table>\n",
       "</div>"
      ],
      "text/plain": [
       "        LocalTime  Power(MW)\n",
       "0  01/01/06 00:00        0.0\n",
       "1  01/01/06 01:00        0.0\n",
       "2  01/01/06 02:00        0.0\n",
       "3  01/01/06 03:00        0.0\n",
       "4  01/01/06 04:00        0.0"
      ]
     },
     "execution_count": 3,
     "metadata": {},
     "output_type": "execute_result"
    }
   ],
   "source": [
    "raw_file.head()"
   ]
  },
  {
   "cell_type": "markdown",
   "metadata": {},
   "source": [
    "### 방법 1)"
   ]
  },
  {
   "cell_type": "code",
   "execution_count": 4,
   "metadata": {},
   "outputs": [],
   "source": [
    "file_1 = raw_file.copy()"
   ]
  },
  {
   "cell_type": "code",
   "execution_count": 5,
   "metadata": {},
   "outputs": [
    {
     "data": {
      "text/html": [
       "<div>\n",
       "<style scoped>\n",
       "    .dataframe tbody tr th:only-of-type {\n",
       "        vertical-align: middle;\n",
       "    }\n",
       "\n",
       "    .dataframe tbody tr th {\n",
       "        vertical-align: top;\n",
       "    }\n",
       "\n",
       "    .dataframe thead th {\n",
       "        text-align: right;\n",
       "    }\n",
       "</style>\n",
       "<table border=\"1\" class=\"dataframe\">\n",
       "  <thead>\n",
       "    <tr style=\"text-align: right;\">\n",
       "      <th></th>\n",
       "      <th>LocalTime</th>\n",
       "      <th>Power(MW)</th>\n",
       "    </tr>\n",
       "  </thead>\n",
       "  <tbody>\n",
       "    <tr>\n",
       "      <th>0</th>\n",
       "      <td>01/01/06 00:00</td>\n",
       "      <td>0.0</td>\n",
       "    </tr>\n",
       "    <tr>\n",
       "      <th>1</th>\n",
       "      <td>01/01/06 01:00</td>\n",
       "      <td>0.0</td>\n",
       "    </tr>\n",
       "    <tr>\n",
       "      <th>2</th>\n",
       "      <td>01/01/06 02:00</td>\n",
       "      <td>0.0</td>\n",
       "    </tr>\n",
       "    <tr>\n",
       "      <th>3</th>\n",
       "      <td>01/01/06 03:00</td>\n",
       "      <td>0.0</td>\n",
       "    </tr>\n",
       "    <tr>\n",
       "      <th>4</th>\n",
       "      <td>01/01/06 04:00</td>\n",
       "      <td>0.0</td>\n",
       "    </tr>\n",
       "  </tbody>\n",
       "</table>\n",
       "</div>"
      ],
      "text/plain": [
       "        LocalTime  Power(MW)\n",
       "0  01/01/06 00:00        0.0\n",
       "1  01/01/06 01:00        0.0\n",
       "2  01/01/06 02:00        0.0\n",
       "3  01/01/06 03:00        0.0\n",
       "4  01/01/06 04:00        0.0"
      ]
     },
     "execution_count": 5,
     "metadata": {},
     "output_type": "execute_result"
    }
   ],
   "source": [
    "file_1.head()"
   ]
  },
  {
   "cell_type": "code",
   "execution_count": 6,
   "metadata": {},
   "outputs": [
    {
     "data": {
      "text/plain": [
       "0   2006-01-01 00:00:00\n",
       "1   2006-01-01 01:00:00\n",
       "2   2006-01-01 02:00:00\n",
       "3   2006-01-01 03:00:00\n",
       "4   2006-01-01 04:00:00\n",
       "Name: LocalTime, dtype: datetime64[ns]"
      ]
     },
     "execution_count": 6,
     "metadata": {},
     "output_type": "execute_result"
    }
   ],
   "source": [
    "pd.to_datetime(file_1['LocalTime'])[:5]"
   ]
  },
  {
   "cell_type": "code",
   "execution_count": 7,
   "metadata": {},
   "outputs": [],
   "source": [
    "file_1['datetime'] = pd.to_datetime(file_1['LocalTime'])"
   ]
  },
  {
   "cell_type": "code",
   "execution_count": 8,
   "metadata": {},
   "outputs": [
    {
     "data": {
      "text/plain": [
       "0   2006-01-01 00:00:00\n",
       "1   2006-01-01 01:00:00\n",
       "2   2006-01-01 02:00:00\n",
       "3   2006-01-01 03:00:00\n",
       "4   2006-01-01 04:00:00\n",
       "Name: datetime, dtype: datetime64[ns]"
      ]
     },
     "execution_count": 8,
     "metadata": {},
     "output_type": "execute_result"
    }
   ],
   "source": [
    "file_1['datetime'][:5]"
   ]
  },
  {
   "cell_type": "markdown",
   "metadata": {},
   "source": [
    "### 방법 2) 날짜와 관련된 지정된 코드\n",
    "* https://docs.python.org/3.8/library/datetime.html#strftime-and-strptime-format-codes\n",
    "    * strftime() and strptime() Format Codes 참고하기"
   ]
  },
  {
   "cell_type": "code",
   "execution_count": 9,
   "metadata": {},
   "outputs": [
    {
     "data": {
      "text/html": [
       "<div>\n",
       "<style scoped>\n",
       "    .dataframe tbody tr th:only-of-type {\n",
       "        vertical-align: middle;\n",
       "    }\n",
       "\n",
       "    .dataframe tbody tr th {\n",
       "        vertical-align: top;\n",
       "    }\n",
       "\n",
       "    .dataframe thead th {\n",
       "        text-align: right;\n",
       "    }\n",
       "</style>\n",
       "<table border=\"1\" class=\"dataframe\">\n",
       "  <thead>\n",
       "    <tr style=\"text-align: right;\">\n",
       "      <th></th>\n",
       "      <th>LocalTime</th>\n",
       "      <th>Power(MW)</th>\n",
       "    </tr>\n",
       "  </thead>\n",
       "  <tbody>\n",
       "    <tr>\n",
       "      <th>0</th>\n",
       "      <td>01/01/06 00:00</td>\n",
       "      <td>0.0</td>\n",
       "    </tr>\n",
       "    <tr>\n",
       "      <th>1</th>\n",
       "      <td>01/01/06 01:00</td>\n",
       "      <td>0.0</td>\n",
       "    </tr>\n",
       "    <tr>\n",
       "      <th>2</th>\n",
       "      <td>01/01/06 02:00</td>\n",
       "      <td>0.0</td>\n",
       "    </tr>\n",
       "    <tr>\n",
       "      <th>3</th>\n",
       "      <td>01/01/06 03:00</td>\n",
       "      <td>0.0</td>\n",
       "    </tr>\n",
       "    <tr>\n",
       "      <th>4</th>\n",
       "      <td>01/01/06 04:00</td>\n",
       "      <td>0.0</td>\n",
       "    </tr>\n",
       "  </tbody>\n",
       "</table>\n",
       "</div>"
      ],
      "text/plain": [
       "        LocalTime  Power(MW)\n",
       "0  01/01/06 00:00        0.0\n",
       "1  01/01/06 01:00        0.0\n",
       "2  01/01/06 02:00        0.0\n",
       "3  01/01/06 03:00        0.0\n",
       "4  01/01/06 04:00        0.0"
      ]
     },
     "execution_count": 9,
     "metadata": {},
     "output_type": "execute_result"
    }
   ],
   "source": [
    "raw_file.head()"
   ]
  },
  {
   "cell_type": "code",
   "execution_count": 10,
   "metadata": {},
   "outputs": [],
   "source": [
    "file_2 = raw_file.copy()"
   ]
  },
  {
   "cell_type": "code",
   "execution_count": 11,
   "metadata": {},
   "outputs": [
    {
     "data": {
      "text/plain": [
       "'01/01/06 00:00'"
      ]
     },
     "execution_count": 11,
     "metadata": {},
     "output_type": "execute_result"
    }
   ],
   "source": [
    "file_2['LocalTime'][0]"
   ]
  },
  {
   "cell_type": "code",
   "execution_count": 12,
   "metadata": {},
   "outputs": [
    {
     "data": {
      "text/plain": [
       "0   2006-01-01 00:00:00\n",
       "1   2006-01-01 01:00:00\n",
       "2   2006-01-01 02:00:00\n",
       "3   2006-01-01 03:00:00\n",
       "4   2006-01-01 04:00:00\n",
       "5   2006-01-01 05:00:00\n",
       "6   2006-01-01 06:00:00\n",
       "7   2006-01-01 07:00:00\n",
       "8   2006-01-01 08:00:00\n",
       "9   2006-01-01 09:00:00\n",
       "Name: LocalTime, dtype: datetime64[ns]"
      ]
     },
     "execution_count": 12,
     "metadata": {},
     "output_type": "execute_result"
    }
   ],
   "source": [
    "pd.to_datetime(file_2['LocalTime'], format='%m/%d/%y %H:%M')[:10]"
   ]
  },
  {
   "cell_type": "code",
   "execution_count": null,
   "metadata": {},
   "outputs": [],
   "source": []
  },
  {
   "cell_type": "markdown",
   "metadata": {},
   "source": [
    "## 타임존 설정하기"
   ]
  },
  {
   "cell_type": "markdown",
   "metadata": {},
   "source": [
    "* .dt를 안붙여주면 TypeError 발생한다.\n",
    "    * 에러메세지: TypeError: index is not a valid DatetimeIndex or PeriodIndex"
   ]
  },
  {
   "cell_type": "code",
   "execution_count": 37,
   "metadata": {},
   "outputs": [],
   "source": [
    "file_3 = raw_file.copy()"
   ]
  },
  {
   "cell_type": "code",
   "execution_count": 38,
   "metadata": {},
   "outputs": [],
   "source": [
    "file_3['datetime'] = pd.to_datetime(file_3['LocalTime'])"
   ]
  },
  {
   "cell_type": "code",
   "execution_count": 39,
   "metadata": {
    "scrolled": true
   },
   "outputs": [
    {
     "data": {
      "text/plain": [
       "0   2006-01-01 00:00:00+09:00\n",
       "1   2006-01-01 01:00:00+09:00\n",
       "2   2006-01-01 02:00:00+09:00\n",
       "3   2006-01-01 03:00:00+09:00\n",
       "4   2006-01-01 04:00:00+09:00\n",
       "Name: datetime, dtype: datetime64[ns, Asia/Seoul]"
      ]
     },
     "execution_count": 39,
     "metadata": {},
     "output_type": "execute_result"
    }
   ],
   "source": [
    "file_3['datetime'].dt.tz_localize(tz='Asia/Seoul')[:5]"
   ]
  },
  {
   "cell_type": "code",
   "execution_count": 40,
   "metadata": {},
   "outputs": [],
   "source": [
    "file_3['dt_kst'] = file_3['datetime'].dt.tz_localize(tz='Asia/Seoul')"
   ]
  },
  {
   "cell_type": "code",
   "execution_count": 41,
   "metadata": {
    "scrolled": true
   },
   "outputs": [
    {
     "data": {
      "text/html": [
       "<div>\n",
       "<style scoped>\n",
       "    .dataframe tbody tr th:only-of-type {\n",
       "        vertical-align: middle;\n",
       "    }\n",
       "\n",
       "    .dataframe tbody tr th {\n",
       "        vertical-align: top;\n",
       "    }\n",
       "\n",
       "    .dataframe thead th {\n",
       "        text-align: right;\n",
       "    }\n",
       "</style>\n",
       "<table border=\"1\" class=\"dataframe\">\n",
       "  <thead>\n",
       "    <tr style=\"text-align: right;\">\n",
       "      <th></th>\n",
       "      <th>LocalTime</th>\n",
       "      <th>Power(MW)</th>\n",
       "      <th>datetime</th>\n",
       "      <th>dt_kst</th>\n",
       "    </tr>\n",
       "  </thead>\n",
       "  <tbody>\n",
       "    <tr>\n",
       "      <th>0</th>\n",
       "      <td>01/01/06 00:00</td>\n",
       "      <td>0.0</td>\n",
       "      <td>2006-01-01 00:00:00</td>\n",
       "      <td>2006-01-01 00:00:00+09:00</td>\n",
       "    </tr>\n",
       "    <tr>\n",
       "      <th>1</th>\n",
       "      <td>01/01/06 01:00</td>\n",
       "      <td>0.0</td>\n",
       "      <td>2006-01-01 01:00:00</td>\n",
       "      <td>2006-01-01 01:00:00+09:00</td>\n",
       "    </tr>\n",
       "    <tr>\n",
       "      <th>2</th>\n",
       "      <td>01/01/06 02:00</td>\n",
       "      <td>0.0</td>\n",
       "      <td>2006-01-01 02:00:00</td>\n",
       "      <td>2006-01-01 02:00:00+09:00</td>\n",
       "    </tr>\n",
       "    <tr>\n",
       "      <th>3</th>\n",
       "      <td>01/01/06 03:00</td>\n",
       "      <td>0.0</td>\n",
       "      <td>2006-01-01 03:00:00</td>\n",
       "      <td>2006-01-01 03:00:00+09:00</td>\n",
       "    </tr>\n",
       "    <tr>\n",
       "      <th>4</th>\n",
       "      <td>01/01/06 04:00</td>\n",
       "      <td>0.0</td>\n",
       "      <td>2006-01-01 04:00:00</td>\n",
       "      <td>2006-01-01 04:00:00+09:00</td>\n",
       "    </tr>\n",
       "  </tbody>\n",
       "</table>\n",
       "</div>"
      ],
      "text/plain": [
       "        LocalTime  Power(MW)            datetime                    dt_kst\n",
       "0  01/01/06 00:00        0.0 2006-01-01 00:00:00 2006-01-01 00:00:00+09:00\n",
       "1  01/01/06 01:00        0.0 2006-01-01 01:00:00 2006-01-01 01:00:00+09:00\n",
       "2  01/01/06 02:00        0.0 2006-01-01 02:00:00 2006-01-01 02:00:00+09:00\n",
       "3  01/01/06 03:00        0.0 2006-01-01 03:00:00 2006-01-01 03:00:00+09:00\n",
       "4  01/01/06 04:00        0.0 2006-01-01 04:00:00 2006-01-01 04:00:00+09:00"
      ]
     },
     "execution_count": 41,
     "metadata": {},
     "output_type": "execute_result"
    }
   ],
   "source": [
    "file_3.head()"
   ]
  },
  {
   "cell_type": "code",
   "execution_count": 42,
   "metadata": {},
   "outputs": [],
   "source": [
    "file_3['dt_utc'] = file_3['datetime'].dt.tz_localize(tz='UTC')"
   ]
  },
  {
   "cell_type": "code",
   "execution_count": 43,
   "metadata": {},
   "outputs": [
    {
     "data": {
      "text/html": [
       "<div>\n",
       "<style scoped>\n",
       "    .dataframe tbody tr th:only-of-type {\n",
       "        vertical-align: middle;\n",
       "    }\n",
       "\n",
       "    .dataframe tbody tr th {\n",
       "        vertical-align: top;\n",
       "    }\n",
       "\n",
       "    .dataframe thead th {\n",
       "        text-align: right;\n",
       "    }\n",
       "</style>\n",
       "<table border=\"1\" class=\"dataframe\">\n",
       "  <thead>\n",
       "    <tr style=\"text-align: right;\">\n",
       "      <th></th>\n",
       "      <th>LocalTime</th>\n",
       "      <th>Power(MW)</th>\n",
       "      <th>datetime</th>\n",
       "      <th>dt_kst</th>\n",
       "      <th>dt_utc</th>\n",
       "    </tr>\n",
       "  </thead>\n",
       "  <tbody>\n",
       "    <tr>\n",
       "      <th>0</th>\n",
       "      <td>01/01/06 00:00</td>\n",
       "      <td>0.0</td>\n",
       "      <td>2006-01-01 00:00:00</td>\n",
       "      <td>2006-01-01 00:00:00+09:00</td>\n",
       "      <td>2006-01-01 00:00:00+00:00</td>\n",
       "    </tr>\n",
       "    <tr>\n",
       "      <th>1</th>\n",
       "      <td>01/01/06 01:00</td>\n",
       "      <td>0.0</td>\n",
       "      <td>2006-01-01 01:00:00</td>\n",
       "      <td>2006-01-01 01:00:00+09:00</td>\n",
       "      <td>2006-01-01 01:00:00+00:00</td>\n",
       "    </tr>\n",
       "    <tr>\n",
       "      <th>2</th>\n",
       "      <td>01/01/06 02:00</td>\n",
       "      <td>0.0</td>\n",
       "      <td>2006-01-01 02:00:00</td>\n",
       "      <td>2006-01-01 02:00:00+09:00</td>\n",
       "      <td>2006-01-01 02:00:00+00:00</td>\n",
       "    </tr>\n",
       "    <tr>\n",
       "      <th>3</th>\n",
       "      <td>01/01/06 03:00</td>\n",
       "      <td>0.0</td>\n",
       "      <td>2006-01-01 03:00:00</td>\n",
       "      <td>2006-01-01 03:00:00+09:00</td>\n",
       "      <td>2006-01-01 03:00:00+00:00</td>\n",
       "    </tr>\n",
       "    <tr>\n",
       "      <th>4</th>\n",
       "      <td>01/01/06 04:00</td>\n",
       "      <td>0.0</td>\n",
       "      <td>2006-01-01 04:00:00</td>\n",
       "      <td>2006-01-01 04:00:00+09:00</td>\n",
       "      <td>2006-01-01 04:00:00+00:00</td>\n",
       "    </tr>\n",
       "  </tbody>\n",
       "</table>\n",
       "</div>"
      ],
      "text/plain": [
       "        LocalTime  Power(MW)            datetime                    dt_kst  \\\n",
       "0  01/01/06 00:00        0.0 2006-01-01 00:00:00 2006-01-01 00:00:00+09:00   \n",
       "1  01/01/06 01:00        0.0 2006-01-01 01:00:00 2006-01-01 01:00:00+09:00   \n",
       "2  01/01/06 02:00        0.0 2006-01-01 02:00:00 2006-01-01 02:00:00+09:00   \n",
       "3  01/01/06 03:00        0.0 2006-01-01 03:00:00 2006-01-01 03:00:00+09:00   \n",
       "4  01/01/06 04:00        0.0 2006-01-01 04:00:00 2006-01-01 04:00:00+09:00   \n",
       "\n",
       "                     dt_utc  \n",
       "0 2006-01-01 00:00:00+00:00  \n",
       "1 2006-01-01 01:00:00+00:00  \n",
       "2 2006-01-01 02:00:00+00:00  \n",
       "3 2006-01-01 03:00:00+00:00  \n",
       "4 2006-01-01 04:00:00+00:00  "
      ]
     },
     "execution_count": 43,
     "metadata": {},
     "output_type": "execute_result"
    }
   ],
   "source": [
    "file_3.head()"
   ]
  },
  {
   "cell_type": "markdown",
   "metadata": {},
   "source": [
    "* 이런 방법도 있다"
   ]
  },
  {
   "cell_type": "code",
   "execution_count": 58,
   "metadata": {},
   "outputs": [
    {
     "data": {
      "text/plain": [
       "0   2006-01-01 00:00:00+09:00\n",
       "1   2006-01-01 01:00:00+09:00\n",
       "2   2006-01-01 02:00:00+09:00\n",
       "3   2006-01-01 03:00:00+09:00\n",
       "4   2006-01-01 04:00:00+09:00\n",
       "Name: datetime, dtype: datetime64[ns, Asia/Seoul]"
      ]
     },
     "execution_count": 58,
     "metadata": {},
     "output_type": "execute_result"
    }
   ],
   "source": [
    "file_3['datetime'].apply(lambda x: pd.Timestamp(x, tz='Asia/Seoul'))[:5]"
   ]
  },
  {
   "cell_type": "markdown",
   "metadata": {},
   "source": [
    "* UTC --> KST"
   ]
  },
  {
   "cell_type": "code",
   "execution_count": 44,
   "metadata": {},
   "outputs": [],
   "source": [
    "file_3['dt_utc_kst_1'] = file_3['dt_utc'].dt.tz_convert(tz='Asia/Seoul')"
   ]
  },
  {
   "cell_type": "code",
   "execution_count": 45,
   "metadata": {},
   "outputs": [
    {
     "data": {
      "text/html": [
       "<div>\n",
       "<style scoped>\n",
       "    .dataframe tbody tr th:only-of-type {\n",
       "        vertical-align: middle;\n",
       "    }\n",
       "\n",
       "    .dataframe tbody tr th {\n",
       "        vertical-align: top;\n",
       "    }\n",
       "\n",
       "    .dataframe thead th {\n",
       "        text-align: right;\n",
       "    }\n",
       "</style>\n",
       "<table border=\"1\" class=\"dataframe\">\n",
       "  <thead>\n",
       "    <tr style=\"text-align: right;\">\n",
       "      <th></th>\n",
       "      <th>LocalTime</th>\n",
       "      <th>Power(MW)</th>\n",
       "      <th>datetime</th>\n",
       "      <th>dt_kst</th>\n",
       "      <th>dt_utc</th>\n",
       "      <th>dt_utc_kst_1</th>\n",
       "    </tr>\n",
       "  </thead>\n",
       "  <tbody>\n",
       "    <tr>\n",
       "      <th>0</th>\n",
       "      <td>01/01/06 00:00</td>\n",
       "      <td>0.0</td>\n",
       "      <td>2006-01-01 00:00:00</td>\n",
       "      <td>2006-01-01 00:00:00+09:00</td>\n",
       "      <td>2006-01-01 00:00:00+00:00</td>\n",
       "      <td>2006-01-01 09:00:00+09:00</td>\n",
       "    </tr>\n",
       "    <tr>\n",
       "      <th>1</th>\n",
       "      <td>01/01/06 01:00</td>\n",
       "      <td>0.0</td>\n",
       "      <td>2006-01-01 01:00:00</td>\n",
       "      <td>2006-01-01 01:00:00+09:00</td>\n",
       "      <td>2006-01-01 01:00:00+00:00</td>\n",
       "      <td>2006-01-01 10:00:00+09:00</td>\n",
       "    </tr>\n",
       "    <tr>\n",
       "      <th>2</th>\n",
       "      <td>01/01/06 02:00</td>\n",
       "      <td>0.0</td>\n",
       "      <td>2006-01-01 02:00:00</td>\n",
       "      <td>2006-01-01 02:00:00+09:00</td>\n",
       "      <td>2006-01-01 02:00:00+00:00</td>\n",
       "      <td>2006-01-01 11:00:00+09:00</td>\n",
       "    </tr>\n",
       "    <tr>\n",
       "      <th>3</th>\n",
       "      <td>01/01/06 03:00</td>\n",
       "      <td>0.0</td>\n",
       "      <td>2006-01-01 03:00:00</td>\n",
       "      <td>2006-01-01 03:00:00+09:00</td>\n",
       "      <td>2006-01-01 03:00:00+00:00</td>\n",
       "      <td>2006-01-01 12:00:00+09:00</td>\n",
       "    </tr>\n",
       "    <tr>\n",
       "      <th>4</th>\n",
       "      <td>01/01/06 04:00</td>\n",
       "      <td>0.0</td>\n",
       "      <td>2006-01-01 04:00:00</td>\n",
       "      <td>2006-01-01 04:00:00+09:00</td>\n",
       "      <td>2006-01-01 04:00:00+00:00</td>\n",
       "      <td>2006-01-01 13:00:00+09:00</td>\n",
       "    </tr>\n",
       "  </tbody>\n",
       "</table>\n",
       "</div>"
      ],
      "text/plain": [
       "        LocalTime  Power(MW)            datetime                    dt_kst  \\\n",
       "0  01/01/06 00:00        0.0 2006-01-01 00:00:00 2006-01-01 00:00:00+09:00   \n",
       "1  01/01/06 01:00        0.0 2006-01-01 01:00:00 2006-01-01 01:00:00+09:00   \n",
       "2  01/01/06 02:00        0.0 2006-01-01 02:00:00 2006-01-01 02:00:00+09:00   \n",
       "3  01/01/06 03:00        0.0 2006-01-01 03:00:00 2006-01-01 03:00:00+09:00   \n",
       "4  01/01/06 04:00        0.0 2006-01-01 04:00:00 2006-01-01 04:00:00+09:00   \n",
       "\n",
       "                     dt_utc              dt_utc_kst_1  \n",
       "0 2006-01-01 00:00:00+00:00 2006-01-01 09:00:00+09:00  \n",
       "1 2006-01-01 01:00:00+00:00 2006-01-01 10:00:00+09:00  \n",
       "2 2006-01-01 02:00:00+00:00 2006-01-01 11:00:00+09:00  \n",
       "3 2006-01-01 03:00:00+00:00 2006-01-01 12:00:00+09:00  \n",
       "4 2006-01-01 04:00:00+00:00 2006-01-01 13:00:00+09:00  "
      ]
     },
     "execution_count": 45,
     "metadata": {},
     "output_type": "execute_result"
    }
   ],
   "source": [
    "file_3.head()"
   ]
  },
  {
   "cell_type": "code",
   "execution_count": null,
   "metadata": {},
   "outputs": [],
   "source": []
  }
 ],
 "metadata": {
  "kernelspec": {
   "display_name": "Python 3",
   "language": "python",
   "name": "python3"
  },
  "language_info": {
   "codemirror_mode": {
    "name": "ipython",
    "version": 3
   },
   "file_extension": ".py",
   "mimetype": "text/x-python",
   "name": "python",
   "nbconvert_exporter": "python",
   "pygments_lexer": "ipython3",
   "version": "3.8.5"
  }
 },
 "nbformat": 4,
 "nbformat_minor": 4
}
