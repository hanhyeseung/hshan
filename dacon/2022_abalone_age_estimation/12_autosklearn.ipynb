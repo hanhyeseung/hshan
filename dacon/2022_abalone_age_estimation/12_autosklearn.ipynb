{
 "cells": [
  {
   "cell_type": "markdown",
   "metadata": {},
   "source": [
    "# AutoML"
   ]
  },
  {
   "cell_type": "code",
   "execution_count": 23,
   "metadata": {
    "ExecuteTime": {
     "end_time": "2022-03-26T14:50:51.928134Z",
     "start_time": "2022-03-26T14:50:51.921718Z"
    }
   },
   "outputs": [],
   "source": [
    "from pprint import pprint\n",
    "\n",
    "from autosklearn.regression import AutoSklearnRegressor"
   ]
  },
  {
   "cell_type": "code",
   "execution_count": 7,
   "metadata": {
    "ExecuteTime": {
     "end_time": "2022-03-26T14:46:04.532160Z",
     "start_time": "2022-03-26T14:46:03.765819Z"
    }
   },
   "outputs": [],
   "source": [
    "import pandas as pd\n",
    "import numpy as np\n",
    "import seaborn as sns\n",
    "\n",
    "import matplotlib.pyplot as plt"
   ]
  },
  {
   "cell_type": "code",
   "execution_count": 8,
   "metadata": {
    "ExecuteTime": {
     "end_time": "2022-03-26T14:46:04.556083Z",
     "start_time": "2022-03-26T14:46:04.547534Z"
    }
   },
   "outputs": [],
   "source": [
    "def NMAE(true, pred):\n",
    "    mae = np.mean(np.abs(true-pred))\n",
    "    score = mae / np.mean(np.abs(true))\n",
    "    return score"
   ]
  },
  {
   "cell_type": "code",
   "execution_count": 9,
   "metadata": {
    "ExecuteTime": {
     "end_time": "2022-03-26T14:46:04.636058Z",
     "start_time": "2022-03-26T14:46:04.566581Z"
    }
   },
   "outputs": [],
   "source": [
    "raw_data = pd.read_csv('data/train_data_hs.csv',)"
   ]
  },
  {
   "cell_type": "code",
   "execution_count": 10,
   "metadata": {
    "ExecuteTime": {
     "end_time": "2022-03-26T14:46:04.728181Z",
     "start_time": "2022-03-26T14:46:04.669112Z"
    }
   },
   "outputs": [],
   "source": [
    "train_data = raw_data[~(raw_data.id%10).isin([3,5,7])]\n",
    "vali_data = raw_data[(raw_data.id%10).isin([3,5,7])]"
   ]
  },
  {
   "cell_type": "code",
   "execution_count": 11,
   "metadata": {
    "ExecuteTime": {
     "end_time": "2022-03-26T14:46:04.796030Z",
     "start_time": "2022-03-26T14:46:04.793267Z"
    }
   },
   "outputs": [],
   "source": [
    "y_col = ['Target']"
   ]
  },
  {
   "cell_type": "code",
   "execution_count": 12,
   "metadata": {
    "ExecuteTime": {
     "end_time": "2022-03-26T14:46:04.964135Z",
     "start_time": "2022-03-26T14:46:04.957381Z"
    }
   },
   "outputs": [],
   "source": [
    "x_col = list(raw_data.columns)\n",
    "x_col.remove('id')\n",
    "x_col.remove('Target')"
   ]
  },
  {
   "cell_type": "code",
   "execution_count": 13,
   "metadata": {
    "ExecuteTime": {
     "end_time": "2022-03-26T14:46:05.364108Z",
     "start_time": "2022-03-26T14:46:05.356350Z"
    }
   },
   "outputs": [],
   "source": [
    "train_X = train_data[x_col]"
   ]
  },
  {
   "cell_type": "code",
   "execution_count": 14,
   "metadata": {
    "ExecuteTime": {
     "end_time": "2022-03-26T14:46:05.868110Z",
     "start_time": "2022-03-26T14:46:05.860030Z"
    }
   },
   "outputs": [],
   "source": [
    "train_y = train_data[y_col]"
   ]
  },
  {
   "cell_type": "code",
   "execution_count": 15,
   "metadata": {
    "ExecuteTime": {
     "end_time": "2022-03-26T14:46:06.500113Z",
     "start_time": "2022-03-26T14:46:06.492408Z"
    }
   },
   "outputs": [],
   "source": [
    "model = AutoSklearnRegressor(\n",
    "    time_left_for_this_task=120,\n",
    "    per_run_time_limit=30,)"
   ]
  },
  {
   "cell_type": "code",
   "execution_count": 16,
   "metadata": {
    "ExecuteTime": {
     "end_time": "2022-03-26T14:47:58.716167Z",
     "start_time": "2022-03-26T14:46:06.996189Z"
    }
   },
   "outputs": [
    {
     "data": {
      "text/plain": [
       "AutoSklearnRegressor(per_run_time_limit=30, time_left_for_this_task=120)"
      ]
     },
     "execution_count": 16,
     "metadata": {},
     "output_type": "execute_result"
    }
   ],
   "source": [
    "model.fit(train_X, train_y, dataset_name='diabetes')"
   ]
  },
  {
   "cell_type": "code",
   "execution_count": 24,
   "metadata": {
    "ExecuteTime": {
     "end_time": "2022-03-26T14:50:55.464113Z",
     "start_time": "2022-03-26T14:50:55.444862Z"
    }
   },
   "outputs": [
    {
     "name": "stdout",
     "output_type": "stream",
     "text": [
      "('[(0.560000, '\n",
      " \"SimpleRegressionPipeline({'data_preprocessing:categorical_transformer:categorical_encoding:__choice__': \"\n",
      " \"'one_hot_encoding', \"\n",
      " \"'data_preprocessing:categorical_transformer:category_coalescence:__choice__': \"\n",
      " \"'no_coalescense', \"\n",
      " \"'data_preprocessing:numerical_transformer:imputation:strategy': 'mean', \"\n",
      " \"'data_preprocessing:numerical_transformer:rescaling:__choice__': \"\n",
      " \"'quantile_transformer', 'feature_preprocessor:__choice__': \"\n",
      " \"'feature_agglomeration', 'regressor:__choice__': 'gaussian_process', \"\n",
      " \"'data_preprocessing:numerical_transformer:rescaling:quantile_transformer:n_quantiles': \"\n",
      " '268, '\n",
      " \"'data_preprocessing:numerical_transformer:rescaling:quantile_transformer:output_distribution': \"\n",
      " \"'uniform', 'feature_preprocessor:feature_agglomeration:affinity': \"\n",
      " \"'euclidean', 'feature_preprocessor:feature_agglomeration:linkage': \"\n",
      " \"'average', 'feature_preprocessor:feature_agglomeration:n_clusters': 107, \"\n",
      " \"'feature_preprocessor:feature_agglomeration:pooling_func': 'median', \"\n",
      " \"'regressor:gaussian_process:alpha': 0.42928092501196696, \"\n",
      " \"'regressor:gaussian_process:thetaL': 1.4435895787652725e-07, \"\n",
      " \"'regressor:gaussian_process:thetaU': 8.108685026706572},\\n\"\n",
      " 'dataset_properties={\\n'\n",
      " \"  'task': 4,\\n\"\n",
      " \"  'sparse': False,\\n\"\n",
      " \"  'multioutput': False,\\n\"\n",
      " \"  'target_type': 'regression',\\n\"\n",
      " \"  'signed': False})),\\n\"\n",
      " '(0.280000, '\n",
      " \"SimpleRegressionPipeline({'data_preprocessing:categorical_transformer:categorical_encoding:__choice__': \"\n",
      " \"'one_hot_encoding', \"\n",
      " \"'data_preprocessing:categorical_transformer:category_coalescence:__choice__': \"\n",
      " \"'minority_coalescer', \"\n",
      " \"'data_preprocessing:numerical_transformer:imputation:strategy': 'mean', \"\n",
      " \"'data_preprocessing:numerical_transformer:rescaling:__choice__': 'minmax', \"\n",
      " \"'feature_preprocessor:__choice__': 'polynomial', 'regressor:__choice__': \"\n",
      " \"'random_forest', \"\n",
      " \"'data_preprocessing:categorical_transformer:category_coalescence:minority_coalescer:minimum_fraction': \"\n",
      " \"0.0010413452644415357, 'feature_preprocessor:polynomial:degree': 2, \"\n",
      " \"'feature_preprocessor:polynomial:include_bias': 'True', \"\n",
      " \"'feature_preprocessor:polynomial:interaction_only': 'True', \"\n",
      " \"'regressor:random_forest:bootstrap': 'False', \"\n",
      " \"'regressor:random_forest:criterion': 'mae', \"\n",
      " \"'regressor:random_forest:max_depth': 'None', \"\n",
      " \"'regressor:random_forest:max_features': 0.6277363920171745, \"\n",
      " \"'regressor:random_forest:max_leaf_nodes': 'None', \"\n",
      " \"'regressor:random_forest:min_impurity_decrease': 0.0, \"\n",
      " \"'regressor:random_forest:min_samples_leaf': 6, \"\n",
      " \"'regressor:random_forest:min_samples_split': 15, \"\n",
      " \"'regressor:random_forest:min_weight_fraction_leaf': 0.0},\\n\"\n",
      " 'dataset_properties={\\n'\n",
      " \"  'task': 4,\\n\"\n",
      " \"  'sparse': False,\\n\"\n",
      " \"  'multioutput': False,\\n\"\n",
      " \"  'target_type': 'regression',\\n\"\n",
      " \"  'signed': False})),\\n\"\n",
      " '(0.160000, '\n",
      " \"SimpleRegressionPipeline({'data_preprocessing:categorical_transformer:categorical_encoding:__choice__': \"\n",
      " \"'no_encoding', \"\n",
      " \"'data_preprocessing:categorical_transformer:category_coalescence:__choice__': \"\n",
      " \"'no_coalescense', \"\n",
      " \"'data_preprocessing:numerical_transformer:imputation:strategy': 'mean', \"\n",
      " \"'data_preprocessing:numerical_transformer:rescaling:__choice__': \"\n",
      " \"'standardize', 'feature_preprocessor:__choice__': 'select_rates_regression', \"\n",
      " \"'regressor:__choice__': 'liblinear_svr', \"\n",
      " \"'feature_preprocessor:select_rates_regression:alpha': 0.034904198000955684, \"\n",
      " \"'feature_preprocessor:select_rates_regression:mode': 'fdr', \"\n",
      " \"'feature_preprocessor:select_rates_regression:score_func': 'f_regression', \"\n",
      " \"'regressor:liblinear_svr:C': 35.012615180923554, \"\n",
      " \"'regressor:liblinear_svr:dual': 'False', 'regressor:liblinear_svr:epsilon': \"\n",
      " \"0.7326132441316412, 'regressor:liblinear_svr:fit_intercept': 'True', \"\n",
      " \"'regressor:liblinear_svr:intercept_scaling': 1, \"\n",
      " \"'regressor:liblinear_svr:loss': 'squared_epsilon_insensitive', \"\n",
      " \"'regressor:liblinear_svr:tol': 0.00012982617662684841},\\n\"\n",
      " 'dataset_properties={\\n'\n",
      " \"  'task': 4,\\n\"\n",
      " \"  'sparse': False,\\n\"\n",
      " \"  'multioutput': False,\\n\"\n",
      " \"  'target_type': 'regression',\\n\"\n",
      " \"  'signed': False})),\\n\"\n",
      " ']')\n"
     ]
    }
   ],
   "source": [
    "pprint(model.show_models(), indent=4)"
   ]
  },
  {
   "cell_type": "code",
   "execution_count": null,
   "metadata": {},
   "outputs": [],
   "source": []
  },
  {
   "cell_type": "code",
   "execution_count": null,
   "metadata": {},
   "outputs": [],
   "source": []
  },
  {
   "cell_type": "code",
   "execution_count": 19,
   "metadata": {
    "ExecuteTime": {
     "end_time": "2022-03-26T14:50:27.516150Z",
     "start_time": "2022-03-26T14:50:27.507837Z"
    }
   },
   "outputs": [],
   "source": [
    "test_data = vali_data.copy()"
   ]
  },
  {
   "cell_type": "code",
   "execution_count": 20,
   "metadata": {
    "ExecuteTime": {
     "end_time": "2022-03-26T14:50:28.608359Z",
     "start_time": "2022-03-26T14:50:28.544808Z"
    }
   },
   "outputs": [],
   "source": [
    "test_data['pred'] = model.predict(vali_data[x_col])"
   ]
  },
  {
   "cell_type": "code",
   "execution_count": 29,
   "metadata": {
    "ExecuteTime": {
     "end_time": "2022-03-26T16:26:33.188024Z",
     "start_time": "2022-03-26T16:26:33.040174Z"
    },
    "scrolled": false
   },
   "outputs": [
    {
     "data": {
      "text/plain": [
       "<matplotlib.axes._subplots.AxesSubplot object at 0x7f4c3a1582b0>"
      ]
     },
     "execution_count": 29,
     "metadata": {},
     "output_type": "execute_result"
    },
    {
     "data": {
      "image/png": "[encoded data removed]",
      "text/plain": [
       "<Figure size 360x360 with 1 Axes>"
      ]
     },
     "metadata": {
      "needs_background": "light"
     },
     "output_type": "display_data"
    }
   ],
   "source": [
    "plt.figure(figsize = (5,5))\n",
    "g1 = sns.scatterplot(data=test_data, x='Target', y='pred',)\n",
    "g1.set_xlim([0, 30])\n",
    "g1.set_ylim([0, 30])\n",
    "sns.lineplot(x=[0, 30], y=[0, 30], color='red')"
   ]
  },
  {
   "cell_type": "code",
   "execution_count": 22,
   "metadata": {
    "ExecuteTime": {
     "end_time": "2022-03-26T14:50:29.692110Z",
     "start_time": "2022-03-26T14:50:29.681176Z"
    }
   },
   "outputs": [
    {
     "data": {
      "text/plain": [
       "15.766"
      ]
     },
     "execution_count": 22,
     "metadata": {},
     "output_type": "execute_result"
    }
   ],
   "source": [
    "round(NMAE(test_data.Target, test_data.pred)*100, 3)"
   ]
  },
  {
   "cell_type": "markdown",
   "metadata": {},
   "source": [
    "|종류|NMAE|\n",
    "|---|---|\n",
    "|AutoML|15.766|"
   ]
  },
  {
   "cell_type": "code",
   "execution_count": null,
   "metadata": {},
   "outputs": [],
   "source": []
  },
  {
   "cell_type": "code",
   "execution_count": null,
   "metadata": {},
   "outputs": [],
   "source": []
  }
 ],
 "metadata": {
  "kernelspec": {
   "display_name": "api",
   "language": "python",
   "name": "api"
  },
  "language_info": {
   "codemirror_mode": {
    "name": "ipython",
    "version": 3
   },
   "file_extension": ".py",
   "mimetype": "text/x-python",
   "name": "python",
   "nbconvert_exporter": "python",
   "pygments_lexer": "ipython3",
   "version": "3.6.3"
  },
  "toc": {
   "base_numbering": 1,
   "nav_menu": {},
   "number_sections": true,
   "sideBar": true,
   "skip_h1_title": false,
   "title_cell": "Table of Contents",
   "title_sidebar": "Contents",
   "toc_cell": false,
   "toc_position": {},
   "toc_section_display": true,
   "toc_window_display": false
  },
  "varInspector": {
   "cols": {
    "lenName": 16,
    "lenType": 16,
    "lenVar": 40
   },
   "kernels_config": {
    "python": {
     "delete_cmd_postfix": "",
     "delete_cmd_prefix": "del ",
     "library": "var_list.py",
     "varRefreshCmd": "print(var_dic_list())"
    },
    "r": {
     "delete_cmd_postfix": ") ",
     "delete_cmd_prefix": "rm(",
     "library": "var_list.r",
     "varRefreshCmd": "cat(var_dic_list()) "
    }
   },
   "types_to_exclude": [
    "module",
    "function",
    "builtin_function_or_method",
    "instance",
    "_Feature"
   ],
   "window_display": false
  }
 },
 "nbformat": 4,
 "nbformat_minor": 4
}
