{
 "cells": [
  {
   "cell_type": "markdown",
   "metadata": {},
   "source": [
    "# AutoML"
   ]
  },
  {
   "cell_type": "code",
   "execution_count": 1,
   "metadata": {
    "ExecuteTime": {
     "end_time": "2022-04-17T06:59:46.104048Z",
     "start_time": "2022-04-17T06:59:46.062095Z"
    }
   },
   "outputs": [
    {
     "ename": "ModuleNotFoundError",
     "evalue": "No module named 'autosklearn'",
     "output_type": "error",
     "traceback": [
      "\u001b[0;31m---------------------------------------------------------------------------\u001b[0m",
      "\u001b[0;31mModuleNotFoundError\u001b[0m                       Traceback (most recent call last)",
      "\u001b[0;32m<ipython-input-1-893f7d26eb9d>\u001b[0m in \u001b[0;36m<module>\u001b[0;34m\u001b[0m\n\u001b[1;32m      1\u001b[0m \u001b[0;32mfrom\u001b[0m \u001b[0mpprint\u001b[0m \u001b[0;32mimport\u001b[0m \u001b[0mpprint\u001b[0m\u001b[0;34m\u001b[0m\u001b[0m\n\u001b[1;32m      2\u001b[0m \u001b[0;34m\u001b[0m\u001b[0m\n\u001b[0;32m----> 3\u001b[0;31m \u001b[0;32mfrom\u001b[0m \u001b[0mautosklearn\u001b[0m\u001b[0;34m.\u001b[0m\u001b[0mregression\u001b[0m \u001b[0;32mimport\u001b[0m \u001b[0mAutoSklearnRegressor\u001b[0m\u001b[0;34m\u001b[0m\u001b[0m\n\u001b[0m",
      "\u001b[0;31mModuleNotFoundError\u001b[0m: No module named 'autosklearn'"
     ]
    }
   ],
   "source": [
    "from pprint import pprint\n",
    "\n",
    "from autosklearn.regression import AutoSklearnRegressor"
   ]
  },
  {
   "cell_type": "code",
   "execution_count": null,
   "metadata": {
    "ExecuteTime": {
     "end_time": "2022-04-17T06:59:46.106254Z",
     "start_time": "2022-04-17T06:59:45.845Z"
    }
   },
   "outputs": [],
   "source": [
    "import pandas as pd\n",
    "import numpy as np\n",
    "import seaborn as sns\n",
    "\n",
    "import matplotlib.pyplot as plt"
   ]
  },
  {
   "cell_type": "code",
   "execution_count": null,
   "metadata": {
    "ExecuteTime": {
     "end_time": "2022-04-17T06:59:46.106900Z",
     "start_time": "2022-04-17T06:59:45.846Z"
    }
   },
   "outputs": [],
   "source": [
    "def NMAE(true, pred):\n",
    "    mae = np.mean(np.abs(true-pred))\n",
    "    score = mae / np.mean(np.abs(true))\n",
    "    return score"
   ]
  },
  {
   "cell_type": "code",
   "execution_count": null,
   "metadata": {
    "ExecuteTime": {
     "end_time": "2022-04-17T06:59:46.107492Z",
     "start_time": "2022-04-17T06:59:45.848Z"
    }
   },
   "outputs": [],
   "source": [
    "raw_data = pd.read_csv('data/train_data_hs.csv',)"
   ]
  },
  {
   "cell_type": "code",
   "execution_count": null,
   "metadata": {
    "ExecuteTime": {
     "end_time": "2022-04-17T06:59:46.108045Z",
     "start_time": "2022-04-17T06:59:45.850Z"
    }
   },
   "outputs": [],
   "source": [
    "train_data = raw_data[~(raw_data.id%10).isin([3,5,7])]\n",
    "vali_data = raw_data[(raw_data.id%10).isin([3,5,7])]"
   ]
  },
  {
   "cell_type": "code",
   "execution_count": null,
   "metadata": {
    "ExecuteTime": {
     "end_time": "2022-04-17T06:59:46.108674Z",
     "start_time": "2022-04-17T06:59:45.851Z"
    }
   },
   "outputs": [],
   "source": [
    "y_col = ['Target']"
   ]
  },
  {
   "cell_type": "code",
   "execution_count": null,
   "metadata": {
    "ExecuteTime": {
     "end_time": "2022-04-17T06:59:46.109177Z",
     "start_time": "2022-04-17T06:59:45.853Z"
    }
   },
   "outputs": [],
   "source": [
    "x_col = list(raw_data.columns)\n",
    "x_col.remove('id')\n",
    "x_col.remove('Target')"
   ]
  },
  {
   "cell_type": "code",
   "execution_count": null,
   "metadata": {
    "ExecuteTime": {
     "end_time": "2022-04-17T06:59:46.109699Z",
     "start_time": "2022-04-17T06:59:45.854Z"
    }
   },
   "outputs": [],
   "source": [
    "train_X = train_data[x_col]"
   ]
  },
  {
   "cell_type": "code",
   "execution_count": null,
   "metadata": {
    "ExecuteTime": {
     "end_time": "2022-04-17T06:59:46.110224Z",
     "start_time": "2022-04-17T06:59:45.855Z"
    }
   },
   "outputs": [],
   "source": [
    "train_y = train_data[y_col]"
   ]
  },
  {
   "cell_type": "code",
   "execution_count": null,
   "metadata": {
    "ExecuteTime": {
     "end_time": "2022-04-17T06:59:46.110792Z",
     "start_time": "2022-04-17T06:59:45.857Z"
    }
   },
   "outputs": [],
   "source": [
    "model = AutoSklearnRegressor(\n",
    "    time_left_for_this_task=120,\n",
    "    per_run_time_limit=30,)"
   ]
  },
  {
   "cell_type": "code",
   "execution_count": null,
   "metadata": {
    "ExecuteTime": {
     "end_time": "2022-04-17T06:59:46.111315Z",
     "start_time": "2022-04-17T06:59:45.859Z"
    }
   },
   "outputs": [],
   "source": [
    "model.fit(train_X, train_y, dataset_name='diabetes')"
   ]
  },
  {
   "cell_type": "code",
   "execution_count": null,
   "metadata": {
    "ExecuteTime": {
     "end_time": "2022-04-17T06:59:46.111886Z",
     "start_time": "2022-04-17T06:59:45.861Z"
    }
   },
   "outputs": [],
   "source": [
    "pprint(model.show_models(), indent=4)"
   ]
  },
  {
   "cell_type": "code",
   "execution_count": null,
   "metadata": {},
   "outputs": [],
   "source": []
  },
  {
   "cell_type": "code",
   "execution_count": null,
   "metadata": {},
   "outputs": [],
   "source": []
  },
  {
   "cell_type": "code",
   "execution_count": null,
   "metadata": {
    "ExecuteTime": {
     "end_time": "2022-04-17T06:59:46.112402Z",
     "start_time": "2022-04-17T06:59:45.864Z"
    }
   },
   "outputs": [],
   "source": [
    "test_data = vali_data.copy()"
   ]
  },
  {
   "cell_type": "code",
   "execution_count": null,
   "metadata": {
    "ExecuteTime": {
     "end_time": "2022-04-17T06:59:46.112890Z",
     "start_time": "2022-04-17T06:59:45.865Z"
    }
   },
   "outputs": [],
   "source": [
    "test_data['pred'] = model.predict(vali_data[x_col])"
   ]
  },
  {
   "cell_type": "code",
   "execution_count": null,
   "metadata": {
    "ExecuteTime": {
     "end_time": "2022-04-17T06:59:46.113551Z",
     "start_time": "2022-04-17T06:59:45.867Z"
    },
    "scrolled": false
   },
   "outputs": [],
   "source": [
    "plt.figure(figsize = (5,5))\n",
    "g1 = sns.scatterplot(data=test_data, x='Target', y='pred',)\n",
    "g1.set_xlim([0, 30])\n",
    "g1.set_ylim([0, 30])\n",
    "sns.lineplot(x=[0, 30], y=[0, 30], color='red')"
   ]
  },
  {
   "cell_type": "code",
   "execution_count": null,
   "metadata": {
    "ExecuteTime": {
     "end_time": "2022-04-17T06:59:46.114119Z",
     "start_time": "2022-04-17T06:59:45.868Z"
    }
   },
   "outputs": [],
   "source": [
    "round(NMAE(test_data.Target, test_data.pred)*100, 3)"
   ]
  },
  {
   "cell_type": "markdown",
   "metadata": {},
   "source": [
    "|종류|NMAE|\n",
    "|---|---|\n",
    "|AutoML|15.766|"
   ]
  },
  {
   "cell_type": "markdown",
   "metadata": {},
   "source": [
    "# Ensemble"
   ]
  },
  {
   "cell_type": "code",
   "execution_count": null,
   "metadata": {
    "ExecuteTime": {
     "end_time": "2022-04-17T06:59:46.114630Z",
     "start_time": "2022-04-17T06:59:45.870Z"
    }
   },
   "outputs": [],
   "source": [
    "raw_data = pd.read_csv('data/train_data_hs.csv',)"
   ]
  },
  {
   "cell_type": "code",
   "execution_count": null,
   "metadata": {
    "ExecuteTime": {
     "end_time": "2022-04-17T06:59:46.115229Z",
     "start_time": "2022-04-17T06:59:45.872Z"
    }
   },
   "outputs": [],
   "source": [
    "raw_data['Target'].hist(bins=50)"
   ]
  },
  {
   "cell_type": "code",
   "execution_count": null,
   "metadata": {
    "ExecuteTime": {
     "end_time": "2022-04-17T06:59:46.115734Z",
     "start_time": "2022-04-17T06:59:45.873Z"
    }
   },
   "outputs": [],
   "source": [
    "raw_data[raw_data['Target']>15]['Diameter'].hist(bins=50, color='red', alpha=0.5)\n",
    "raw_data[raw_data['Target']<=15]['Diameter'].hist(bins=50, color='blue', alpha=0.5)\n",
    "print(raw_data[raw_data['Target']>15]['Diameter'].min())"
   ]
  },
  {
   "cell_type": "code",
   "execution_count": null,
   "metadata": {
    "ExecuteTime": {
     "end_time": "2022-04-17T06:59:46.116279Z",
     "start_time": "2022-04-17T06:59:45.874Z"
    }
   },
   "outputs": [],
   "source": [
    "y_col = ['Target']"
   ]
  },
  {
   "cell_type": "code",
   "execution_count": null,
   "metadata": {
    "ExecuteTime": {
     "end_time": "2022-04-17T06:59:46.116768Z",
     "start_time": "2022-04-17T06:59:45.875Z"
    }
   },
   "outputs": [],
   "source": [
    "x_col = list(raw_data.columns)\n",
    "x_col.remove('id')\n",
    "x_col.remove('Target')"
   ]
  },
  {
   "cell_type": "code",
   "execution_count": null,
   "metadata": {
    "ExecuteTime": {
     "end_time": "2022-04-17T06:59:46.117243Z",
     "start_time": "2022-04-17T06:59:45.877Z"
    }
   },
   "outputs": [],
   "source": [
    "train_data = raw_data[~(raw_data.id%10).isin([3,5,7])]\n",
    "vali_data = raw_data[(raw_data.id%10).isin([3,5,7])]"
   ]
  },
  {
   "cell_type": "markdown",
   "metadata": {},
   "source": [
    "* md_name == 0  : old\n",
    "* md_name == 1  : young"
   ]
  },
  {
   "cell_type": "code",
   "execution_count": null,
   "metadata": {
    "ExecuteTime": {
     "end_time": "2022-04-17T06:59:46.117739Z",
     "start_time": "2022-04-17T06:59:45.878Z"
    }
   },
   "outputs": [],
   "source": [
    "# train_data1 = train_data[train_data['Diameter'] >= 0.315]\n",
    "# train_data2 = train_data[train_data['Diameter'] < 0.315]"
   ]
  },
  {
   "cell_type": "code",
   "execution_count": null,
   "metadata": {
    "ExecuteTime": {
     "end_time": "2022-04-17T06:59:46.118418Z",
     "start_time": "2022-04-17T06:59:45.879Z"
    }
   },
   "outputs": [],
   "source": [
    "test_data = vali_data.copy()\n",
    "res = []\n",
    "\n",
    "for md_name in [0, 1]:\n",
    "    \n",
    "    if md_name == 0:\n",
    "        train_data2 = train_data[train_data['Diameter'] >= 0.315]\n",
    "        test_data2 = test_data[test_data['Diameter'] >= 0.315]\n",
    "    if md_name == 1:\n",
    "        train_data2 = train_data[train_data['Diameter'] < 0.315]\n",
    "        test_data2 = test_data[test_data['Diameter'] < 0.315]\n",
    "        \n",
    "    train_X = train_data2[x_col]\n",
    "\n",
    "    train_y = train_data2[y_col]\n",
    "\n",
    "    model = AutoSklearnRegressor(\n",
    "        time_left_for_this_task=120,\n",
    "        per_run_time_limit=30,)\n",
    "\n",
    "    model.fit(train_X, train_y, dataset_name='diabetes')\n",
    "    \n",
    "    res.append(model.predict(test_data2[x_col]))"
   ]
  },
  {
   "cell_type": "code",
   "execution_count": null,
   "metadata": {
    "ExecuteTime": {
     "end_time": "2022-04-17T06:59:46.118935Z",
     "start_time": "2022-04-17T06:59:45.880Z"
    },
    "scrolled": true
   },
   "outputs": [],
   "source": [
    "res"
   ]
  },
  {
   "cell_type": "code",
   "execution_count": null,
   "metadata": {
    "ExecuteTime": {
     "end_time": "2022-04-17T06:59:46.119517Z",
     "start_time": "2022-04-17T06:59:45.882Z"
    }
   },
   "outputs": [],
   "source": [
    "test_data.loc[test_data['Diameter'] >= 0.315, 'pred'] = res[0]\n",
    "test_data.loc[test_data['Diameter'] < 0.315, 'pred'] = res[1]"
   ]
  },
  {
   "cell_type": "code",
   "execution_count": null,
   "metadata": {
    "ExecuteTime": {
     "end_time": "2022-04-17T06:59:46.120039Z",
     "start_time": "2022-04-17T06:59:45.883Z"
    }
   },
   "outputs": [],
   "source": [
    "plt.figure(figsize = (5,5))\n",
    "g1 = sns.scatterplot(data=test_data, x='Target', y='pred',)\n",
    "g1.set_xlim([0, 30])\n",
    "g1.set_ylim([0, 30])\n",
    "sns.lineplot(x=[0, 30], y=[0, 30], color='red')"
   ]
  },
  {
   "cell_type": "code",
   "execution_count": null,
   "metadata": {
    "ExecuteTime": {
     "end_time": "2022-04-17T06:59:46.120575Z",
     "start_time": "2022-04-17T06:59:45.884Z"
    }
   },
   "outputs": [],
   "source": [
    "round(NMAE(test_data.Target, test_data.pred)*100, 3)"
   ]
  },
  {
   "cell_type": "code",
   "execution_count": null,
   "metadata": {},
   "outputs": [],
   "source": []
  },
  {
   "cell_type": "markdown",
   "metadata": {},
   "source": [
    "# 제출"
   ]
  },
  {
   "cell_type": "code",
   "execution_count": null,
   "metadata": {
    "ExecuteTime": {
     "end_time": "2022-04-17T06:59:46.121237Z",
     "start_time": "2022-04-17T06:59:45.886Z"
    }
   },
   "outputs": [],
   "source": [
    "test_data = pd.read_csv('data/test.csv')\n",
    "test_data = test_data.join(pd.get_dummies(test_data['Gender'])).drop(['Gender'], axis=1)\n",
    "test_data[['F', 'I', 'M']] = test_data[['F', 'I', 'M']].astype('int')"
   ]
  },
  {
   "cell_type": "code",
   "execution_count": null,
   "metadata": {
    "ExecuteTime": {
     "end_time": "2022-04-17T06:59:46.121738Z",
     "start_time": "2022-04-17T06:59:45.888Z"
    },
    "scrolled": true
   },
   "outputs": [],
   "source": [
    "res = []\n",
    "\n",
    "for md_name in [0, 1]:\n",
    "    \n",
    "    if md_name == 0:\n",
    "        train_data2 = train_data[train_data['Diameter'] >= 0.315]\n",
    "        test_data2 = test_data[test_data['Diameter'] >= 0.315]\n",
    "    if md_name == 1:\n",
    "        train_data2 = train_data[train_data['Diameter'] < 0.315]\n",
    "        test_data2 = test_data[test_data['Diameter'] < 0.315]\n",
    "        \n",
    "    train_X = train_data2[x_col]\n",
    "\n",
    "    train_y = train_data2[y_col]\n",
    "\n",
    "    model = AutoSklearnRegressor(\n",
    "        time_left_for_this_task=120,\n",
    "        per_run_time_limit=30,)\n",
    "\n",
    "    model.fit(train_X, train_y, dataset_name='diabetes')\n",
    "    \n",
    "    res.append(model.predict(test_data2[x_col]))"
   ]
  },
  {
   "cell_type": "code",
   "execution_count": null,
   "metadata": {},
   "outputs": [],
   "source": []
  },
  {
   "cell_type": "code",
   "execution_count": null,
   "metadata": {},
   "outputs": [],
   "source": []
  },
  {
   "cell_type": "code",
   "execution_count": null,
   "metadata": {
    "ExecuteTime": {
     "end_time": "2022-04-17T06:59:46.122275Z",
     "start_time": "2022-04-17T06:59:45.890Z"
    }
   },
   "outputs": [],
   "source": [
    "test_data.loc[test_data['Diameter'] >= 0.315, 'pred'] = res[0]\n",
    "test_data.loc[test_data['Diameter'] < 0.315, 'pred'] = res[1]"
   ]
  },
  {
   "cell_type": "code",
   "execution_count": null,
   "metadata": {
    "ExecuteTime": {
     "end_time": "2022-04-17T06:59:46.122817Z",
     "start_time": "2022-04-17T06:59:45.892Z"
    }
   },
   "outputs": [],
   "source": [
    "res_data = test_data[['id', 'pred']]\n",
    "res_data.rename(columns={'pred':'Target'}, inplace=True)"
   ]
  },
  {
   "cell_type": "code",
   "execution_count": null,
   "metadata": {
    "ExecuteTime": {
     "end_time": "2022-04-17T06:59:46.123358Z",
     "start_time": "2022-04-17T06:59:45.893Z"
    }
   },
   "outputs": [],
   "source": [
    "res_data.to_csv('result/res_autosklearn_split_diameter0315.csv', index=False)"
   ]
  },
  {
   "cell_type": "code",
   "execution_count": null,
   "metadata": {},
   "outputs": [],
   "source": []
  },
  {
   "cell_type": "code",
   "execution_count": null,
   "metadata": {},
   "outputs": [],
   "source": []
  },
  {
   "cell_type": "code",
   "execution_count": null,
   "metadata": {},
   "outputs": [],
   "source": []
  },
  {
   "cell_type": "code",
   "execution_count": null,
   "metadata": {},
   "outputs": [],
   "source": []
  },
  {
   "cell_type": "code",
   "execution_count": null,
   "metadata": {},
   "outputs": [],
   "source": []
  },
  {
   "cell_type": "code",
   "execution_count": null,
   "metadata": {},
   "outputs": [],
   "source": []
  }
 ],
 "metadata": {
  "kernelspec": {
   "display_name": "keras",
   "language": "python",
   "name": "keras"
  },
  "language_info": {
   "codemirror_mode": {
    "name": "ipython",
    "version": 3
   },
   "file_extension": ".py",
   "mimetype": "text/x-python",
   "name": "python",
   "nbconvert_exporter": "python",
   "pygments_lexer": "ipython3",
   "version": "3.6.3"
  },
  "toc": {
   "base_numbering": 1,
   "nav_menu": {},
   "number_sections": true,
   "sideBar": true,
   "skip_h1_title": false,
   "title_cell": "Table of Contents",
   "title_sidebar": "Contents",
   "toc_cell": false,
   "toc_position": {},
   "toc_section_display": true,
   "toc_window_display": false
  },
  "varInspector": {
   "cols": {
    "lenName": 16,
    "lenType": 16,
    "lenVar": 40
   },
   "kernels_config": {
    "python": {
     "delete_cmd_postfix": "",
     "delete_cmd_prefix": "del ",
     "library": "var_list.py",
     "varRefreshCmd": "print(var_dic_list())"
    },
    "r": {
     "delete_cmd_postfix": ") ",
     "delete_cmd_prefix": "rm(",
     "library": "var_list.r",
     "varRefreshCmd": "cat(var_dic_list()) "
    }
   },
   "types_to_exclude": [
    "module",
    "function",
    "builtin_function_or_method",
    "instance",
    "_Feature"
   ],
   "window_display": false
  }
 },
 "nbformat": 4,
 "nbformat_minor": 4
}
