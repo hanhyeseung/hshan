{
 "cells": [
  {
   "cell_type": "code",
   "execution_count": 9,
   "metadata": {
    "ExecuteTime": {
     "end_time": "2022-04-17T06:34:21.912132Z",
     "start_time": "2022-04-17T06:34:21.905877Z"
    }
   },
   "outputs": [],
   "source": [
    "import pandas as pd"
   ]
  },
  {
   "cell_type": "code",
   "execution_count": 3,
   "metadata": {
    "ExecuteTime": {
     "end_time": "2022-04-17T05:52:58.664154Z",
     "start_time": "2022-04-17T05:52:58.657942Z"
    }
   },
   "outputs": [],
   "source": [
    "from tensorflow.keras.layers import *\n",
    "from tensorflow.keras.models import *\n",
    "from tensorflow.keras.optimizers import *\n",
    "from tensorflow.keras.callbacks import *"
   ]
  },
  {
   "cell_type": "code",
   "execution_count": 6,
   "metadata": {
    "ExecuteTime": {
     "end_time": "2022-04-17T06:34:16.608169Z",
     "start_time": "2022-04-17T06:34:16.602646Z"
    }
   },
   "outputs": [],
   "source": [
    "def NMAE(true, pred):\n",
    "    mae = np.mean(np.abs(true-pred))\n",
    "    score = mae / np.mean(np.abs(true))\n",
    "    return score"
   ]
  },
  {
   "cell_type": "code",
   "execution_count": 10,
   "metadata": {
    "ExecuteTime": {
     "end_time": "2022-04-17T06:34:23.876116Z",
     "start_time": "2022-04-17T06:34:23.654470Z"
    }
   },
   "outputs": [],
   "source": [
    "raw_data = pd.read_csv('data/train_data_hs.csv',)"
   ]
  },
  {
   "cell_type": "code",
   "execution_count": 11,
   "metadata": {
    "ExecuteTime": {
     "end_time": "2022-04-17T06:34:24.056101Z",
     "start_time": "2022-04-17T06:34:24.009645Z"
    }
   },
   "outputs": [],
   "source": [
    "train_data = raw_data[~(raw_data.id%10).isin([3,5,7])]\n",
    "vali_data = raw_data[(raw_data.id%10).isin([3,5,7])]"
   ]
  },
  {
   "cell_type": "code",
   "execution_count": 12,
   "metadata": {
    "ExecuteTime": {
     "end_time": "2022-04-17T06:34:24.296107Z",
     "start_time": "2022-04-17T06:34:24.290983Z"
    }
   },
   "outputs": [],
   "source": [
    "y_col = ['Target']"
   ]
  },
  {
   "cell_type": "code",
   "execution_count": 13,
   "metadata": {
    "ExecuteTime": {
     "end_time": "2022-04-17T06:34:24.664140Z",
     "start_time": "2022-04-17T06:34:24.657916Z"
    }
   },
   "outputs": [],
   "source": [
    "x_col = list(raw_data.columns)\n",
    "x_col.remove('id')\n",
    "x_col.remove('Target')"
   ]
  },
  {
   "cell_type": "code",
   "execution_count": 14,
   "metadata": {
    "ExecuteTime": {
     "end_time": "2022-04-17T06:34:25.068118Z",
     "start_time": "2022-04-17T06:34:25.060033Z"
    }
   },
   "outputs": [],
   "source": [
    "train_X = train_data[x_col]"
   ]
  },
  {
   "cell_type": "code",
   "execution_count": 15,
   "metadata": {
    "ExecuteTime": {
     "end_time": "2022-04-17T06:34:25.392117Z",
     "start_time": "2022-04-17T06:34:25.384618Z"
    }
   },
   "outputs": [],
   "source": [
    "train_y = train_data[y_col]"
   ]
  },
  {
   "cell_type": "code",
   "execution_count": 16,
   "metadata": {
    "ExecuteTime": {
     "end_time": "2022-04-17T06:34:26.080042Z",
     "start_time": "2022-04-17T06:34:25.727447Z"
    }
   },
   "outputs": [],
   "source": [
    "model = Sequential()\n",
    "model.add(Dense(16, input_dim=len(train_X.columns), activation='elu'))\n",
    "model.add(Dense(32, activation='elu'))    \n",
    "model.add(Dense(64, activation='elu'))  \n",
    "model.add(Dropout(0.5))  \n",
    "model.add(Dense(32, activation='elu'))\n",
    "model.add(Dense(16, activation='elu'))\n",
    "model.add(Dense(1))\n",
    "\n",
    "\n",
    "model.compile(loss='mean_absolute_error',\n",
    "              optimizer='Nadam', \n",
    "              metrics=['mae'])"
   ]
  },
  {
   "cell_type": "code",
   "execution_count": 17,
   "metadata": {
    "ExecuteTime": {
     "end_time": "2022-04-17T06:35:13.212054Z",
     "start_time": "2022-04-17T06:34:26.178967Z"
    }
   },
   "outputs": [
    {
     "name": "stdout",
     "output_type": "stream",
     "text": [
      "Epoch 1/1000\n",
      "20/20 [==============================] - 2s 25ms/step - loss: 8.9420 - mae: 8.9420 - val_loss: 6.0906 - val_mae: 6.0906\n",
      "INFO:tensorflow:Assets written to: model/assets\n",
      "Epoch 2/1000\n",
      "20/20 [==============================] - 0s 3ms/step - loss: 4.4700 - mae: 4.4700 - val_loss: 1.9232 - val_mae: 1.9232\n",
      "INFO:tensorflow:Assets written to: model/assets\n",
      "Epoch 3/1000\n",
      "20/20 [==============================] - 0s 2ms/step - loss: 1.9770 - mae: 1.9770 - val_loss: 1.8727 - val_mae: 1.8727\n",
      "INFO:tensorflow:Assets written to: model/assets\n",
      "Epoch 4/1000\n",
      "20/20 [==============================] - 0s 3ms/step - loss: 1.8733 - mae: 1.8733 - val_loss: 1.8400 - val_mae: 1.8400\n",
      "INFO:tensorflow:Assets written to: model/assets\n",
      "Epoch 5/1000\n",
      "20/20 [==============================] - 0s 3ms/step - loss: 1.8485 - mae: 1.8485 - val_loss: 1.8890 - val_mae: 1.8890\n",
      "Epoch 6/1000\n",
      "20/20 [==============================] - 0s 4ms/step - loss: 1.8637 - mae: 1.8637 - val_loss: 1.8153 - val_mae: 1.8153\n",
      "INFO:tensorflow:Assets written to: model/assets\n",
      "Epoch 7/1000\n",
      "20/20 [==============================] - 0s 3ms/step - loss: 1.8479 - mae: 1.8479 - val_loss: 1.8085 - val_mae: 1.8085\n",
      "INFO:tensorflow:Assets written to: model/assets\n",
      "Epoch 8/1000\n",
      "20/20 [==============================] - 0s 4ms/step - loss: 1.8985 - mae: 1.8985 - val_loss: 1.8075 - val_mae: 1.8075\n",
      "INFO:tensorflow:Assets written to: model/assets\n",
      "Epoch 9/1000\n",
      "20/20 [==============================] - 0s 3ms/step - loss: 1.6964 - mae: 1.6964 - val_loss: 1.8005 - val_mae: 1.8005\n",
      "INFO:tensorflow:Assets written to: model/assets\n",
      "Epoch 10/1000\n",
      "20/20 [==============================] - 0s 9ms/step - loss: 1.7063 - mae: 1.7063 - val_loss: 1.8044 - val_mae: 1.8044\n",
      "Epoch 11/1000\n",
      "20/20 [==============================] - 0s 4ms/step - loss: 1.8467 - mae: 1.8467 - val_loss: 1.7918 - val_mae: 1.7918\n",
      "INFO:tensorflow:Assets written to: model/assets\n",
      "Epoch 12/1000\n",
      "20/20 [==============================] - 0s 4ms/step - loss: 1.7984 - mae: 1.7984 - val_loss: 1.7944 - val_mae: 1.7944\n",
      "Epoch 13/1000\n",
      "20/20 [==============================] - 0s 4ms/step - loss: 1.7967 - mae: 1.7967 - val_loss: 1.8006 - val_mae: 1.8006\n",
      "Epoch 14/1000\n",
      "20/20 [==============================] - 0s 4ms/step - loss: 1.7291 - mae: 1.7291 - val_loss: 1.8220 - val_mae: 1.8220\n",
      "Epoch 15/1000\n",
      "20/20 [==============================] - 0s 4ms/step - loss: 1.6563 - mae: 1.6563 - val_loss: 1.8316 - val_mae: 1.8316\n",
      "Epoch 16/1000\n",
      "20/20 [==============================] - 0s 4ms/step - loss: 1.7791 - mae: 1.7791 - val_loss: 1.7962 - val_mae: 1.7962\n",
      "Epoch 17/1000\n",
      "20/20 [==============================] - 0s 4ms/step - loss: 1.6795 - mae: 1.6795 - val_loss: 1.8278 - val_mae: 1.8278\n",
      "Epoch 18/1000\n",
      "20/20 [==============================] - 0s 4ms/step - loss: 1.6515 - mae: 1.6515 - val_loss: 1.8297 - val_mae: 1.8297\n",
      "Epoch 19/1000\n",
      "20/20 [==============================] - 0s 4ms/step - loss: 1.7000 - mae: 1.7000 - val_loss: 1.7870 - val_mae: 1.7870\n",
      "INFO:tensorflow:Assets written to: model/assets\n",
      "Epoch 20/1000\n",
      "20/20 [==============================] - 0s 3ms/step - loss: 1.6127 - mae: 1.6127 - val_loss: 1.8589 - val_mae: 1.8589\n",
      "Epoch 21/1000\n",
      "20/20 [==============================] - 0s 4ms/step - loss: 1.6137 - mae: 1.6137 - val_loss: 1.8334 - val_mae: 1.8334\n",
      "Epoch 22/1000\n",
      "20/20 [==============================] - 0s 4ms/step - loss: 1.6616 - mae: 1.6616 - val_loss: 1.8035 - val_mae: 1.8035\n",
      "Epoch 23/1000\n",
      "20/20 [==============================] - 0s 3ms/step - loss: 1.6850 - mae: 1.6850 - val_loss: 1.7787 - val_mae: 1.7787\n",
      "INFO:tensorflow:Assets written to: model/assets\n",
      "Epoch 24/1000\n",
      "20/20 [==============================] - 0s 4ms/step - loss: 1.6282 - mae: 1.6282 - val_loss: 1.7775 - val_mae: 1.7775\n",
      "INFO:tensorflow:Assets written to: model/assets\n",
      "Epoch 25/1000\n",
      "20/20 [==============================] - 0s 3ms/step - loss: 1.6995 - mae: 1.6995 - val_loss: 1.7916 - val_mae: 1.7916\n",
      "Epoch 26/1000\n",
      "20/20 [==============================] - 0s 4ms/step - loss: 1.5921 - mae: 1.5921 - val_loss: 1.8201 - val_mae: 1.8201\n",
      "Epoch 27/1000\n",
      "20/20 [==============================] - 0s 2ms/step - loss: 1.6947 - mae: 1.6947 - val_loss: 1.8089 - val_mae: 1.8089\n",
      "Epoch 28/1000\n",
      "20/20 [==============================] - 0s 3ms/step - loss: 1.6307 - mae: 1.6307 - val_loss: 1.7717 - val_mae: 1.7717\n",
      "INFO:tensorflow:Assets written to: model/assets\n",
      "Epoch 29/1000\n",
      "20/20 [==============================] - 0s 3ms/step - loss: 1.6874 - mae: 1.6874 - val_loss: 2.0601 - val_mae: 2.0601\n",
      "Epoch 30/1000\n",
      "20/20 [==============================] - 0s 3ms/step - loss: 1.7187 - mae: 1.7187 - val_loss: 1.7692 - val_mae: 1.7692\n",
      "INFO:tensorflow:Assets written to: model/assets\n",
      "Epoch 31/1000\n",
      "20/20 [==============================] - 0s 3ms/step - loss: 1.6472 - mae: 1.6472 - val_loss: 1.7765 - val_mae: 1.7765\n",
      "Epoch 32/1000\n",
      "20/20 [==============================] - 0s 2ms/step - loss: 1.7247 - mae: 1.7247 - val_loss: 1.8806 - val_mae: 1.8806\n",
      "Epoch 33/1000\n",
      "20/20 [==============================] - 0s 3ms/step - loss: 1.5940 - mae: 1.5940 - val_loss: 1.7488 - val_mae: 1.7488\n",
      "INFO:tensorflow:Assets written to: model/assets\n",
      "Epoch 34/1000\n",
      "20/20 [==============================] - 0s 3ms/step - loss: 1.7113 - mae: 1.7113 - val_loss: 2.0274 - val_mae: 2.0274\n",
      "Epoch 35/1000\n",
      "20/20 [==============================] - 0s 10ms/step - loss: 1.6296 - mae: 1.6296 - val_loss: 1.7935 - val_mae: 1.7935\n",
      "Epoch 36/1000\n",
      "20/20 [==============================] - 0s 3ms/step - loss: 1.6730 - mae: 1.6730 - val_loss: 1.7513 - val_mae: 1.7513\n",
      "Epoch 37/1000\n",
      "20/20 [==============================] - 0s 4ms/step - loss: 1.6591 - mae: 1.6591 - val_loss: 1.7921 - val_mae: 1.7921\n",
      "Epoch 38/1000\n",
      "20/20 [==============================] - 0s 2ms/step - loss: 1.6642 - mae: 1.6642 - val_loss: 1.7737 - val_mae: 1.7737\n",
      "Epoch 39/1000\n",
      "20/20 [==============================] - 0s 3ms/step - loss: 1.6195 - mae: 1.6195 - val_loss: 1.9034 - val_mae: 1.9034\n",
      "Epoch 40/1000\n",
      "20/20 [==============================] - 0s 2ms/step - loss: 1.5680 - mae: 1.5680 - val_loss: 1.7456 - val_mae: 1.7456\n",
      "INFO:tensorflow:Assets written to: model/assets\n",
      "Epoch 41/1000\n",
      "20/20 [==============================] - 0s 3ms/step - loss: 1.5541 - mae: 1.5541 - val_loss: 1.7258 - val_mae: 1.7258\n",
      "INFO:tensorflow:Assets written to: model/assets\n",
      "Epoch 42/1000\n",
      "20/20 [==============================] - 0s 3ms/step - loss: 1.4717 - mae: 1.4717 - val_loss: 1.7592 - val_mae: 1.7592\n",
      "Epoch 43/1000\n",
      "20/20 [==============================] - 0s 3ms/step - loss: 1.5281 - mae: 1.5281 - val_loss: 1.7156 - val_mae: 1.7156\n",
      "INFO:tensorflow:Assets written to: model/assets\n",
      "Epoch 44/1000\n",
      "20/20 [==============================] - 0s 4ms/step - loss: 1.5544 - mae: 1.5544 - val_loss: 1.7325 - val_mae: 1.7325\n",
      "Epoch 45/1000\n",
      "20/20 [==============================] - 0s 4ms/step - loss: 1.5222 - mae: 1.5222 - val_loss: 1.7966 - val_mae: 1.7966\n",
      "Epoch 46/1000\n",
      "20/20 [==============================] - 0s 4ms/step - loss: 1.4888 - mae: 1.4888 - val_loss: 1.7678 - val_mae: 1.7678\n",
      "Epoch 47/1000\n",
      "20/20 [==============================] - 0s 4ms/step - loss: 1.5155 - mae: 1.5155 - val_loss: 1.7376 - val_mae: 1.7376\n",
      "Epoch 48/1000\n",
      "20/20 [==============================] - 0s 4ms/step - loss: 1.5692 - mae: 1.5692 - val_loss: 1.9266 - val_mae: 1.9266\n",
      "Epoch 49/1000\n",
      "20/20 [==============================] - 0s 4ms/step - loss: 1.4925 - mae: 1.4925 - val_loss: 1.8278 - val_mae: 1.8278\n",
      "Epoch 50/1000\n",
      "20/20 [==============================] - 0s 4ms/step - loss: 1.5969 - mae: 1.5969 - val_loss: 1.8140 - val_mae: 1.8140\n",
      "Epoch 51/1000\n",
      "20/20 [==============================] - 0s 4ms/step - loss: 1.5204 - mae: 1.5204 - val_loss: 1.7028 - val_mae: 1.7028\n",
      "INFO:tensorflow:Assets written to: model/assets\n",
      "Epoch 52/1000\n",
      "20/20 [==============================] - 0s 3ms/step - loss: 1.5174 - mae: 1.5174 - val_loss: 1.6795 - val_mae: 1.6795\n",
      "INFO:tensorflow:Assets written to: model/assets\n",
      "Epoch 53/1000\n",
      "20/20 [==============================] - 0s 3ms/step - loss: 1.5708 - mae: 1.5708 - val_loss: 1.6966 - val_mae: 1.6966\n",
      "Epoch 54/1000\n",
      "20/20 [==============================] - 0s 3ms/step - loss: 1.5311 - mae: 1.5311 - val_loss: 1.7582 - val_mae: 1.7582\n",
      "Epoch 55/1000\n"
     ]
    },
    {
     "name": "stdout",
     "output_type": "stream",
     "text": [
      "20/20 [==============================] - 0s 3ms/step - loss: 1.4916 - mae: 1.4916 - val_loss: 1.7345 - val_mae: 1.7345\n",
      "Epoch 56/1000\n",
      "20/20 [==============================] - 0s 2ms/step - loss: 1.5806 - mae: 1.5806 - val_loss: 1.7418 - val_mae: 1.7418\n",
      "Epoch 57/1000\n",
      "20/20 [==============================] - 0s 3ms/step - loss: 1.6087 - mae: 1.6087 - val_loss: 1.8766 - val_mae: 1.8766\n",
      "Epoch 58/1000\n",
      "20/20 [==============================] - 0s 4ms/step - loss: 1.5201 - mae: 1.5201 - val_loss: 1.6817 - val_mae: 1.6817\n",
      "Epoch 59/1000\n",
      "20/20 [==============================] - 0s 2ms/step - loss: 1.5388 - mae: 1.5388 - val_loss: 1.7474 - val_mae: 1.7474\n",
      "Epoch 60/1000\n",
      "20/20 [==============================] - 0s 4ms/step - loss: 1.5245 - mae: 1.5245 - val_loss: 1.7057 - val_mae: 1.7057\n",
      "Epoch 61/1000\n",
      "20/20 [==============================] - 0s 4ms/step - loss: 1.4475 - mae: 1.4475 - val_loss: 1.7527 - val_mae: 1.7527\n",
      "Epoch 62/1000\n",
      "20/20 [==============================] - 0s 2ms/step - loss: 1.5798 - mae: 1.5798 - val_loss: 1.6856 - val_mae: 1.6856\n",
      "Epoch 63/1000\n",
      "20/20 [==============================] - 0s 3ms/step - loss: 1.5659 - mae: 1.5659 - val_loss: 1.6839 - val_mae: 1.6839\n",
      "Epoch 64/1000\n",
      "20/20 [==============================] - 0s 4ms/step - loss: 1.4326 - mae: 1.4326 - val_loss: 1.8558 - val_mae: 1.8558\n",
      "Epoch 65/1000\n",
      "20/20 [==============================] - 0s 4ms/step - loss: 1.5425 - mae: 1.5425 - val_loss: 1.7980 - val_mae: 1.7980\n",
      "Epoch 66/1000\n",
      "20/20 [==============================] - 0s 4ms/step - loss: 1.6152 - mae: 1.6152 - val_loss: 1.7178 - val_mae: 1.7178\n",
      "Epoch 67/1000\n",
      "20/20 [==============================] - 0s 4ms/step - loss: 1.5176 - mae: 1.5176 - val_loss: 1.6852 - val_mae: 1.6852\n",
      "Epoch 68/1000\n",
      "20/20 [==============================] - 0s 3ms/step - loss: 1.4707 - mae: 1.4707 - val_loss: 1.7399 - val_mae: 1.7399\n",
      "Epoch 69/1000\n",
      "20/20 [==============================] - 0s 4ms/step - loss: 1.5407 - mae: 1.5407 - val_loss: 1.6936 - val_mae: 1.6936\n",
      "Epoch 70/1000\n",
      "20/20 [==============================] - 0s 4ms/step - loss: 1.4863 - mae: 1.4863 - val_loss: 1.6728 - val_mae: 1.6728\n",
      "INFO:tensorflow:Assets written to: model/assets\n",
      "Epoch 71/1000\n",
      "20/20 [==============================] - 0s 2ms/step - loss: 1.4879 - mae: 1.4879 - val_loss: 1.8410 - val_mae: 1.8410\n",
      "Epoch 72/1000\n",
      "20/20 [==============================] - 0s 4ms/step - loss: 1.5409 - mae: 1.5409 - val_loss: 1.7005 - val_mae: 1.7005\n",
      "Epoch 73/1000\n",
      "20/20 [==============================] - 0s 4ms/step - loss: 1.4732 - mae: 1.4732 - val_loss: 1.7263 - val_mae: 1.7263\n",
      "Epoch 74/1000\n",
      "20/20 [==============================] - 0s 4ms/step - loss: 1.5788 - mae: 1.5788 - val_loss: 1.6717 - val_mae: 1.6717\n",
      "INFO:tensorflow:Assets written to: model/assets\n",
      "Epoch 75/1000\n",
      "20/20 [==============================] - 0s 3ms/step - loss: 1.6161 - mae: 1.6161 - val_loss: 1.6529 - val_mae: 1.6529\n",
      "INFO:tensorflow:Assets written to: model/assets\n",
      "Epoch 76/1000\n",
      "20/20 [==============================] - 0s 2ms/step - loss: 1.4693 - mae: 1.4693 - val_loss: 1.6947 - val_mae: 1.6947\n",
      "Epoch 77/1000\n",
      "20/20 [==============================] - 0s 4ms/step - loss: 1.5393 - mae: 1.5393 - val_loss: 1.6540 - val_mae: 1.6540\n",
      "Epoch 78/1000\n",
      "20/20 [==============================] - 0s 3ms/step - loss: 1.5441 - mae: 1.5441 - val_loss: 1.6679 - val_mae: 1.6679\n",
      "Epoch 79/1000\n",
      "20/20 [==============================] - 0s 4ms/step - loss: 1.5032 - mae: 1.5032 - val_loss: 1.7233 - val_mae: 1.7233\n",
      "Epoch 80/1000\n",
      "20/20 [==============================] - 0s 4ms/step - loss: 1.4844 - mae: 1.4844 - val_loss: 1.6975 - val_mae: 1.6975\n",
      "Epoch 81/1000\n",
      "20/20 [==============================] - 0s 3ms/step - loss: 1.4936 - mae: 1.4936 - val_loss: 1.7013 - val_mae: 1.7013\n",
      "Epoch 82/1000\n",
      "20/20 [==============================] - 0s 4ms/step - loss: 1.5303 - mae: 1.5303 - val_loss: 1.6659 - val_mae: 1.6659\n",
      "Epoch 83/1000\n",
      "20/20 [==============================] - 0s 4ms/step - loss: 1.5170 - mae: 1.5170 - val_loss: 1.7325 - val_mae: 1.7325\n",
      "Epoch 84/1000\n",
      "20/20 [==============================] - 0s 3ms/step - loss: 1.5064 - mae: 1.5064 - val_loss: 1.7888 - val_mae: 1.7888\n",
      "Epoch 85/1000\n",
      "20/20 [==============================] - 0s 3ms/step - loss: 1.4767 - mae: 1.4767 - val_loss: 1.6617 - val_mae: 1.6617\n",
      "Epoch 86/1000\n",
      "20/20 [==============================] - 0s 3ms/step - loss: 1.4987 - mae: 1.4987 - val_loss: 1.6737 - val_mae: 1.6737\n",
      "Epoch 87/1000\n",
      "20/20 [==============================] - 0s 4ms/step - loss: 1.5005 - mae: 1.5005 - val_loss: 1.6835 - val_mae: 1.6835\n",
      "Epoch 88/1000\n",
      "20/20 [==============================] - 0s 3ms/step - loss: 1.5407 - mae: 1.5407 - val_loss: 1.6501 - val_mae: 1.6501\n",
      "INFO:tensorflow:Assets written to: model/assets\n",
      "Epoch 89/1000\n",
      "20/20 [==============================] - 0s 3ms/step - loss: 1.4283 - mae: 1.4283 - val_loss: 1.6405 - val_mae: 1.6405\n",
      "INFO:tensorflow:Assets written to: model/assets\n",
      "Epoch 90/1000\n",
      "20/20 [==============================] - 0s 2ms/step - loss: 1.5445 - mae: 1.5445 - val_loss: 1.8235 - val_mae: 1.8235\n",
      "Epoch 91/1000\n",
      "20/20 [==============================] - 0s 3ms/step - loss: 1.6315 - mae: 1.6315 - val_loss: 1.7907 - val_mae: 1.7907\n",
      "Epoch 92/1000\n",
      "20/20 [==============================] - 0s 3ms/step - loss: 1.5368 - mae: 1.5368 - val_loss: 1.7252 - val_mae: 1.7252\n",
      "Epoch 93/1000\n",
      "20/20 [==============================] - 0s 3ms/step - loss: 1.5540 - mae: 1.5540 - val_loss: 1.6917 - val_mae: 1.6917\n",
      "Epoch 94/1000\n",
      "20/20 [==============================] - 0s 3ms/step - loss: 1.4436 - mae: 1.4436 - val_loss: 1.6395 - val_mae: 1.6395\n",
      "INFO:tensorflow:Assets written to: model/assets\n",
      "Epoch 95/1000\n",
      "20/20 [==============================] - 0s 4ms/step - loss: 1.5354 - mae: 1.5354 - val_loss: 1.6361 - val_mae: 1.6361\n",
      "INFO:tensorflow:Assets written to: model/assets\n",
      "Epoch 96/1000\n",
      "20/20 [==============================] - 0s 3ms/step - loss: 1.4379 - mae: 1.4379 - val_loss: 1.6313 - val_mae: 1.6313\n",
      "INFO:tensorflow:Assets written to: model/assets\n",
      "Epoch 97/1000\n",
      "20/20 [==============================] - 0s 3ms/step - loss: 1.3514 - mae: 1.3514 - val_loss: 1.6877 - val_mae: 1.6877\n",
      "Epoch 98/1000\n",
      "20/20 [==============================] - 0s 4ms/step - loss: 1.3956 - mae: 1.3956 - val_loss: 1.6274 - val_mae: 1.6274\n",
      "INFO:tensorflow:Assets written to: model/assets\n",
      "Epoch 99/1000\n",
      "20/20 [==============================] - 0s 3ms/step - loss: 1.4562 - mae: 1.4562 - val_loss: 1.9582 - val_mae: 1.9582\n",
      "Epoch 100/1000\n",
      "20/20 [==============================] - 0s 3ms/step - loss: 1.5593 - mae: 1.5593 - val_loss: 1.6192 - val_mae: 1.6192\n",
      "INFO:tensorflow:Assets written to: model/assets\n",
      "Epoch 101/1000\n",
      "20/20 [==============================] - 0s 3ms/step - loss: 1.4925 - mae: 1.4925 - val_loss: 1.6869 - val_mae: 1.6869\n",
      "Epoch 102/1000\n",
      "20/20 [==============================] - 0s 3ms/step - loss: 1.5324 - mae: 1.5324 - val_loss: 1.6206 - val_mae: 1.6206\n",
      "Epoch 103/1000\n",
      "20/20 [==============================] - 0s 2ms/step - loss: 1.5005 - mae: 1.5005 - val_loss: 1.7410 - val_mae: 1.7410\n",
      "Epoch 104/1000\n",
      "20/20 [==============================] - 0s 4ms/step - loss: 1.5034 - mae: 1.5034 - val_loss: 1.6119 - val_mae: 1.6119\n",
      "INFO:tensorflow:Assets written to: model/assets\n",
      "Epoch 105/1000\n",
      "20/20 [==============================] - 0s 2ms/step - loss: 1.4531 - mae: 1.4531 - val_loss: 1.6864 - val_mae: 1.6864\n",
      "Epoch 106/1000\n",
      "20/20 [==============================] - 0s 3ms/step - loss: 1.4886 - mae: 1.4886 - val_loss: 1.6111 - val_mae: 1.6111\n",
      "INFO:tensorflow:Assets written to: model/assets\n",
      "Epoch 107/1000\n",
      "20/20 [==============================] - 0s 4ms/step - loss: 1.5533 - mae: 1.5533 - val_loss: 1.6405 - val_mae: 1.6405\n",
      "Epoch 108/1000\n",
      "20/20 [==============================] - 0s 4ms/step - loss: 1.4724 - mae: 1.4724 - val_loss: 1.6056 - val_mae: 1.6056\n",
      "INFO:tensorflow:Assets written to: model/assets\n",
      "Epoch 109/1000\n",
      "20/20 [==============================] - 0s 2ms/step - loss: 1.4804 - mae: 1.4804 - val_loss: 1.5996 - val_mae: 1.5996\n",
      "INFO:tensorflow:Assets written to: model/assets\n",
      "Epoch 110/1000\n",
      "20/20 [==============================] - 0s 3ms/step - loss: 1.4300 - mae: 1.4300 - val_loss: 1.6138 - val_mae: 1.6138\n",
      "Epoch 111/1000\n"
     ]
    },
    {
     "name": "stdout",
     "output_type": "stream",
     "text": [
      "20/20 [==============================] - 0s 4ms/step - loss: 1.4712 - mae: 1.4712 - val_loss: 1.6308 - val_mae: 1.6308\n",
      "Epoch 112/1000\n",
      "20/20 [==============================] - 0s 4ms/step - loss: 1.4469 - mae: 1.4469 - val_loss: 1.6120 - val_mae: 1.6120\n",
      "Epoch 113/1000\n",
      "20/20 [==============================] - 0s 4ms/step - loss: 1.4768 - mae: 1.4768 - val_loss: 1.6152 - val_mae: 1.6152\n",
      "Epoch 114/1000\n",
      "20/20 [==============================] - 0s 4ms/step - loss: 1.5948 - mae: 1.5948 - val_loss: 1.6101 - val_mae: 1.6101\n",
      "Epoch 115/1000\n",
      "20/20 [==============================] - 0s 4ms/step - loss: 1.5033 - mae: 1.5033 - val_loss: 1.6113 - val_mae: 1.6113\n",
      "Epoch 116/1000\n",
      "20/20 [==============================] - 0s 4ms/step - loss: 1.4271 - mae: 1.4271 - val_loss: 1.5915 - val_mae: 1.5915\n",
      "INFO:tensorflow:Assets written to: model/assets\n",
      "Epoch 117/1000\n",
      "20/20 [==============================] - 0s 2ms/step - loss: 1.5047 - mae: 1.5047 - val_loss: 1.6080 - val_mae: 1.6080\n",
      "Epoch 118/1000\n",
      "20/20 [==============================] - 0s 3ms/step - loss: 1.4393 - mae: 1.4393 - val_loss: 1.6078 - val_mae: 1.6078\n",
      "Epoch 119/1000\n",
      "20/20 [==============================] - 0s 4ms/step - loss: 1.4802 - mae: 1.4802 - val_loss: 1.5969 - val_mae: 1.5969\n",
      "Epoch 120/1000\n",
      "20/20 [==============================] - 0s 4ms/step - loss: 1.5065 - mae: 1.5065 - val_loss: 1.6008 - val_mae: 1.6008\n",
      "Epoch 121/1000\n",
      "20/20 [==============================] - 0s 3ms/step - loss: 1.4473 - mae: 1.4473 - val_loss: 1.6663 - val_mae: 1.6663\n",
      "Epoch 122/1000\n",
      "20/20 [==============================] - 0s 4ms/step - loss: 1.4546 - mae: 1.4546 - val_loss: 1.5758 - val_mae: 1.5758\n",
      "INFO:tensorflow:Assets written to: model/assets\n",
      "Epoch 123/1000\n",
      "20/20 [==============================] - 0s 4ms/step - loss: 1.4587 - mae: 1.4587 - val_loss: 1.6068 - val_mae: 1.6068\n",
      "Epoch 124/1000\n",
      "20/20 [==============================] - 0s 3ms/step - loss: 1.4706 - mae: 1.4706 - val_loss: 1.7251 - val_mae: 1.7251\n",
      "Epoch 125/1000\n",
      "20/20 [==============================] - 0s 4ms/step - loss: 1.5403 - mae: 1.5403 - val_loss: 1.6216 - val_mae: 1.6216\n",
      "Epoch 126/1000\n",
      "20/20 [==============================] - 0s 4ms/step - loss: 1.4692 - mae: 1.4692 - val_loss: 1.5770 - val_mae: 1.5770\n",
      "Epoch 127/1000\n",
      "20/20 [==============================] - 0s 4ms/step - loss: 1.4214 - mae: 1.4214 - val_loss: 1.7574 - val_mae: 1.7574\n",
      "Epoch 128/1000\n",
      "20/20 [==============================] - 0s 4ms/step - loss: 1.5604 - mae: 1.5604 - val_loss: 1.6178 - val_mae: 1.6178\n",
      "Epoch 129/1000\n",
      "20/20 [==============================] - 0s 3ms/step - loss: 1.3769 - mae: 1.3769 - val_loss: 1.7488 - val_mae: 1.7488\n",
      "Epoch 130/1000\n",
      "20/20 [==============================] - 0s 4ms/step - loss: 1.4348 - mae: 1.4348 - val_loss: 1.5703 - val_mae: 1.5703\n",
      "INFO:tensorflow:Assets written to: model/assets\n",
      "Epoch 131/1000\n",
      "20/20 [==============================] - 0s 3ms/step - loss: 1.4160 - mae: 1.4160 - val_loss: 1.6980 - val_mae: 1.6980\n",
      "Epoch 132/1000\n",
      "20/20 [==============================] - 0s 3ms/step - loss: 1.4706 - mae: 1.4706 - val_loss: 1.5708 - val_mae: 1.5708\n",
      "Epoch 133/1000\n",
      "20/20 [==============================] - 0s 4ms/step - loss: 1.4332 - mae: 1.4332 - val_loss: 1.5995 - val_mae: 1.5995\n",
      "Epoch 134/1000\n",
      "20/20 [==============================] - 0s 4ms/step - loss: 1.4557 - mae: 1.4557 - val_loss: 1.5857 - val_mae: 1.5857\n",
      "Epoch 135/1000\n",
      "20/20 [==============================] - 0s 4ms/step - loss: 1.4007 - mae: 1.4007 - val_loss: 1.7173 - val_mae: 1.7173\n",
      "Epoch 136/1000\n",
      "20/20 [==============================] - 0s 4ms/step - loss: 1.4953 - mae: 1.4953 - val_loss: 1.5750 - val_mae: 1.5750\n",
      "Epoch 137/1000\n",
      "20/20 [==============================] - 0s 4ms/step - loss: 1.3869 - mae: 1.3869 - val_loss: 1.5682 - val_mae: 1.5682\n",
      "INFO:tensorflow:Assets written to: model/assets\n",
      "Epoch 138/1000\n",
      "20/20 [==============================] - 0s 4ms/step - loss: 1.4730 - mae: 1.4730 - val_loss: 1.5839 - val_mae: 1.5839\n",
      "Epoch 139/1000\n",
      "20/20 [==============================] - 0s 4ms/step - loss: 1.5112 - mae: 1.5112 - val_loss: 1.5738 - val_mae: 1.5738\n",
      "Epoch 140/1000\n",
      "20/20 [==============================] - 0s 4ms/step - loss: 1.5011 - mae: 1.5011 - val_loss: 1.6109 - val_mae: 1.6109\n",
      "Epoch 141/1000\n",
      "20/20 [==============================] - 0s 3ms/step - loss: 1.6024 - mae: 1.6024 - val_loss: 1.6228 - val_mae: 1.6228\n",
      "Epoch 142/1000\n",
      "20/20 [==============================] - 0s 3ms/step - loss: 1.4629 - mae: 1.4629 - val_loss: 1.6099 - val_mae: 1.6099\n",
      "Epoch 143/1000\n",
      "20/20 [==============================] - 0s 3ms/step - loss: 1.5366 - mae: 1.5366 - val_loss: 1.5907 - val_mae: 1.5907\n",
      "Epoch 144/1000\n",
      "20/20 [==============================] - 0s 4ms/step - loss: 1.4006 - mae: 1.4006 - val_loss: 1.5829 - val_mae: 1.5829\n",
      "Epoch 145/1000\n",
      "20/20 [==============================] - 0s 4ms/step - loss: 1.4452 - mae: 1.4452 - val_loss: 1.5681 - val_mae: 1.5681\n",
      "INFO:tensorflow:Assets written to: model/assets\n",
      "Epoch 146/1000\n",
      "20/20 [==============================] - 0s 4ms/step - loss: 1.4406 - mae: 1.4406 - val_loss: 1.5622 - val_mae: 1.5622\n",
      "INFO:tensorflow:Assets written to: model/assets\n",
      "Epoch 147/1000\n",
      "20/20 [==============================] - 0s 4ms/step - loss: 1.3791 - mae: 1.3791 - val_loss: 1.5635 - val_mae: 1.5635\n",
      "Epoch 148/1000\n",
      "20/20 [==============================] - 0s 4ms/step - loss: 1.3820 - mae: 1.3820 - val_loss: 1.5647 - val_mae: 1.5647\n",
      "Epoch 149/1000\n",
      "20/20 [==============================] - 0s 4ms/step - loss: 1.4689 - mae: 1.4689 - val_loss: 1.5732 - val_mae: 1.5732\n",
      "Epoch 150/1000\n",
      "20/20 [==============================] - 0s 4ms/step - loss: 1.4632 - mae: 1.4632 - val_loss: 1.5967 - val_mae: 1.5967\n",
      "Epoch 151/1000\n",
      "20/20 [==============================] - 0s 4ms/step - loss: 1.4005 - mae: 1.4005 - val_loss: 1.5482 - val_mae: 1.5482\n",
      "INFO:tensorflow:Assets written to: model/assets\n",
      "Epoch 152/1000\n",
      "20/20 [==============================] - 0s 3ms/step - loss: 1.4576 - mae: 1.4576 - val_loss: 1.6545 - val_mae: 1.6545\n",
      "Epoch 153/1000\n",
      "20/20 [==============================] - 0s 4ms/step - loss: 1.4667 - mae: 1.4667 - val_loss: 1.6707 - val_mae: 1.6707\n",
      "Epoch 154/1000\n",
      "20/20 [==============================] - 0s 4ms/step - loss: 1.4712 - mae: 1.4712 - val_loss: 1.5644 - val_mae: 1.5644\n",
      "Epoch 155/1000\n",
      "20/20 [==============================] - 0s 4ms/step - loss: 1.4367 - mae: 1.4367 - val_loss: 1.5650 - val_mae: 1.5650\n",
      "Epoch 156/1000\n",
      "20/20 [==============================] - 0s 3ms/step - loss: 1.4183 - mae: 1.4183 - val_loss: 1.5391 - val_mae: 1.5391\n",
      "INFO:tensorflow:Assets written to: model/assets\n",
      "Epoch 157/1000\n",
      "20/20 [==============================] - 0s 3ms/step - loss: 1.3204 - mae: 1.3204 - val_loss: 1.5995 - val_mae: 1.5995\n",
      "Epoch 158/1000\n",
      "20/20 [==============================] - 0s 3ms/step - loss: 1.5000 - mae: 1.5000 - val_loss: 1.6166 - val_mae: 1.6166\n",
      "Epoch 159/1000\n",
      "20/20 [==============================] - 0s 10ms/step - loss: 1.4370 - mae: 1.4370 - val_loss: 1.5441 - val_mae: 1.5441\n",
      "Epoch 160/1000\n",
      "20/20 [==============================] - 0s 3ms/step - loss: 1.4131 - mae: 1.4131 - val_loss: 1.5515 - val_mae: 1.5515\n",
      "Epoch 161/1000\n",
      "20/20 [==============================] - 0s 4ms/step - loss: 1.3877 - mae: 1.3877 - val_loss: 1.5703 - val_mae: 1.5703\n",
      "Epoch 162/1000\n",
      "20/20 [==============================] - 0s 4ms/step - loss: 1.4030 - mae: 1.4030 - val_loss: 1.5564 - val_mae: 1.5564\n",
      "Epoch 163/1000\n",
      "20/20 [==============================] - 0s 4ms/step - loss: 1.4491 - mae: 1.4491 - val_loss: 1.5997 - val_mae: 1.5997\n",
      "Epoch 164/1000\n",
      "20/20 [==============================] - 0s 4ms/step - loss: 1.5034 - mae: 1.5034 - val_loss: 1.5635 - val_mae: 1.5635\n",
      "Epoch 165/1000\n",
      "20/20 [==============================] - 0s 4ms/step - loss: 1.3797 - mae: 1.3797 - val_loss: 1.5588 - val_mae: 1.5588\n",
      "Epoch 166/1000\n",
      "20/20 [==============================] - 0s 4ms/step - loss: 1.3847 - mae: 1.3847 - val_loss: 1.5551 - val_mae: 1.5551\n",
      "Epoch 167/1000\n",
      "20/20 [==============================] - 0s 4ms/step - loss: 1.4374 - mae: 1.4374 - val_loss: 1.6301 - val_mae: 1.6301\n",
      "Epoch 168/1000\n",
      "20/20 [==============================] - 0s 4ms/step - loss: 1.5123 - mae: 1.5123 - val_loss: 1.5475 - val_mae: 1.5475\n",
      "Epoch 169/1000\n"
     ]
    },
    {
     "name": "stdout",
     "output_type": "stream",
     "text": [
      "20/20 [==============================] - 0s 4ms/step - loss: 1.4424 - mae: 1.4424 - val_loss: 1.6365 - val_mae: 1.6365\n",
      "Epoch 170/1000\n",
      "20/20 [==============================] - 0s 4ms/step - loss: 1.5115 - mae: 1.5115 - val_loss: 1.5333 - val_mae: 1.5333\n",
      "INFO:tensorflow:Assets written to: model/assets\n",
      "Epoch 171/1000\n",
      "20/20 [==============================] - 0s 4ms/step - loss: 1.4050 - mae: 1.4050 - val_loss: 1.5389 - val_mae: 1.5389\n",
      "Epoch 172/1000\n",
      "20/20 [==============================] - 0s 3ms/step - loss: 1.4344 - mae: 1.4344 - val_loss: 1.5538 - val_mae: 1.5538\n",
      "Epoch 173/1000\n",
      "20/20 [==============================] - 0s 3ms/step - loss: 1.4702 - mae: 1.4702 - val_loss: 1.5190 - val_mae: 1.5190\n",
      "INFO:tensorflow:Assets written to: model/assets\n",
      "Epoch 174/1000\n",
      "20/20 [==============================] - 0s 3ms/step - loss: 1.3430 - mae: 1.3430 - val_loss: 1.5816 - val_mae: 1.5816\n",
      "Epoch 175/1000\n",
      "20/20 [==============================] - 0s 2ms/step - loss: 1.5604 - mae: 1.5604 - val_loss: 1.5479 - val_mae: 1.5479\n",
      "Epoch 176/1000\n",
      "20/20 [==============================] - 0s 2ms/step - loss: 1.4714 - mae: 1.4714 - val_loss: 1.5653 - val_mae: 1.5653\n",
      "Epoch 177/1000\n",
      "20/20 [==============================] - 0s 4ms/step - loss: 1.3767 - mae: 1.3767 - val_loss: 1.5635 - val_mae: 1.5635\n",
      "Epoch 178/1000\n",
      "20/20 [==============================] - 0s 4ms/step - loss: 1.4376 - mae: 1.4376 - val_loss: 1.5356 - val_mae: 1.5356\n",
      "Epoch 179/1000\n",
      "20/20 [==============================] - 0s 4ms/step - loss: 1.3756 - mae: 1.3756 - val_loss: 1.5167 - val_mae: 1.5167\n",
      "INFO:tensorflow:Assets written to: model/assets\n",
      "Epoch 180/1000\n",
      "20/20 [==============================] - 0s 3ms/step - loss: 1.4289 - mae: 1.4289 - val_loss: 1.5408 - val_mae: 1.5408\n",
      "Epoch 181/1000\n",
      "20/20 [==============================] - 0s 3ms/step - loss: 1.3943 - mae: 1.3943 - val_loss: 1.5413 - val_mae: 1.5413\n",
      "Epoch 182/1000\n",
      "20/20 [==============================] - 0s 3ms/step - loss: 1.3567 - mae: 1.3567 - val_loss: 1.5458 - val_mae: 1.5458\n",
      "Epoch 183/1000\n",
      "20/20 [==============================] - 0s 2ms/step - loss: 1.4083 - mae: 1.4083 - val_loss: 1.5411 - val_mae: 1.5411\n",
      "Epoch 184/1000\n",
      "20/20 [==============================] - 0s 3ms/step - loss: 1.4712 - mae: 1.4712 - val_loss: 1.6467 - val_mae: 1.6467\n",
      "Epoch 185/1000\n",
      "20/20 [==============================] - 0s 4ms/step - loss: 1.4611 - mae: 1.4611 - val_loss: 1.6388 - val_mae: 1.6388\n",
      "Epoch 186/1000\n",
      "20/20 [==============================] - 0s 4ms/step - loss: 1.4443 - mae: 1.4443 - val_loss: 1.5327 - val_mae: 1.5327\n",
      "Epoch 187/1000\n",
      "20/20 [==============================] - 0s 4ms/step - loss: 1.4623 - mae: 1.4623 - val_loss: 1.6023 - val_mae: 1.6023\n",
      "Epoch 188/1000\n",
      "20/20 [==============================] - 0s 4ms/step - loss: 1.4634 - mae: 1.4634 - val_loss: 1.5663 - val_mae: 1.5663\n",
      "Epoch 189/1000\n",
      "20/20 [==============================] - 0s 4ms/step - loss: 1.4220 - mae: 1.4220 - val_loss: 1.6627 - val_mae: 1.6627\n",
      "Epoch 190/1000\n",
      "20/20 [==============================] - 0s 4ms/step - loss: 1.4312 - mae: 1.4312 - val_loss: 1.5531 - val_mae: 1.5531\n",
      "Epoch 191/1000\n",
      "20/20 [==============================] - 0s 3ms/step - loss: 1.4072 - mae: 1.4072 - val_loss: 1.5267 - val_mae: 1.5267\n",
      "Epoch 192/1000\n",
      "20/20 [==============================] - 0s 4ms/step - loss: 1.5385 - mae: 1.5385 - val_loss: 1.5617 - val_mae: 1.5617\n",
      "Epoch 193/1000\n",
      "20/20 [==============================] - 0s 3ms/step - loss: 1.4147 - mae: 1.4147 - val_loss: 1.5204 - val_mae: 1.5204\n",
      "Epoch 194/1000\n",
      "20/20 [==============================] - 0s 4ms/step - loss: 1.4847 - mae: 1.4847 - val_loss: 1.5384 - val_mae: 1.5384\n",
      "Epoch 195/1000\n",
      "20/20 [==============================] - 0s 4ms/step - loss: 1.5068 - mae: 1.5068 - val_loss: 1.5375 - val_mae: 1.5375\n",
      "Epoch 196/1000\n",
      "20/20 [==============================] - 0s 4ms/step - loss: 1.3657 - mae: 1.3657 - val_loss: 1.5915 - val_mae: 1.5915\n",
      "Epoch 197/1000\n",
      "20/20 [==============================] - 0s 4ms/step - loss: 1.5516 - mae: 1.5516 - val_loss: 1.5304 - val_mae: 1.5304\n",
      "Epoch 198/1000\n",
      "20/20 [==============================] - 0s 4ms/step - loss: 1.4117 - mae: 1.4117 - val_loss: 1.5123 - val_mae: 1.5123\n",
      "INFO:tensorflow:Assets written to: model/assets\n",
      "Epoch 199/1000\n",
      "20/20 [==============================] - 0s 3ms/step - loss: 1.4653 - mae: 1.4653 - val_loss: 1.5448 - val_mae: 1.5448\n",
      "Epoch 200/1000\n",
      "20/20 [==============================] - 0s 3ms/step - loss: 1.2920 - mae: 1.2920 - val_loss: 1.5508 - val_mae: 1.5508\n",
      "Epoch 201/1000\n",
      "20/20 [==============================] - 0s 3ms/step - loss: 1.4860 - mae: 1.4860 - val_loss: 1.5175 - val_mae: 1.5175\n",
      "Epoch 202/1000\n",
      "20/20 [==============================] - 0s 3ms/step - loss: 1.3439 - mae: 1.3439 - val_loss: 1.5004 - val_mae: 1.5004\n",
      "INFO:tensorflow:Assets written to: model/assets\n",
      "Epoch 203/1000\n",
      "20/20 [==============================] - 0s 2ms/step - loss: 1.4066 - mae: 1.4066 - val_loss: 1.5068 - val_mae: 1.5068\n",
      "Epoch 204/1000\n",
      "20/20 [==============================] - 0s 3ms/step - loss: 1.3921 - mae: 1.3921 - val_loss: 1.5418 - val_mae: 1.5418\n",
      "Epoch 205/1000\n",
      "20/20 [==============================] - 0s 4ms/step - loss: 1.3786 - mae: 1.3786 - val_loss: 1.5232 - val_mae: 1.5232\n",
      "Epoch 206/1000\n",
      "20/20 [==============================] - 0s 4ms/step - loss: 1.4876 - mae: 1.4876 - val_loss: 1.6986 - val_mae: 1.6986\n",
      "Epoch 207/1000\n",
      "20/20 [==============================] - 0s 4ms/step - loss: 1.5132 - mae: 1.5132 - val_loss: 1.5686 - val_mae: 1.5686\n",
      "Epoch 208/1000\n",
      "20/20 [==============================] - 0s 4ms/step - loss: 1.3937 - mae: 1.3937 - val_loss: 1.5510 - val_mae: 1.5510\n",
      "Epoch 209/1000\n",
      "20/20 [==============================] - 0s 4ms/step - loss: 1.3395 - mae: 1.3395 - val_loss: 1.5694 - val_mae: 1.5694\n",
      "Epoch 210/1000\n",
      "20/20 [==============================] - 0s 4ms/step - loss: 1.4151 - mae: 1.4151 - val_loss: 1.5933 - val_mae: 1.5933\n",
      "Epoch 211/1000\n",
      "20/20 [==============================] - 0s 4ms/step - loss: 1.3461 - mae: 1.3461 - val_loss: 1.5598 - val_mae: 1.5598\n",
      "Epoch 212/1000\n",
      "20/20 [==============================] - 0s 4ms/step - loss: 1.3365 - mae: 1.3365 - val_loss: 1.6259 - val_mae: 1.6259\n",
      "Epoch 213/1000\n",
      "20/20 [==============================] - 0s 4ms/step - loss: 1.3887 - mae: 1.3887 - val_loss: 1.5337 - val_mae: 1.5337\n",
      "Epoch 214/1000\n",
      "20/20 [==============================] - 0s 4ms/step - loss: 1.4051 - mae: 1.4051 - val_loss: 1.5202 - val_mae: 1.5202\n",
      "Epoch 215/1000\n",
      "20/20 [==============================] - 0s 3ms/step - loss: 1.3735 - mae: 1.3735 - val_loss: 1.5132 - val_mae: 1.5132\n",
      "Epoch 216/1000\n",
      "20/20 [==============================] - 0s 3ms/step - loss: 1.3646 - mae: 1.3646 - val_loss: 1.5259 - val_mae: 1.5259\n",
      "Epoch 217/1000\n",
      "20/20 [==============================] - 0s 4ms/step - loss: 1.4837 - mae: 1.4837 - val_loss: 1.5387 - val_mae: 1.5387\n",
      "Epoch 218/1000\n",
      "20/20 [==============================] - 0s 2ms/step - loss: 1.4621 - mae: 1.4621 - val_loss: 1.5633 - val_mae: 1.5633\n",
      "Epoch 219/1000\n",
      "20/20 [==============================] - 0s 2ms/step - loss: 1.4056 - mae: 1.4056 - val_loss: 1.5083 - val_mae: 1.5083\n",
      "Epoch 220/1000\n",
      "20/20 [==============================] - 0s 2ms/step - loss: 1.3905 - mae: 1.3905 - val_loss: 1.5288 - val_mae: 1.5288\n",
      "Epoch 221/1000\n",
      "20/20 [==============================] - 0s 4ms/step - loss: 1.3810 - mae: 1.3810 - val_loss: 1.6079 - val_mae: 1.6079\n",
      "Epoch 222/1000\n",
      "20/20 [==============================] - 0s 4ms/step - loss: 1.3916 - mae: 1.3916 - val_loss: 1.5175 - val_mae: 1.5175\n",
      "Epoch 223/1000\n",
      "20/20 [==============================] - 0s 3ms/step - loss: 1.3048 - mae: 1.3048 - val_loss: 1.6308 - val_mae: 1.6308\n",
      "Epoch 224/1000\n",
      "20/20 [==============================] - 0s 3ms/step - loss: 1.4457 - mae: 1.4457 - val_loss: 1.5243 - val_mae: 1.5243\n",
      "Epoch 225/1000\n",
      "20/20 [==============================] - 0s 8ms/step - loss: 1.3375 - mae: 1.3375 - val_loss: 1.5264 - val_mae: 1.5264\n",
      "Epoch 226/1000\n",
      "20/20 [==============================] - 0s 4ms/step - loss: 1.4855 - mae: 1.4855 - val_loss: 1.5367 - val_mae: 1.5367\n",
      "Epoch 227/1000\n",
      "20/20 [==============================] - 0s 4ms/step - loss: 1.3146 - mae: 1.3146 - val_loss: 1.5376 - val_mae: 1.5376\n",
      "Epoch 228/1000\n"
     ]
    },
    {
     "name": "stdout",
     "output_type": "stream",
     "text": [
      "20/20 [==============================] - 0s 4ms/step - loss: 1.4184 - mae: 1.4184 - val_loss: 1.5360 - val_mae: 1.5360\n",
      "Epoch 229/1000\n",
      "20/20 [==============================] - 0s 3ms/step - loss: 1.3690 - mae: 1.3690 - val_loss: 1.5380 - val_mae: 1.5380\n",
      "Epoch 230/1000\n",
      "20/20 [==============================] - 0s 4ms/step - loss: 1.4351 - mae: 1.4351 - val_loss: 1.5492 - val_mae: 1.5492\n",
      "Epoch 231/1000\n",
      "20/20 [==============================] - 0s 4ms/step - loss: 1.4472 - mae: 1.4472 - val_loss: 1.5351 - val_mae: 1.5351\n",
      "Epoch 232/1000\n",
      "20/20 [==============================] - 0s 4ms/step - loss: 1.5208 - mae: 1.5208 - val_loss: 1.5492 - val_mae: 1.5492\n",
      "Epoch 233/1000\n",
      "20/20 [==============================] - 0s 4ms/step - loss: 1.3404 - mae: 1.3404 - val_loss: 1.5274 - val_mae: 1.5274\n",
      "Epoch 234/1000\n",
      "20/20 [==============================] - 0s 3ms/step - loss: 1.4332 - mae: 1.4332 - val_loss: 1.5320 - val_mae: 1.5320\n",
      "Epoch 235/1000\n",
      "20/20 [==============================] - 0s 4ms/step - loss: 1.3423 - mae: 1.3423 - val_loss: 1.5515 - val_mae: 1.5515\n",
      "Epoch 236/1000\n",
      "20/20 [==============================] - 0s 4ms/step - loss: 1.4249 - mae: 1.4249 - val_loss: 1.5402 - val_mae: 1.5402\n",
      "Epoch 237/1000\n",
      "20/20 [==============================] - 0s 4ms/step - loss: 1.4074 - mae: 1.4074 - val_loss: 1.5265 - val_mae: 1.5265\n",
      "Epoch 238/1000\n",
      "20/20 [==============================] - 0s 4ms/step - loss: 1.4245 - mae: 1.4245 - val_loss: 1.5658 - val_mae: 1.5658\n",
      "Epoch 239/1000\n",
      "20/20 [==============================] - 0s 4ms/step - loss: 1.4048 - mae: 1.4048 - val_loss: 1.5782 - val_mae: 1.5782\n",
      "Epoch 240/1000\n",
      "20/20 [==============================] - 0s 4ms/step - loss: 1.5028 - mae: 1.5028 - val_loss: 1.5900 - val_mae: 1.5900\n",
      "Epoch 241/1000\n",
      "20/20 [==============================] - 0s 4ms/step - loss: 1.3459 - mae: 1.3459 - val_loss: 1.5269 - val_mae: 1.5269\n",
      "Epoch 242/1000\n",
      "20/20 [==============================] - 0s 3ms/step - loss: 1.3837 - mae: 1.3837 - val_loss: 1.5143 - val_mae: 1.5143\n",
      "Epoch 243/1000\n",
      "20/20 [==============================] - 0s 2ms/step - loss: 1.3433 - mae: 1.3433 - val_loss: 1.5211 - val_mae: 1.5211\n",
      "Epoch 244/1000\n",
      "20/20 [==============================] - 0s 4ms/step - loss: 1.4696 - mae: 1.4696 - val_loss: 1.5247 - val_mae: 1.5247\n",
      "Epoch 245/1000\n",
      "20/20 [==============================] - 0s 4ms/step - loss: 1.4196 - mae: 1.4196 - val_loss: 1.5188 - val_mae: 1.5188\n",
      "Epoch 246/1000\n",
      "20/20 [==============================] - 0s 4ms/step - loss: 1.3395 - mae: 1.3395 - val_loss: 1.5188 - val_mae: 1.5188\n",
      "Epoch 247/1000\n",
      "20/20 [==============================] - 0s 2ms/step - loss: 1.3452 - mae: 1.3452 - val_loss: 1.5166 - val_mae: 1.5166\n",
      "Epoch 248/1000\n",
      "20/20 [==============================] - 0s 4ms/step - loss: 1.2860 - mae: 1.2860 - val_loss: 1.5109 - val_mae: 1.5109\n",
      "Epoch 249/1000\n",
      "20/20 [==============================] - 0s 4ms/step - loss: 1.4226 - mae: 1.4226 - val_loss: 1.5169 - val_mae: 1.5169\n",
      "Epoch 250/1000\n",
      "20/20 [==============================] - 0s 4ms/step - loss: 1.3735 - mae: 1.3735 - val_loss: 1.5144 - val_mae: 1.5144\n",
      "Epoch 251/1000\n",
      "20/20 [==============================] - 0s 3ms/step - loss: 1.3239 - mae: 1.3239 - val_loss: 1.5221 - val_mae: 1.5221\n",
      "Epoch 252/1000\n",
      "20/20 [==============================] - 0s 3ms/step - loss: 1.3788 - mae: 1.3788 - val_loss: 1.5305 - val_mae: 1.5305\n"
     ]
    },
    {
     "data": {
      "text/plain": [
       "<tensorflow.python.keras.callbacks.History at 0x7f5c7c622550>"
      ]
     },
     "execution_count": 17,
     "metadata": {},
     "output_type": "execute_result"
    }
   ],
   "source": [
    "# 모델 업데이트 및 저장\n",
    "cp = ModelCheckpoint(filepath='model/', monitor='val_mae', verbose=0, save_best_only=True, mode = 'min')\n",
    "\n",
    "# 학습 자동 중단 설정\n",
    "es = EarlyStopping(monitor='val_mae', patience=50, mode='min')\n",
    "\n",
    "rlrp = ReduceLROnPlateau(monitor='val_mae', factor=0.2, patience=40, mode='min')\n",
    "\n",
    "# 모델 학습\n",
    "model.fit(train_X, train_y, validation_split=0.3, epochs=1000, batch_size=32, verbose=1, callbacks=[es, cp, rlrp])"
   ]
  },
  {
   "cell_type": "code",
   "execution_count": null,
   "metadata": {},
   "outputs": [],
   "source": []
  },
  {
   "cell_type": "code",
   "execution_count": 19,
   "metadata": {
    "ExecuteTime": {
     "end_time": "2022-04-17T06:45:56.032133Z",
     "start_time": "2022-04-17T06:45:55.758898Z"
    }
   },
   "outputs": [],
   "source": [
    "Y_prediction = model.predict(vali_data[x_col]).flatten()"
   ]
  },
  {
   "cell_type": "code",
   "execution_count": 20,
   "metadata": {
    "ExecuteTime": {
     "end_time": "2022-04-17T06:45:57.000070Z",
     "start_time": "2022-04-17T06:45:56.976754Z"
    },
    "scrolled": true
   },
   "outputs": [
    {
     "data": {
      "text/plain": [
       "array([11.6962595,  5.909449 ,  9.345937 , 14.084526 , 10.230559 ,\n",
       "        9.6227045,  8.993506 ,  5.4399514,  9.124592 , 10.636941 ,\n",
       "        8.324278 , 12.163436 , 11.086706 ,  9.347063 ,  5.217389 ,\n",
       "       10.193589 , 11.903026 ,  9.724738 ,  9.451418 ,  9.847952 ,\n",
       "        8.784345 ,  9.312734 ,  6.652443 , 10.74143  ,  9.4555025,\n",
       "       14.026858 ,  5.873252 ,  4.056552 ,  8.5603285,  9.2570305,\n",
       "       10.58644  ,  7.118694 ,  9.078311 ,  5.914057 ,  9.585835 ,\n",
       "        9.148477 ,  9.3236685,  8.111936 ,  9.85476  ,  8.683132 ,\n",
       "       12.458674 , 10.565657 , 12.035655 ,  6.6279836, 13.47499  ,\n",
       "        9.029407 ,  6.712292 ,  9.352942 ,  9.758251 ,  8.481631 ,\n",
       "        6.898883 ,  8.651247 ,  9.395507 , 10.759335 ,  9.279038 ,\n",
       "        7.1113954,  8.422679 , 10.196304 , 10.798025 , 13.813706 ,\n",
       "        9.287383 , 11.394902 ,  4.280714 , 10.080161 , 12.709987 ,\n",
       "       13.385262 ,  8.6434145,  7.52122  ,  9.358418 ,  8.596036 ,\n",
       "        7.4841394, 13.157195 ,  8.989337 , 10.458548 ,  9.971615 ,\n",
       "        8.928676 ,  7.799307 , 10.727851 ,  8.65515  ,  8.875767 ,\n",
       "        9.019243 ,  7.2366643,  8.296161 ,  7.874714 , 10.236775 ,\n",
       "        8.287376 , 11.146197 , 10.434855 ,  9.820762 , 13.104288 ,\n",
       "       10.304487 ,  8.557574 , 12.475932 , 11.090514 , 10.471175 ,\n",
       "       10.07755  , 11.964821 ,  7.205076 ,  9.070051 ,  7.921387 ,\n",
       "        9.459569 ,  6.14877  , 10.652491 ,  8.127003 ,  6.151252 ,\n",
       "       12.72172  ,  8.71553  , 10.637727 ,  8.727142 , 11.036623 ,\n",
       "       13.63626  , 13.662222 ,  7.306814 ,  6.398307 ,  7.268023 ,\n",
       "       11.752417 ,  8.530131 ,  8.5686655,  8.628437 ,  9.15898  ,\n",
       "       10.462411 ,  8.723262 ,  8.811515 ,  9.418058 ,  7.2648234,\n",
       "       10.452099 ,  9.988817 , 12.754607 , 11.119351 ,  6.6542735,\n",
       "        8.807355 ,  6.9242973,  8.926688 ,  8.366706 , 12.80026  ,\n",
       "        6.1045504,  6.4093714,  9.280954 ,  9.260267 ,  8.238942 ,\n",
       "        7.037303 , 11.615221 ,  9.228484 ,  8.391042 ,  7.6182656,\n",
       "       12.676369 , 15.879162 , 10.205262 ,  7.378127 ,  9.092311 ,\n",
       "        9.808877 , 11.677346 , 10.474504 , 11.251948 ,  9.264401 ,\n",
       "        5.9367356, 12.121171 , 10.733813 ,  6.227351 ,  9.154096 ,\n",
       "        9.122286 ,  9.09327  ,  9.961406 ,  9.208264 ,  9.739029 ,\n",
       "        6.6712875,  8.742818 ,  6.9038467, 11.044392 , 10.85034  ,\n",
       "        8.429727 ,  9.834117 ,  8.477683 , 10.855889 ,  9.633992 ,\n",
       "        5.145585 ,  9.606383 ,  8.339679 , 10.534707 , 13.411116 ,\n",
       "        9.343036 , 10.697427 ,  9.613026 , 10.4977455,  9.330163 ,\n",
       "       10.256544 ,  9.272547 ,  6.555868 ,  8.238502 ,  8.495447 ,\n",
       "       10.977009 ,  9.546841 ,  8.681056 ,  9.389688 ,  8.2176   ,\n",
       "       11.3486595, 11.89404  , 10.272846 , 12.260173 ,  9.945417 ,\n",
       "        7.0809474, 12.077962 ,  8.330414 , 10.211589 ,  9.0442505,\n",
       "       13.35649  ,  5.617551 ,  6.590183 , 10.18722  ,  9.132851 ,\n",
       "       11.098312 ,  5.377553 , 10.317315 ,  9.353372 ,  7.9992013,\n",
       "        9.206881 , 13.479739 ,  9.120076 , 10.317356 ,  5.8631954,\n",
       "        9.330821 ,  9.567584 ,  8.761866 ,  9.725818 , 10.011275 ,\n",
       "        9.972054 ,  9.295936 , 10.744213 , 11.364816 ,  8.565465 ,\n",
       "        9.228212 ,  7.47148  , 10.839626 ,  8.952031 ,  9.083371 ,\n",
       "        7.096162 , 13.121372 , 15.225597 ,  7.2082014,  9.918324 ,\n",
       "        8.9389   ,  9.598939 ,  8.82141  , 10.267213 , 11.0511675,\n",
       "       10.872462 ,  8.607312 ,  9.771698 , 11.483941 , 10.42362  ,\n",
       "       14.012984 ,  9.79031  ,  8.632232 , 11.004832 , 10.42944  ,\n",
       "       10.723205 , 12.17233  ,  9.821726 , 10.417673 ,  9.99588  ,\n",
       "        6.668455 ,  5.853055 ,  9.181641 ,  8.87255  ,  9.790435 ,\n",
       "        8.829489 ,  9.537681 ,  7.539986 , 10.471366 ,  7.467948 ,\n",
       "        8.09448  ,  9.9050455, 10.571084 , 12.373839 ,  5.617573 ,\n",
       "       11.452583 , 10.450464 ,  6.3298435,  9.495949 ,  7.9360394,\n",
       "       11.744827 ,  7.391551 , 10.140429 , 10.385753 ,  9.958165 ,\n",
       "        9.831952 , 11.27258  ,  8.306174 , 12.341279 , 10.064788 ,\n",
       "        8.50696  , 11.297618 ,  8.6073065, 11.705358 ,  9.098181 ,\n",
       "        7.894723 ,  8.567776 ,  6.055187 ,  9.361604 , 10.260333 ,\n",
       "        9.760175 , 12.726518 , 10.433264 ,  5.4419374, 11.764102 ,\n",
       "       11.212074 ,  9.803956 ,  4.6483426,  7.389325 , 11.15091  ,\n",
       "        9.376265 ,  6.5150795,  8.178555 , 10.852298 ,  7.1306095,\n",
       "        7.2851925,  9.700847 , 10.984481 , 10.260027 , 11.853012 ,\n",
       "        8.168082 ,  5.468641 ,  8.95584  ,  9.102951 , 13.947562 ,\n",
       "       16.864561 ,  5.140356 , 11.495886 ,  9.829303 , 11.5743685,\n",
       "        7.2474904, 10.016086 , 10.286097 ,  4.4627247,  7.3046985,\n",
       "        9.838687 , 11.11961  ,  5.680007 ,  6.7056694,  7.377449 ,\n",
       "        9.423891 ,  9.477365 , 10.49697  ,  8.365188 , 10.641589 ,\n",
       "        9.337455 , 10.67953  , 10.250055 ,  9.4635515, 14.295165 ,\n",
       "       10.17637  , 16.178984 ,  9.388113 ,  8.790389 ,  6.2355146,\n",
       "        9.069585 ,  9.007184 , 10.380708 ,  9.898367 ,  8.69601  ,\n",
       "        9.926643 ,  8.0945   ,  5.930567 ,  7.891691 ,  8.333713 ,\n",
       "        9.053137 , 12.356429 , 14.95563  , 11.139508 ,  7.648142 ,\n",
       "       12.748551 ,  9.543026 ,  8.578912 , 10.286958 , 11.738734 ,\n",
       "       10.55672  ], dtype=float32)"
      ]
     },
     "execution_count": 20,
     "metadata": {},
     "output_type": "execute_result"
    }
   ],
   "source": [
    "Y_prediction"
   ]
  },
  {
   "cell_type": "code",
   "execution_count": null,
   "metadata": {},
   "outputs": [],
   "source": []
  },
  {
   "cell_type": "code",
   "execution_count": null,
   "metadata": {},
   "outputs": [],
   "source": []
  },
  {
   "cell_type": "code",
   "execution_count": 24,
   "metadata": {
    "ExecuteTime": {
     "end_time": "2022-04-17T06:57:46.996114Z",
     "start_time": "2022-04-17T06:57:46.079197Z"
    }
   },
   "outputs": [],
   "source": [
    "test_data = pd.read_csv('data/test.csv')\n",
    "test_data = test_data.join(pd.get_dummies(test_data['Gender'])).drop(['Gender'], axis=1)\n",
    "test_data[['F', 'I', 'M']] = test_data[['F', 'I', 'M']].astype('int')"
   ]
  },
  {
   "cell_type": "code",
   "execution_count": 27,
   "metadata": {
    "ExecuteTime": {
     "end_time": "2022-04-17T06:58:26.440086Z",
     "start_time": "2022-04-17T06:58:26.328513Z"
    }
   },
   "outputs": [],
   "source": [
    "test_data['pred'] = model.predict(test_data[x_col]).flatten()"
   ]
  },
  {
   "cell_type": "code",
   "execution_count": null,
   "metadata": {},
   "outputs": [],
   "source": []
  },
  {
   "cell_type": "code",
   "execution_count": null,
   "metadata": {},
   "outputs": [],
   "source": []
  },
  {
   "cell_type": "code",
   "execution_count": 28,
   "metadata": {
    "ExecuteTime": {
     "end_time": "2022-04-17T06:58:27.652037Z",
     "start_time": "2022-04-17T06:58:27.538044Z"
    },
    "scrolled": true
   },
   "outputs": [
    {
     "name": "stderr",
     "output_type": "stream",
     "text": [
      "/home/hshan/venvs/keras/lib/python3.6/site-packages/pandas/core/frame.py:4015: SettingWithCopyWarning: \n",
      "A value is trying to be set on a copy of a slice from a DataFrame\n",
      "\n",
      "See the caveats in the documentation: http://pandas.pydata.org/pandas-docs/stable/indexing.html#indexing-view-versus-copy\n",
      "  return super(DataFrame, self).rename(**kwargs)\n"
     ]
    }
   ],
   "source": [
    "res_data = test_data[['id', 'pred']]\n",
    "res_data.rename(columns={'pred':'Target'}, inplace=True)"
   ]
  },
  {
   "cell_type": "code",
   "execution_count": 29,
   "metadata": {
    "ExecuteTime": {
     "end_time": "2022-04-17T06:58:28.288074Z",
     "start_time": "2022-04-17T06:58:28.246546Z"
    }
   },
   "outputs": [],
   "source": [
    "res_data.to_csv('result/res_keras_basic.csv', index=False)"
   ]
  },
  {
   "cell_type": "code",
   "execution_count": null,
   "metadata": {},
   "outputs": [],
   "source": []
  },
  {
   "cell_type": "code",
   "execution_count": null,
   "metadata": {},
   "outputs": [],
   "source": []
  },
  {
   "cell_type": "code",
   "execution_count": null,
   "metadata": {},
   "outputs": [],
   "source": []
  },
  {
   "cell_type": "code",
   "execution_count": null,
   "metadata": {},
   "outputs": [],
   "source": []
  }
 ],
 "metadata": {
  "kernelspec": {
   "display_name": "keras",
   "language": "python",
   "name": "keras"
  },
  "language_info": {
   "codemirror_mode": {
    "name": "ipython",
    "version": 3
   },
   "file_extension": ".py",
   "mimetype": "text/x-python",
   "name": "python",
   "nbconvert_exporter": "python",
   "pygments_lexer": "ipython3",
   "version": "3.6.3"
  },
  "toc": {
   "base_numbering": 1,
   "nav_menu": {},
   "number_sections": true,
   "sideBar": true,
   "skip_h1_title": false,
   "title_cell": "Table of Contents",
   "title_sidebar": "Contents",
   "toc_cell": false,
   "toc_position": {},
   "toc_section_display": true,
   "toc_window_display": false
  },
  "varInspector": {
   "cols": {
    "lenName": 16,
    "lenType": 16,
    "lenVar": 40
   },
   "kernels_config": {
    "python": {
     "delete_cmd_postfix": "",
     "delete_cmd_prefix": "del ",
     "library": "var_list.py",
     "varRefreshCmd": "print(var_dic_list())"
    },
    "r": {
     "delete_cmd_postfix": ") ",
     "delete_cmd_prefix": "rm(",
     "library": "var_list.r",
     "varRefreshCmd": "cat(var_dic_list()) "
    }
   },
   "types_to_exclude": [
    "module",
    "function",
    "builtin_function_or_method",
    "instance",
    "_Feature"
   ],
   "window_display": false
  }
 },
 "nbformat": 4,
 "nbformat_minor": 4
}
