{
 "cells": [
  {
   "cell_type": "code",
   "execution_count": 1,
   "metadata": {},
   "outputs": [
    {
     "name": "stdout",
     "output_type": "stream",
     "text": [
      "False\n",
      "학습을 진행하는 기기: cpu\n"
     ]
    },
    {
     "name": "stderr",
     "output_type": "stream",
     "text": [
      "/home/hshan/venvs/keras/lib/python3.6/site-packages/torch/cuda/__init__.py:52: UserWarning: CUDA initialization: The NVIDIA driver on your system is too old (found version 10000). Please update your GPU driver by downloading and installing a new version from the URL: http://www.nvidia.com/Download/index.aspx Alternatively, go to: https://pytorch.org to install a PyTorch version that has been compiled with your version of the CUDA driver. (Triggered internally at  /pytorch/c10/cuda/CUDAFunctions.cpp:115.)\n",
      "  return torch._C._cuda_getDeviceCount() > 0\n"
     ]
    }
   ],
   "source": [
    "import torch\n",
    "\n",
    "USE_CUDA = torch.cuda.is_available()\n",
    "print(USE_CUDA)\n",
    "\n",
    "device = torch.device('cuda:0' if USE_CUDA else 'cpu')\n",
    "print('학습을 진행하는 기기:',device)"
   ]
  },
  {
   "cell_type": "code",
   "execution_count": null,
   "metadata": {},
   "outputs": [],
   "source": []
  },
  {
   "cell_type": "code",
   "execution_count": 2,
   "metadata": {},
   "outputs": [],
   "source": [
    "import pandas as pd\n",
    "import numpy as np\n",
    "import matplotlib.pyplot as plt\n",
    "from tqdm import tqdm\n",
    "import random\n",
    "import os\n",
    "\n",
    "import torch\n",
    "from torch import nn\n",
    "from torch.utils.data import Dataset, DataLoader"
   ]
  },
  {
   "cell_type": "code",
   "execution_count": 3,
   "metadata": {},
   "outputs": [],
   "source": [
    "def seed_everything(seed: int = 42):\n",
    "    random.seed(seed)\n",
    "    np.random.seed(seed)\n",
    "    os.environ[\"PYTHONHASHSEED\"] = str(seed)\n",
    "    torch.manual_seed(seed)\n",
    "    torch.cuda.manual_seed(seed)  # type: ignore\n",
    "    torch.backends.cudnn.deterministic = True  # type: ignore\n",
    "    torch.backends.cudnn.benchmark = True  # type: ignore"
   ]
  },
  {
   "cell_type": "code",
   "execution_count": 4,
   "metadata": {},
   "outputs": [],
   "source": [
    "seed_everything(42)"
   ]
  },
  {
   "cell_type": "code",
   "execution_count": 6,
   "metadata": {},
   "outputs": [],
   "source": [
    "data = pd.read_csv('./data/public_data/train.csv')"
   ]
  },
  {
   "cell_type": "code",
   "execution_count": 8,
   "metadata": {},
   "outputs": [
    {
     "data": {
      "text/html": [
       "<div>\n",
       "<style scoped>\n",
       "    .dataframe tbody tr th:only-of-type {\n",
       "        vertical-align: middle;\n",
       "    }\n",
       "\n",
       "    .dataframe tbody tr th {\n",
       "        vertical-align: top;\n",
       "    }\n",
       "\n",
       "    .dataframe thead th {\n",
       "        text-align: right;\n",
       "    }\n",
       "</style>\n",
       "<table border=\"1\" class=\"dataframe\">\n",
       "  <thead>\n",
       "    <tr style=\"text-align: right;\">\n",
       "      <th></th>\n",
       "      <th>date</th>\n",
       "      <th>요일</th>\n",
       "      <th>배추_거래량(kg)</th>\n",
       "      <th>배추_가격(원/kg)</th>\n",
       "      <th>무_거래량(kg)</th>\n",
       "      <th>무_가격(원/kg)</th>\n",
       "      <th>양파_거래량(kg)</th>\n",
       "      <th>양파_가격(원/kg)</th>\n",
       "      <th>건고추_거래량(kg)</th>\n",
       "      <th>건고추_가격(원/kg)</th>\n",
       "      <th>...</th>\n",
       "      <th>청상추_거래량(kg)</th>\n",
       "      <th>청상추_가격(원/kg)</th>\n",
       "      <th>백다다기_거래량(kg)</th>\n",
       "      <th>백다다기_가격(원/kg)</th>\n",
       "      <th>애호박_거래량(kg)</th>\n",
       "      <th>애호박_가격(원/kg)</th>\n",
       "      <th>캠벨얼리_거래량(kg)</th>\n",
       "      <th>캠벨얼리_가격(원/kg)</th>\n",
       "      <th>샤인마스캇_거래량(kg)</th>\n",
       "      <th>샤인마스캇_가격(원/kg)</th>\n",
       "    </tr>\n",
       "  </thead>\n",
       "  <tbody>\n",
       "    <tr>\n",
       "      <th>5</th>\n",
       "      <td>2016-01-06</td>\n",
       "      <td>수요일</td>\n",
       "      <td>1045507.5</td>\n",
       "      <td>442.0</td>\n",
       "      <td>1904372.1</td>\n",
       "      <td>409.0</td>\n",
       "      <td>1860569.0</td>\n",
       "      <td>1263.0</td>\n",
       "      <td>1672.0</td>\n",
       "      <td>7041.0</td>\n",
       "      <td>...</td>\n",
       "      <td>31081.4</td>\n",
       "      <td>5511.0</td>\n",
       "      <td>190011.0</td>\n",
       "      <td>2535.0</td>\n",
       "      <td>269894.2</td>\n",
       "      <td>2503.0</td>\n",
       "      <td>7487.0</td>\n",
       "      <td>2119.0</td>\n",
       "      <td>0.0</td>\n",
       "      <td>0.0</td>\n",
       "    </tr>\n",
       "    <tr>\n",
       "      <th>6</th>\n",
       "      <td>2016-01-07</td>\n",
       "      <td>목요일</td>\n",
       "      <td>1039925.0</td>\n",
       "      <td>448.0</td>\n",
       "      <td>1438990.2</td>\n",
       "      <td>428.0</td>\n",
       "      <td>1868011.7</td>\n",
       "      <td>1241.0</td>\n",
       "      <td>1191.0</td>\n",
       "      <td>3908.0</td>\n",
       "      <td>...</td>\n",
       "      <td>27873.6</td>\n",
       "      <td>4384.0</td>\n",
       "      <td>158516.0</td>\n",
       "      <td>2440.0</td>\n",
       "      <td>198854.0</td>\n",
       "      <td>2533.0</td>\n",
       "      <td>4687.8</td>\n",
       "      <td>2997.0</td>\n",
       "      <td>0.0</td>\n",
       "      <td>0.0</td>\n",
       "    </tr>\n",
       "    <tr>\n",
       "      <th>7</th>\n",
       "      <td>2016-01-08</td>\n",
       "      <td>금요일</td>\n",
       "      <td>942655.0</td>\n",
       "      <td>420.0</td>\n",
       "      <td>1563537.8</td>\n",
       "      <td>390.0</td>\n",
       "      <td>1483395.0</td>\n",
       "      <td>1218.0</td>\n",
       "      <td>672.4</td>\n",
       "      <td>4836.0</td>\n",
       "      <td>...</td>\n",
       "      <td>29272.8</td>\n",
       "      <td>3554.0</td>\n",
       "      <td>181992.0</td>\n",
       "      <td>2303.0</td>\n",
       "      <td>307436.6</td>\n",
       "      <td>2509.0</td>\n",
       "      <td>4916.0</td>\n",
       "      <td>2734.0</td>\n",
       "      <td>0.0</td>\n",
       "      <td>0.0</td>\n",
       "    </tr>\n",
       "    <tr>\n",
       "      <th>8</th>\n",
       "      <td>2016-01-09</td>\n",
       "      <td>토요일</td>\n",
       "      <td>689121.0</td>\n",
       "      <td>389.0</td>\n",
       "      <td>1723983.9</td>\n",
       "      <td>345.0</td>\n",
       "      <td>1107262.5</td>\n",
       "      <td>1210.0</td>\n",
       "      <td>5456.6</td>\n",
       "      <td>5112.0</td>\n",
       "      <td>...</td>\n",
       "      <td>31822.0</td>\n",
       "      <td>3095.0</td>\n",
       "      <td>164854.0</td>\n",
       "      <td>2035.0</td>\n",
       "      <td>191536.0</td>\n",
       "      <td>2436.0</td>\n",
       "      <td>1766.0</td>\n",
       "      <td>4773.0</td>\n",
       "      <td>0.0</td>\n",
       "      <td>0.0</td>\n",
       "    </tr>\n",
       "    <tr>\n",
       "      <th>9</th>\n",
       "      <td>2016-01-10</td>\n",
       "      <td>일요일</td>\n",
       "      <td>0.0</td>\n",
       "      <td>0.0</td>\n",
       "      <td>0.0</td>\n",
       "      <td>0.0</td>\n",
       "      <td>0.0</td>\n",
       "      <td>0.0</td>\n",
       "      <td>0.0</td>\n",
       "      <td>0.0</td>\n",
       "      <td>...</td>\n",
       "      <td>0.0</td>\n",
       "      <td>0.0</td>\n",
       "      <td>0.0</td>\n",
       "      <td>0.0</td>\n",
       "      <td>0.0</td>\n",
       "      <td>0.0</td>\n",
       "      <td>0.0</td>\n",
       "      <td>0.0</td>\n",
       "      <td>0.0</td>\n",
       "      <td>0.0</td>\n",
       "    </tr>\n",
       "    <tr>\n",
       "      <th>10</th>\n",
       "      <td>2016-01-11</td>\n",
       "      <td>월요일</td>\n",
       "      <td>1161028.0</td>\n",
       "      <td>398.0</td>\n",
       "      <td>1940798.7</td>\n",
       "      <td>336.0</td>\n",
       "      <td>1651529.5</td>\n",
       "      <td>1215.0</td>\n",
       "      <td>73.0</td>\n",
       "      <td>5712.0</td>\n",
       "      <td>...</td>\n",
       "      <td>33310.8</td>\n",
       "      <td>3116.0</td>\n",
       "      <td>284347.0</td>\n",
       "      <td>2183.0</td>\n",
       "      <td>337420.0</td>\n",
       "      <td>2431.0</td>\n",
       "      <td>2039.8</td>\n",
       "      <td>2133.0</td>\n",
       "      <td>0.0</td>\n",
       "      <td>0.0</td>\n",
       "    </tr>\n",
       "    <tr>\n",
       "      <th>11</th>\n",
       "      <td>2016-01-12</td>\n",
       "      <td>화요일</td>\n",
       "      <td>730460.1</td>\n",
       "      <td>431.0</td>\n",
       "      <td>1748847.8</td>\n",
       "      <td>309.0</td>\n",
       "      <td>1606583.0</td>\n",
       "      <td>1161.0</td>\n",
       "      <td>6321.0</td>\n",
       "      <td>5498.0</td>\n",
       "      <td>...</td>\n",
       "      <td>27964.0</td>\n",
       "      <td>2656.0</td>\n",
       "      <td>143468.0</td>\n",
       "      <td>2153.0</td>\n",
       "      <td>194121.0</td>\n",
       "      <td>2562.0</td>\n",
       "      <td>920.0</td>\n",
       "      <td>3072.0</td>\n",
       "      <td>0.0</td>\n",
       "      <td>0.0</td>\n",
       "    </tr>\n",
       "    <tr>\n",
       "      <th>12</th>\n",
       "      <td>2016-01-13</td>\n",
       "      <td>수요일</td>\n",
       "      <td>642654.0</td>\n",
       "      <td>429.0</td>\n",
       "      <td>1416822.0</td>\n",
       "      <td>307.0</td>\n",
       "      <td>1211231.0</td>\n",
       "      <td>1166.0</td>\n",
       "      <td>758.8</td>\n",
       "      <td>6879.0</td>\n",
       "      <td>...</td>\n",
       "      <td>26757.0</td>\n",
       "      <td>2787.0</td>\n",
       "      <td>126107.0</td>\n",
       "      <td>2182.0</td>\n",
       "      <td>230051.0</td>\n",
       "      <td>2549.0</td>\n",
       "      <td>2674.8</td>\n",
       "      <td>2261.0</td>\n",
       "      <td>0.0</td>\n",
       "      <td>0.0</td>\n",
       "    </tr>\n",
       "    <tr>\n",
       "      <th>13</th>\n",
       "      <td>2016-01-14</td>\n",
       "      <td>목요일</td>\n",
       "      <td>777445.9</td>\n",
       "      <td>441.0</td>\n",
       "      <td>1412984.0</td>\n",
       "      <td>306.0</td>\n",
       "      <td>1313759.0</td>\n",
       "      <td>1148.0</td>\n",
       "      <td>1330.0</td>\n",
       "      <td>4350.0</td>\n",
       "      <td>...</td>\n",
       "      <td>22241.6</td>\n",
       "      <td>2952.0</td>\n",
       "      <td>159028.0</td>\n",
       "      <td>2166.0</td>\n",
       "      <td>170239.0</td>\n",
       "      <td>2728.0</td>\n",
       "      <td>1840.4</td>\n",
       "      <td>2567.0</td>\n",
       "      <td>0.0</td>\n",
       "      <td>0.0</td>\n",
       "    </tr>\n",
       "    <tr>\n",
       "      <th>14</th>\n",
       "      <td>2016-01-15</td>\n",
       "      <td>금요일</td>\n",
       "      <td>793655.0</td>\n",
       "      <td>449.0</td>\n",
       "      <td>1437415.0</td>\n",
       "      <td>307.0</td>\n",
       "      <td>1187834.0</td>\n",
       "      <td>1146.0</td>\n",
       "      <td>995.0</td>\n",
       "      <td>6643.0</td>\n",
       "      <td>...</td>\n",
       "      <td>26905.0</td>\n",
       "      <td>3195.0</td>\n",
       "      <td>171440.0</td>\n",
       "      <td>2163.0</td>\n",
       "      <td>254080.0</td>\n",
       "      <td>2820.0</td>\n",
       "      <td>836.4</td>\n",
       "      <td>6504.0</td>\n",
       "      <td>0.0</td>\n",
       "      <td>0.0</td>\n",
       "    </tr>\n",
       "  </tbody>\n",
       "</table>\n",
       "<p>10 rows × 44 columns</p>\n",
       "</div>"
      ],
      "text/plain": [
       "          date   요일  배추_거래량(kg)  배추_가격(원/kg)  무_거래량(kg)  무_가격(원/kg)  \\\n",
       "5   2016-01-06  수요일   1045507.5        442.0  1904372.1       409.0   \n",
       "6   2016-01-07  목요일   1039925.0        448.0  1438990.2       428.0   \n",
       "7   2016-01-08  금요일    942655.0        420.0  1563537.8       390.0   \n",
       "8   2016-01-09  토요일    689121.0        389.0  1723983.9       345.0   \n",
       "9   2016-01-10  일요일         0.0          0.0        0.0         0.0   \n",
       "10  2016-01-11  월요일   1161028.0        398.0  1940798.7       336.0   \n",
       "11  2016-01-12  화요일    730460.1        431.0  1748847.8       309.0   \n",
       "12  2016-01-13  수요일    642654.0        429.0  1416822.0       307.0   \n",
       "13  2016-01-14  목요일    777445.9        441.0  1412984.0       306.0   \n",
       "14  2016-01-15  금요일    793655.0        449.0  1437415.0       307.0   \n",
       "\n",
       "    양파_거래량(kg)  양파_가격(원/kg)  건고추_거래량(kg)  건고추_가격(원/kg)  ...  청상추_거래량(kg)  \\\n",
       "5    1860569.0       1263.0       1672.0        7041.0  ...      31081.4   \n",
       "6    1868011.7       1241.0       1191.0        3908.0  ...      27873.6   \n",
       "7    1483395.0       1218.0        672.4        4836.0  ...      29272.8   \n",
       "8    1107262.5       1210.0       5456.6        5112.0  ...      31822.0   \n",
       "9          0.0          0.0          0.0           0.0  ...          0.0   \n",
       "10   1651529.5       1215.0         73.0        5712.0  ...      33310.8   \n",
       "11   1606583.0       1161.0       6321.0        5498.0  ...      27964.0   \n",
       "12   1211231.0       1166.0        758.8        6879.0  ...      26757.0   \n",
       "13   1313759.0       1148.0       1330.0        4350.0  ...      22241.6   \n",
       "14   1187834.0       1146.0        995.0        6643.0  ...      26905.0   \n",
       "\n",
       "    청상추_가격(원/kg)  백다다기_거래량(kg)  백다다기_가격(원/kg)  애호박_거래량(kg)  애호박_가격(원/kg)  \\\n",
       "5         5511.0      190011.0         2535.0     269894.2        2503.0   \n",
       "6         4384.0      158516.0         2440.0     198854.0        2533.0   \n",
       "7         3554.0      181992.0         2303.0     307436.6        2509.0   \n",
       "8         3095.0      164854.0         2035.0     191536.0        2436.0   \n",
       "9            0.0           0.0            0.0          0.0           0.0   \n",
       "10        3116.0      284347.0         2183.0     337420.0        2431.0   \n",
       "11        2656.0      143468.0         2153.0     194121.0        2562.0   \n",
       "12        2787.0      126107.0         2182.0     230051.0        2549.0   \n",
       "13        2952.0      159028.0         2166.0     170239.0        2728.0   \n",
       "14        3195.0      171440.0         2163.0     254080.0        2820.0   \n",
       "\n",
       "    캠벨얼리_거래량(kg)  캠벨얼리_가격(원/kg)  샤인마스캇_거래량(kg)  샤인마스캇_가격(원/kg)  \n",
       "5         7487.0         2119.0            0.0             0.0  \n",
       "6         4687.8         2997.0            0.0             0.0  \n",
       "7         4916.0         2734.0            0.0             0.0  \n",
       "8         1766.0         4773.0            0.0             0.0  \n",
       "9            0.0            0.0            0.0             0.0  \n",
       "10        2039.8         2133.0            0.0             0.0  \n",
       "11         920.0         3072.0            0.0             0.0  \n",
       "12        2674.8         2261.0            0.0             0.0  \n",
       "13        1840.4         2567.0            0.0             0.0  \n",
       "14         836.4         6504.0            0.0             0.0  \n",
       "\n",
       "[10 rows x 44 columns]"
      ]
     },
     "execution_count": 8,
     "metadata": {},
     "output_type": "execute_result"
    }
   ],
   "source": [
    "data[5:15]"
   ]
  },
  {
   "cell_type": "code",
   "execution_count": 7,
   "metadata": {},
   "outputs": [],
   "source": [
    "week_day_map = {}\n",
    "for i, d in enumerate(data['요일'].unique()):\n",
    "    week_day_map[d] = i\n",
    "data['요일'] = data['요일'].map(week_day_map)"
   ]
  },
  {
   "cell_type": "code",
   "execution_count": 8,
   "metadata": {},
   "outputs": [],
   "source": [
    "norm = data.iloc[:, 1:].max(0)\n",
    "data.iloc[:, 1:] = data.iloc[:, 1:] / norm"
   ]
  },
  {
   "cell_type": "code",
   "execution_count": 26,
   "metadata": {},
   "outputs": [],
   "source": [
    "# device = torch.device(\"cuda:0\") # GPU 사용\n",
    "device = torch.device(\"cpu\")\n",
    "target_n = 21 # 맞춰야하는 품목/품종의 수\n",
    "learning_rate = 5e-4 # 학습률\n",
    "BATCH_SIZE = 128 # 배치사이즈\n",
    "EPOCHS = 5 # 총 eopochs\n",
    "teacher_forcing = False # 교사강요 설정\n",
    "n_layers = 3 # rnn레이어 층\n",
    "dropout = 0.2 # 드롭아웃\n",
    "window_size = 28 # 인코더 시퀀스 길이\n",
    "future_size = 28 # 디코더 시퀀스 길이\n",
    "hidden_dim = 128 # rnn 히든차원\n",
    "save_path = f'./models/best_model.pt' # 모델 저장 경로"
   ]
  },
  {
   "cell_type": "markdown",
   "metadata": {},
   "source": [
    "* to_numpy : pandas==0.24.0"
   ]
  },
  {
   "cell_type": "code",
   "execution_count": 27,
   "metadata": {},
   "outputs": [],
   "source": [
    "x_data = []\n",
    "y_data = []\n",
    "for i in range(data.shape[0]-window_size-future_size):\n",
    "    x = data.iloc[i:i+window_size, 1:].to_numpy()\n",
    "    y = data.iloc[i+window_size:i+window_size+future_size, 3::2].to_numpy()\n",
    "    y_0 = np.zeros([1, y.shape[1]]) # 디코더 첫 입력값 추가\n",
    "    x_data.append(x)\n",
    "    y_data.append(np.concatenate([y_0, y], axis=0))\n",
    "x_data = np.array(x_data)\n",
    "y_data = np.array(y_data)"
   ]
  },
  {
   "cell_type": "code",
   "execution_count": 28,
   "metadata": {},
   "outputs": [
    {
     "data": {
      "text/plain": [
       "((1677, 28, 43), (1677, 29, 21))"
      ]
     },
     "execution_count": 28,
     "metadata": {},
     "output_type": "execute_result"
    }
   ],
   "source": [
    "x_data.shape, y_data.shape"
   ]
  },
  {
   "cell_type": "code",
   "execution_count": 29,
   "metadata": {},
   "outputs": [],
   "source": [
    "train_test_split = 1\n",
    "x_train = x_data[:-train_test_split-future_size]\n",
    "y_train = y_data[:-train_test_split-future_size]\n",
    "x_val = x_data[-train_test_split:]\n",
    "y_val = y_data[-train_test_split:]"
   ]
  },
  {
   "cell_type": "code",
   "execution_count": 30,
   "metadata": {},
   "outputs": [
    {
     "data": {
      "text/plain": [
       "((1648, 28, 43), (1648, 29, 21), (1, 28, 43), (1, 29, 21))"
      ]
     },
     "execution_count": 30,
     "metadata": {},
     "output_type": "execute_result"
    }
   ],
   "source": [
    "x_train.shape, y_train.shape, x_val.shape, y_val.shape"
   ]
  },
  {
   "cell_type": "code",
   "execution_count": 31,
   "metadata": {},
   "outputs": [],
   "source": [
    "class CustomDataset(Dataset):\n",
    "    def __init__(self, encoder_input, decoder_input):\n",
    "        self.encoder_input = encoder_input\n",
    "        self.decoder_input = decoder_input\n",
    "        \n",
    "    def __len__(self):\n",
    "        return len(self.encoder_input)\n",
    "    \n",
    "    def __getitem__(self, i):\n",
    "        return {\n",
    "            'encoder_input' : torch.tensor(self.encoder_input[i], dtype=torch.float32),\n",
    "            'decoder_input' : torch.tensor(self.decoder_input[i], dtype=torch.float32)\n",
    "        }"
   ]
  },
  {
   "cell_type": "code",
   "execution_count": 32,
   "metadata": {},
   "outputs": [],
   "source": [
    "train_dataset = CustomDataset(x_train, y_train)\n",
    "val_dataset = CustomDataset(x_val, y_val)\n",
    "\n",
    "train_dataloader = torch.utils.data.DataLoader(train_dataset, batch_size=BATCH_SIZE, num_workers=16, shuffle=True)\n",
    "val_dataloader = torch.utils.data.DataLoader(val_dataset, batch_size=BATCH_SIZE, num_workers=16, shuffle=False)"
   ]
  },
  {
   "cell_type": "code",
   "execution_count": 33,
   "metadata": {},
   "outputs": [],
   "source": [
    "sample_batch = next(iter(train_dataloader))"
   ]
  },
  {
   "cell_type": "code",
   "execution_count": 34,
   "metadata": {},
   "outputs": [
    {
     "data": {
      "text/plain": [
       "(torch.Size([128, 28, 43]), torch.Size([128, 29, 21]))"
      ]
     },
     "execution_count": 34,
     "metadata": {},
     "output_type": "execute_result"
    }
   ],
   "source": [
    "sample_batch['encoder_input'].shape, sample_batch['decoder_input'].shape"
   ]
  },
  {
   "cell_type": "code",
   "execution_count": 35,
   "metadata": {},
   "outputs": [],
   "source": [
    "class Encoder(nn.Module):\n",
    "    def __init__(self, input_dim, hidden_dim, n_layers, dropout):\n",
    "        super().__init__()\n",
    "        self.n_layers = n_layers\n",
    "        \n",
    "        self.rnn = nn.GRU(input_dim, hidden_dim, n_layers, dropout=dropout)\n",
    "        self.dropout = nn.Dropout(dropout)\n",
    "\n",
    "    def forward(self, inp_seq):\n",
    "        inp_seq = inp_seq.permute(1,0,2)\n",
    "        outputs, hidden = self.rnn(inp_seq)\n",
    "        \n",
    "        return outputs, hidden"
   ]
  },
  {
   "cell_type": "code",
   "execution_count": 36,
   "metadata": {},
   "outputs": [],
   "source": [
    "class BahdanauAttention(nn.Module):\n",
    "    def __init__(self, dec_output_dim, units):\n",
    "        super(BahdanauAttention, self).__init__()\n",
    "        self.W1 = nn.Linear(dec_output_dim, units)\n",
    "        self.W2 = nn.Linear(dec_output_dim, units)\n",
    "        self.V = nn.Linear(dec_output_dim, 1)\n",
    "\n",
    "    def forward(self, hidden, enc_output):\n",
    "        query_with_time_axis = hidden.unsqueeze(1)\n",
    "        \n",
    "        score = self.V(torch.tanh(self.W1(query_with_time_axis) + self.W2(enc_output)))\n",
    "        \n",
    "        attention_weights = torch.softmax(score, axis=1)\n",
    "        \n",
    "        context_vector = attention_weights * enc_output\n",
    "        context_vector = torch.sum(context_vector, dim=1)\n",
    "\n",
    "        return context_vector, attention_weights"
   ]
  },
  {
   "cell_type": "code",
   "execution_count": 37,
   "metadata": {},
   "outputs": [],
   "source": [
    "class Decoder(nn.Module):\n",
    "    def __init__(self, dec_feature_size, encoder_hidden_dim, output_dim, decoder_hidden_dim, n_layers, dropout, attention):\n",
    "        super().__init__()\n",
    "        self.output_dim = output_dim\n",
    "        self.decoder_hidden_dim = decoder_hidden_dim\n",
    "        self.n_layers = n_layers\n",
    "        self.attention = attention\n",
    "        \n",
    "        self.layer = nn.Linear(dec_feature_size, encoder_hidden_dim)\n",
    "        self.rnn = nn.GRU(encoder_hidden_dim*2, decoder_hidden_dim, n_layers, dropout=dropout)\n",
    "        self.fc_out = nn.Linear(hidden_dim, output_dim)\n",
    "        self.dropout = nn.Dropout(dropout)\n",
    "\n",
    "    def forward(self, enc_output, dec_input, hidden):\n",
    "        dec_input = self.layer(dec_input)\n",
    "        context_vector, attention_weights = self.attention(hidden, enc_output)\n",
    "        dec_input = torch.cat([torch.sum(context_vector, dim=0), dec_input], dim=1)\n",
    "        dec_input = dec_input.unsqueeze(0)\n",
    "        \n",
    "        output, hidden = self.rnn(dec_input, hidden)\n",
    "\n",
    "        prediction = self.fc_out(output.sum(0))\n",
    "        \n",
    "        return prediction, hidden"
   ]
  },
  {
   "cell_type": "code",
   "execution_count": 38,
   "metadata": {},
   "outputs": [],
   "source": [
    "class Seq2Seq(nn.Module):\n",
    "    def __init__(self, encoder, decoder, attention):\n",
    "        super().__init__()\n",
    "        self.encoder = encoder\n",
    "        self.decoder = decoder\n",
    "        \n",
    "    def forward(self, encoder_input, decoder_input, teacher_forcing=False):\n",
    "        batch_size = decoder_input.size(0)\n",
    "        trg_len = decoder_input.size(1)\n",
    "        \n",
    "        outputs = torch.zeros(batch_size, trg_len-1, self.decoder.output_dim).to(device)\n",
    "        enc_output, hidden = self.encoder(encoder_input)\n",
    "        \n",
    "        dec_input = decoder_input[:, 0]\n",
    "        for t in range(1, trg_len):\n",
    "            output, hidden = self.decoder(enc_output, dec_input, hidden)\n",
    "            outputs[:, t-1] = output\n",
    "            if teacher_forcing == True:\n",
    "                dec_input = decoder_input[:, t]\n",
    "            else:\n",
    "                dec_input = output\n",
    "        \n",
    "        return outputs"
   ]
  },
  {
   "cell_type": "code",
   "execution_count": 39,
   "metadata": {},
   "outputs": [],
   "source": [
    "encoder = Encoder(input_dim=x_data.shape[-1], hidden_dim=hidden_dim, n_layers=n_layers, dropout=dropout)\n",
    "attention = BahdanauAttention(dec_output_dim=hidden_dim, units=hidden_dim)\n",
    "decoder = Decoder(\n",
    "    dec_feature_size=target_n, encoder_hidden_dim=hidden_dim, output_dim=target_n,\n",
    "    decoder_hidden_dim=hidden_dim, n_layers=n_layers, dropout=dropout,\n",
    "    attention = attention\n",
    ")\n",
    "\n",
    "model = Seq2Seq(encoder, decoder, attention)\n",
    "model = model.to(device)\n"
   ]
  },
  {
   "cell_type": "code",
   "execution_count": 40,
   "metadata": {},
   "outputs": [],
   "source": [
    "def my_custom_metric(pred, true):\n",
    "    pred = pred[:, [6, 13, 27]]\n",
    "    true = true[:, [6, 13, 27]]\n",
    "    target = torch.where(true!=0)\n",
    "    true = true[target]\n",
    "    pred = pred[target]\n",
    "    score = torch.mean(torch.abs((true-pred))/(true))\n",
    "    \n",
    "    return score"
   ]
  },
  {
   "cell_type": "code",
   "execution_count": 41,
   "metadata": {},
   "outputs": [],
   "source": [
    "optimizer = torch.optim.Adam(model.parameters(), lr=learning_rate)\n",
    "criterion = nn.L1Loss() # mae\n",
    "custom_metric = my_custom_metric"
   ]
  },
  {
   "cell_type": "code",
   "execution_count": 42,
   "metadata": {},
   "outputs": [],
   "source": [
    "def train_step(batch_item, epoch, batch, training, teacher_forcing):\n",
    "    encoder_input = batch_item['encoder_input'].to(device)\n",
    "    decoder_input = batch_item['decoder_input'].to(device)\n",
    "    if training is True:\n",
    "        model.train()\n",
    "        optimizer.zero_grad()\n",
    "        with torch.cuda.amp.autocast():\n",
    "            output = model(encoder_input, decoder_input, teacher_forcing)\n",
    "            loss = criterion(output, decoder_input[:,1:])\n",
    "            score = custom_metric(output, decoder_input[:,1:])\n",
    "        loss.backward()\n",
    "        optimizer.step()\n",
    "        \n",
    "        return loss, score\n",
    "    else:\n",
    "        model.eval()\n",
    "        with torch.no_grad():\n",
    "            output = model(encoder_input, decoder_input, False)\n",
    "            loss = criterion(output, decoder_input[:,1:])\n",
    "            score = custom_metric(output, decoder_input[:,1:])\n",
    "        return loss, score"
   ]
  },
  {
   "cell_type": "code",
   "execution_count": 43,
   "metadata": {},
   "outputs": [
    {
     "name": "stderr",
     "output_type": "stream",
     "text": [
      "0it [00:00, ?it/s]/home/hshan/venvs/keras/lib/python3.6/site-packages/torch/cuda/amp/autocast_mode.py:120: UserWarning: torch.cuda.amp.autocast only affects CUDA ops, but CUDA is not available.  Disabling.\n",
      "  warnings.warn(\"torch.cuda.amp.autocast only affects CUDA ops, but CUDA is not available.  Disabling.\")\n",
      "13it [00:04,  2.87it/s, Epoch=1, Loss=0.134064, Total Loss=0.170077, Score=0.359178, Total Score=0.535774]\n",
      "1it [00:00,  2.64it/s, Epoch=1, Val Loss=0.249992, Total Val Loss=0.249992, Val Score=0.481573, Total Val Score=0.481573]\n",
      "13it [00:05,  2.50it/s, Epoch=2, Loss=0.119985, Total Loss=0.127581, Score=0.325178, Total Score=0.355262]\n",
      "1it [00:00,  1.59it/s, Epoch=2, Val Loss=0.215794, Total Val Loss=0.215794, Val Score=0.430230, Total Val Score=0.430230]\n",
      "13it [00:05,  2.30it/s, Epoch=3, Loss=0.112681, Total Loss=0.117685, Score=0.290646, Total Score=0.312795]\n",
      "1it [00:00,  1.22it/s, Epoch=3, Val Loss=0.194773, Total Val Loss=0.194773, Val Score=0.414039, Total Val Score=0.414039]\n",
      "13it [00:06,  2.17it/s, Epoch=4, Loss=0.113218, Total Loss=0.113146, Score=0.271712, Total Score=0.291672]\n",
      "1it [00:01,  1.01s/it, Epoch=4, Val Loss=0.165859, Total Val Loss=0.165859, Val Score=0.338912, Total Val Score=0.338912]\n",
      "13it [00:06,  2.03it/s, Epoch=5, Loss=0.108697, Total Loss=0.110567, Score=0.321752, Total Score=0.279359]\n",
      "1it [00:01,  1.22s/it, Epoch=5, Val Loss=0.176079, Total Val Loss=0.176079, Val Score=0.378277, Total Val Score=0.378277]\n"
     ]
    }
   ],
   "source": [
    "loss_plot, val_loss_plot = [], []\n",
    "score_plot, val_score_plot = [], []\n",
    "\n",
    "for epoch in range(EPOCHS):\n",
    "    total_loss, total_val_loss = 0, 0\n",
    "    total_score, total_val_score = 0, 0\n",
    "    \n",
    "    tqdm_dataset = tqdm(enumerate(train_dataloader))\n",
    "    training = True\n",
    "    for batch, batch_item in tqdm_dataset:\n",
    "        batch_loss, batch_score = train_step(batch_item, epoch, batch, training, teacher_forcing)\n",
    "        total_loss += batch_loss\n",
    "        total_score += batch_score\n",
    "        \n",
    "        tqdm_dataset.set_postfix({\n",
    "            'Epoch': epoch + 1,\n",
    "            'Loss': '{:06f}'.format(batch_loss.item()),\n",
    "            'Total Loss' : '{:06f}'.format(total_loss/(batch+1)),\n",
    "            'Score': '{:06f}'.format(batch_score.item()),\n",
    "            'Total Score' : '{:06f}'.format(total_score/(batch+1)),\n",
    "        })\n",
    "    loss_plot.append(total_loss/(batch+1))\n",
    "    score_plot.append(total_score/(batch+1))\n",
    "    \n",
    "    tqdm_dataset = tqdm(enumerate(val_dataloader))\n",
    "    training = False\n",
    "    for batch, batch_item in tqdm_dataset:\n",
    "        batch_loss, batch_val_score = train_step(batch_item, epoch, batch, training, teacher_forcing)\n",
    "        total_val_loss += batch_loss\n",
    "        total_val_score += batch_val_score\n",
    "        \n",
    "        tqdm_dataset.set_postfix({\n",
    "            'Epoch': epoch + 1,\n",
    "            'Val Loss': '{:06f}'.format(batch_loss.item()),\n",
    "            'Total Val Loss' : '{:06f}'.format(total_val_loss/(batch+1)),\n",
    "            'Val Score': '{:06f}'.format(batch_val_score.item()),\n",
    "            'Total Val Score' : '{:06f}'.format(total_val_score/(batch+1)),\n",
    "        })\n",
    "    val_loss_plot.append(total_val_loss/(batch+1))\n",
    "    val_score_plot.append(total_val_score/(batch+1))\n",
    "    \n",
    "    if np.min(val_loss_plot) == val_loss_plot[-1]:\n",
    "        torch.save(model, save_path)"
   ]
  },
  {
   "cell_type": "code",
   "execution_count": 44,
   "metadata": {},
   "outputs": [
    {
     "data": {
      "image/png": "[encoded data removed]",
      "text/plain": [
       "<Figure size 432x288 with 1 Axes>"
      ]
     },
     "metadata": {
      "needs_background": "light"
     },
     "output_type": "display_data"
    },
    {
     "data": {
      "image/png": "[encoded data removed]",
      "text/plain": [
       "<Figure size 432x288 with 1 Axes>"
      ]
     },
     "metadata": {
      "needs_background": "light"
     },
     "output_type": "display_data"
    }
   ],
   "source": [
    "plt.plot(loss_plot, label='train_loss')\n",
    "plt.plot(val_loss_plot, label='val_loss')\n",
    "plt.xlabel('epoch')\n",
    "plt.ylabel('loss(mae)')\n",
    "plt.title('loss_plot')\n",
    "plt.legend()\n",
    "plt.show()\n",
    "\n",
    "plt.plot(score_plot, label='train_score')\n",
    "plt.plot(val_score_plot, label='val_score')\n",
    "plt.xlabel('epoch')\n",
    "plt.ylabel('score(nmae)')\n",
    "plt.title('score_plot')\n",
    "plt.legend()\n",
    "plt.show()\n"
   ]
  },
  {
   "cell_type": "code",
   "execution_count": 45,
   "metadata": {},
   "outputs": [],
   "source": [
    "model = torch.load(save_path)\n",
    "model = model.to(device)"
   ]
  },
  {
   "cell_type": "code",
   "execution_count": 46,
   "metadata": {},
   "outputs": [],
   "source": [
    "def predict(encoder_input):\n",
    "    model.train()\n",
    "    encoder_input = encoder_input.to(device)\n",
    "    decoder_input = torch.zeros([1, future_size+1, target_n], dtype=torch.float32).to(device)\n",
    "    with torch.no_grad():\n",
    "        output = model(encoder_input, decoder_input, False)\n",
    "    return output.cpu()"
   ]
  },
  {
   "cell_type": "code",
   "execution_count": 47,
   "metadata": {},
   "outputs": [],
   "source": [
    "submission = pd.read_csv('./data/sample_submission.csv')\n"
   ]
  },
  {
   "cell_type": "code",
   "execution_count": 48,
   "metadata": {},
   "outputs": [],
   "source": [
    "public_date_list = submission[submission['예측대상일자'].str.contains('2020')]['예측대상일자'].str.split('+').str[0].unique()\n"
   ]
  },
  {
   "cell_type": "code",
   "execution_count": 49,
   "metadata": {},
   "outputs": [],
   "source": [
    "outputs = []\n",
    "troch_norm = torch.tensor(norm.to_numpy()[2::2])\n",
    "for date in public_date_list:\n",
    "    test_df = pd.read_csv(f'./data/public_data/test_files/test_{date}.csv')\n",
    "    data = pd.read_csv('./data/public_data/train.csv')\n",
    "    data = pd.concat([data, test_df]).iloc[-window_size:]\n",
    "    \n",
    "    week_day_map = {}\n",
    "    for i, d in enumerate(data['요일'].unique()):\n",
    "        week_day_map[d] = i\n",
    "    data['요일'] = data['요일'].map(week_day_map)\n",
    "    data = data.iloc[:,1:]/norm\n",
    "    \n",
    "    encoder_input = torch.tensor(data.to_numpy(), dtype=torch.float32)\n",
    "    encoder_input = encoder_input.unsqueeze(0)\n",
    "    output = predict(encoder_input)*troch_norm\n",
    "    \n",
    "    idx = submission[submission['예측대상일자'].str.contains(date)].index\n",
    "    submission.loc[idx, '배추_가격(원/kg)':] = output[0,[6,13,27]].numpy()"
   ]
  },
  {
   "cell_type": "code",
   "execution_count": 50,
   "metadata": {},
   "outputs": [],
   "source": [
    "submission.to_csv('dacon_baseline.csv', index=False)\n"
   ]
  },
  {
   "cell_type": "code",
   "execution_count": null,
   "metadata": {},
   "outputs": [],
   "source": []
  }
 ],
 "metadata": {
  "kernelspec": {
   "display_name": "keras",
   "language": "python",
   "name": "keras"
  },
  "language_info": {
   "codemirror_mode": {
    "name": "ipython",
    "version": 3
   },
   "file_extension": ".py",
   "mimetype": "text/x-python",
   "name": "python",
   "nbconvert_exporter": "python",
   "pygments_lexer": "ipython3",
   "version": "3.6.3"
  }
 },
 "nbformat": 4,
 "nbformat_minor": 4
}
