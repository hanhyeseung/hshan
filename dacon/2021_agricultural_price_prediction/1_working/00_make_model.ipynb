{
 "cells": [
  {
   "cell_type": "code",
   "execution_count": 1,
   "metadata": {},
   "outputs": [],
   "source": [
    "import warnings\n",
    "warnings.filterwarnings('ignore')"
   ]
  },
  {
   "cell_type": "code",
   "execution_count": 2,
   "metadata": {},
   "outputs": [],
   "source": [
    "import pandas as pd\n",
    "import numpy as np\n",
    "from glob import glob\n",
    "import multiprocessing\n",
    "import pickle\n",
    "\n",
    "from sklearn.ensemble import GradientBoostingRegressor\n",
    "from sklearn.preprocessing import StandardScaler\n",
    "from sklearn.pipeline import make_pipeline\n",
    "\n",
    "import matplotlib.pyplot as plt\n",
    "%matplotlib inline\n"
   ]
  },
  {
   "cell_type": "code",
   "execution_count": 3,
   "metadata": {},
   "outputs": [],
   "source": [
    "data = pd.read_csv('../data/public_data/train.csv')\n",
    "data = data.drop(['요일'], axis=1)\n",
    "data['date'] = pd.to_datetime(data['date'], format='%Y-%m-%d')\n",
    "data.set_index('date', inplace=True)\n",
    "data.clip(0, inplace=True)"
   ]
  },
  {
   "cell_type": "code",
   "execution_count": 4,
   "metadata": {},
   "outputs": [
    {
     "data": {
      "text/html": [
       "<div>\n",
       "<style scoped>\n",
       "    .dataframe tbody tr th:only-of-type {\n",
       "        vertical-align: middle;\n",
       "    }\n",
       "\n",
       "    .dataframe tbody tr th {\n",
       "        vertical-align: top;\n",
       "    }\n",
       "\n",
       "    .dataframe thead th {\n",
       "        text-align: right;\n",
       "    }\n",
       "</style>\n",
       "<table border=\"1\" class=\"dataframe\">\n",
       "  <thead>\n",
       "    <tr style=\"text-align: right;\">\n",
       "      <th></th>\n",
       "      <th>배추_거래량(kg)</th>\n",
       "      <th>배추_가격(원/kg)</th>\n",
       "      <th>무_거래량(kg)</th>\n",
       "      <th>무_가격(원/kg)</th>\n",
       "      <th>양파_거래량(kg)</th>\n",
       "      <th>양파_가격(원/kg)</th>\n",
       "      <th>건고추_거래량(kg)</th>\n",
       "      <th>건고추_가격(원/kg)</th>\n",
       "      <th>마늘_거래량(kg)</th>\n",
       "      <th>마늘_가격(원/kg)</th>\n",
       "      <th>...</th>\n",
       "      <th>청상추_거래량(kg)</th>\n",
       "      <th>청상추_가격(원/kg)</th>\n",
       "      <th>백다다기_거래량(kg)</th>\n",
       "      <th>백다다기_가격(원/kg)</th>\n",
       "      <th>애호박_거래량(kg)</th>\n",
       "      <th>애호박_가격(원/kg)</th>\n",
       "      <th>캠벨얼리_거래량(kg)</th>\n",
       "      <th>캠벨얼리_가격(원/kg)</th>\n",
       "      <th>샤인마스캇_거래량(kg)</th>\n",
       "      <th>샤인마스캇_가격(원/kg)</th>\n",
       "    </tr>\n",
       "    <tr>\n",
       "      <th>date</th>\n",
       "      <th></th>\n",
       "      <th></th>\n",
       "      <th></th>\n",
       "      <th></th>\n",
       "      <th></th>\n",
       "      <th></th>\n",
       "      <th></th>\n",
       "      <th></th>\n",
       "      <th></th>\n",
       "      <th></th>\n",
       "      <th></th>\n",
       "      <th></th>\n",
       "      <th></th>\n",
       "      <th></th>\n",
       "      <th></th>\n",
       "      <th></th>\n",
       "      <th></th>\n",
       "      <th></th>\n",
       "      <th></th>\n",
       "      <th></th>\n",
       "      <th></th>\n",
       "    </tr>\n",
       "  </thead>\n",
       "  <tbody>\n",
       "    <tr>\n",
       "      <th>2016-01-01</th>\n",
       "      <td>0.0</td>\n",
       "      <td>0.0</td>\n",
       "      <td>0.0</td>\n",
       "      <td>0.0</td>\n",
       "      <td>0.0</td>\n",
       "      <td>0.0</td>\n",
       "      <td>0.0</td>\n",
       "      <td>0.0</td>\n",
       "      <td>0.0</td>\n",
       "      <td>0.0</td>\n",
       "      <td>...</td>\n",
       "      <td>0.0</td>\n",
       "      <td>0.0</td>\n",
       "      <td>0.0</td>\n",
       "      <td>0.0</td>\n",
       "      <td>0.0</td>\n",
       "      <td>0.0</td>\n",
       "      <td>0.0</td>\n",
       "      <td>0.0</td>\n",
       "      <td>0.0</td>\n",
       "      <td>0.0</td>\n",
       "    </tr>\n",
       "    <tr>\n",
       "      <th>2016-01-02</th>\n",
       "      <td>80860.0</td>\n",
       "      <td>329.0</td>\n",
       "      <td>80272.0</td>\n",
       "      <td>360.0</td>\n",
       "      <td>122787.5</td>\n",
       "      <td>1281.0</td>\n",
       "      <td>3.0</td>\n",
       "      <td>11000.0</td>\n",
       "      <td>15019.0</td>\n",
       "      <td>5475.0</td>\n",
       "      <td>...</td>\n",
       "      <td>5125.0</td>\n",
       "      <td>9235.0</td>\n",
       "      <td>434.0</td>\n",
       "      <td>2109.0</td>\n",
       "      <td>19159.0</td>\n",
       "      <td>2414.0</td>\n",
       "      <td>880.0</td>\n",
       "      <td>2014.0</td>\n",
       "      <td>0.0</td>\n",
       "      <td>0.0</td>\n",
       "    </tr>\n",
       "  </tbody>\n",
       "</table>\n",
       "<p>2 rows × 42 columns</p>\n",
       "</div>"
      ],
      "text/plain": [
       "            배추_거래량(kg)  배추_가격(원/kg)  무_거래량(kg)  무_가격(원/kg)  양파_거래량(kg)  \\\n",
       "date                                                                     \n",
       "2016-01-01         0.0          0.0        0.0         0.0         0.0   \n",
       "2016-01-02     80860.0        329.0    80272.0       360.0    122787.5   \n",
       "\n",
       "            양파_가격(원/kg)  건고추_거래량(kg)  건고추_가격(원/kg)  마늘_거래량(kg)  마늘_가격(원/kg)  \\\n",
       "date                                                                          \n",
       "2016-01-01          0.0          0.0           0.0         0.0          0.0   \n",
       "2016-01-02       1281.0          3.0       11000.0     15019.0       5475.0   \n",
       "\n",
       "            ...  청상추_거래량(kg)  청상추_가격(원/kg)  백다다기_거래량(kg)  백다다기_가격(원/kg)  \\\n",
       "date        ...                                                           \n",
       "2016-01-01  ...          0.0           0.0           0.0            0.0   \n",
       "2016-01-02  ...       5125.0        9235.0         434.0         2109.0   \n",
       "\n",
       "            애호박_거래량(kg)  애호박_가격(원/kg)  캠벨얼리_거래량(kg)  캠벨얼리_가격(원/kg)  \\\n",
       "date                                                                 \n",
       "2016-01-01          0.0           0.0           0.0            0.0   \n",
       "2016-01-02      19159.0        2414.0         880.0         2014.0   \n",
       "\n",
       "            샤인마스캇_거래량(kg)  샤인마스캇_가격(원/kg)  \n",
       "date                                       \n",
       "2016-01-01            0.0             0.0  \n",
       "2016-01-02            0.0             0.0  \n",
       "\n",
       "[2 rows x 42 columns]"
      ]
     },
     "execution_count": 4,
     "metadata": {},
     "output_type": "execute_result"
    }
   ],
   "source": [
    "data.head(2)"
   ]
  },
  {
   "cell_type": "code",
   "execution_count": 5,
   "metadata": {},
   "outputs": [
    {
     "data": {
      "text/plain": [
       "Index(['배추_거래량(kg)', '배추_가격(원/kg)', '무_거래량(kg)', '무_가격(원/kg)', '양파_거래량(kg)',\n",
       "       '양파_가격(원/kg)', '건고추_거래량(kg)', '건고추_가격(원/kg)', '마늘_거래량(kg)',\n",
       "       '마늘_가격(원/kg)', '대파_거래량(kg)', '대파_가격(원/kg)', '얼갈이배추_거래량(kg)',\n",
       "       '얼갈이배추_가격(원/kg)', '양배추_거래량(kg)', '양배추_가격(원/kg)', '깻잎_거래량(kg)',\n",
       "       '깻잎_가격(원/kg)', '시금치_거래량(kg)', '시금치_가격(원/kg)', '미나리_거래량(kg)',\n",
       "       '미나리_가격(원/kg)', '당근_거래량(kg)', '당근_가격(원/kg)', '파프리카_거래량(kg)',\n",
       "       '파프리카_가격(원/kg)', '새송이_거래량(kg)', '새송이_가격(원/kg)', '팽이버섯_거래량(kg)',\n",
       "       '팽이버섯_가격(원/kg)', '토마토_거래량(kg)', '토마토_가격(원/kg)', '청상추_거래량(kg)',\n",
       "       '청상추_가격(원/kg)', '백다다기_거래량(kg)', '백다다기_가격(원/kg)', '애호박_거래량(kg)',\n",
       "       '애호박_가격(원/kg)', '캠벨얼리_거래량(kg)', '캠벨얼리_가격(원/kg)', '샤인마스캇_거래량(kg)',\n",
       "       '샤인마스캇_가격(원/kg)'],\n",
       "      dtype='object')"
      ]
     },
     "execution_count": 5,
     "metadata": {},
     "output_type": "execute_result"
    }
   ],
   "source": [
    "data.columns"
   ]
  },
  {
   "cell_type": "code",
   "execution_count": 6,
   "metadata": {},
   "outputs": [],
   "source": [
    "unique_pum = [\n",
    "        '배추', '무', '양파', '건고추','마늘',\n",
    "        '대파', '얼갈이배추', '양배추', '깻잎',\n",
    "        '시금치', '미나리', '당근',\n",
    "        '파프리카', '새송이', '팽이버섯', '토마토',\n",
    "    ]"
   ]
  },
  {
   "cell_type": "code",
   "execution_count": 7,
   "metadata": {},
   "outputs": [],
   "source": [
    "unique_kind = [\n",
    "        '청상추', '백다다기', '애호박', '캠벨얼리', '샤인마스캇'\n",
    "    ]"
   ]
  },
  {
   "cell_type": "code",
   "execution_count": 8,
   "metadata": {
    "scrolled": true
   },
   "outputs": [],
   "source": [
    "def make_df(all_data, target):\n",
    "    data1 = all_data[['{}_거래량(kg)'.format(target), '{}_가격(원/kg)'.format(target)]]\n",
    "\n",
    "    data1.columns = ['amonut', 'price']\n",
    "\n",
    "    data1['year'] = data1.index.year\n",
    "    data1['month'] = data1.index.month\n",
    "    data1['day'] = data1.index.day\n",
    "    data1['week'] = data1.index.weekday\n",
    "\n",
    "    temp1 = pd.get_dummies(data1['week'])\n",
    "\n",
    "    data2 = data1.copy()\n",
    "\n",
    "    data2 = data2.reset_index().merge(temp1.reset_index(), on='date').set_index('date')\n",
    "    data2 = data2.drop(['week'], axis=1)\n",
    "    return data2"
   ]
  },
  {
   "cell_type": "code",
   "execution_count": 9,
   "metadata": {},
   "outputs": [],
   "source": [
    "def get_train(train_data):\n",
    "    \n",
    "    train_X = train_data[feature_cols].values\n",
    "    train_y = train_data[y_col].values\n",
    "\n",
    "    return train_X, train_y"
   ]
  },
  {
   "cell_type": "code",
   "execution_count": 10,
   "metadata": {},
   "outputs": [],
   "source": [
    "dt_index = pd.date_range(start=data.index.min(), end=data.index.max(), freq='1d')"
   ]
  },
  {
   "cell_type": "code",
   "execution_count": 11,
   "metadata": {},
   "outputs": [],
   "source": [
    "vali_day = [4, 7]\n",
    "test_day = [2, 5]"
   ]
  },
  {
   "cell_type": "code",
   "execution_count": 12,
   "metadata": {},
   "outputs": [],
   "source": [
    "feature_cols = ['year', 'month', 'day', 0, 1, 2, 3, 4, 5, 6]\n",
    "y_col = ['price']"
   ]
  },
  {
   "cell_type": "code",
   "execution_count": null,
   "metadata": {},
   "outputs": [],
   "source": []
  },
  {
   "cell_type": "code",
   "execution_count": 14,
   "metadata": {},
   "outputs": [],
   "source": [
    "def make_model(all_data, target):\n",
    "    \n",
    "    md_data = make_df(all_data, target)\n",
    "\n",
    "    day = md_data.index.day % 10\n",
    "\n",
    "    train_data = md_data[(~day.isin(vali_day))&(~day.isin(test_day))]\n",
    "    train_X, train_y = get_train(md_data)\n",
    "\n",
    "    np.random.seed(1)\n",
    "    idx = np.arange(train_X.shape[0])\n",
    "    np.random.shuffle(idx)\n",
    "\n",
    "    _train_X = train_X[idx, :]\n",
    "    _train_y = train_y[idx, :]\n",
    "\n",
    "    params = {\n",
    "        'loss': 'huber',\n",
    "        'learning_rate': 0.1,\n",
    "        'n_estimators': 300,\n",
    "        'subsample': 1.0,\n",
    "        'min_samples_split': 3,\n",
    "        'min_samples_leaf': 2,\n",
    "        'max_depth': 3,\n",
    "        'alpha': 0.9,\n",
    "    }\n",
    "    gab_model = make_pipeline(\n",
    "        StandardScaler(),\n",
    "        GradientBoostingRegressor(**params)\n",
    "    )\n",
    "\n",
    "    gab_model.fit(_train_X, _train_y)\n",
    "\n",
    "    with open('model/bo_model_{}.pkl'.format(target), 'wb') as f:\n",
    "        pickle.dump(gab_model, f)"
   ]
  },
  {
   "cell_type": "code",
   "execution_count": 15,
   "metadata": {},
   "outputs": [],
   "source": [
    "for target in unique_pum:\n",
    "    make_model(data, target)"
   ]
  },
  {
   "cell_type": "code",
   "execution_count": null,
   "metadata": {},
   "outputs": [],
   "source": []
  },
  {
   "cell_type": "code",
   "execution_count": null,
   "metadata": {},
   "outputs": [],
   "source": []
  },
  {
   "cell_type": "markdown",
   "metadata": {},
   "source": [
    "# predict"
   ]
  },
  {
   "cell_type": "code",
   "execution_count": 22,
   "metadata": {},
   "outputs": [],
   "source": [
    "md_data = make_df(data, target)\n",
    "\n",
    "day = md_data.index.day % 10\n",
    "\n",
    "vali_data = md_data[(day.isin(vali_day))]"
   ]
  },
  {
   "cell_type": "code",
   "execution_count": 23,
   "metadata": {},
   "outputs": [],
   "source": [
    "\n",
    "with open('model/bo_model_{}.pkl'.format(unique_pum[0]), 'rb') as f:\n",
    "    gab_model = pickle.load(f)\n",
    "\n",
    "pred = gab_model.predict(vali_data[feature_cols])\n",
    "\n",
    "vali_data['pred'] = pred"
   ]
  },
  {
   "cell_type": "code",
   "execution_count": 24,
   "metadata": {},
   "outputs": [],
   "source": [
    "plt.rcParams[\"figure.figsize\"] = (5,5)"
   ]
  },
  {
   "cell_type": "code",
   "execution_count": 26,
   "metadata": {},
   "outputs": [
    {
     "data": {
      "image/png": "[encoded data removed]",
      "text/plain": [
       "<Figure size 360x360 with 1 Axes>"
      ]
     },
     "metadata": {
      "needs_background": "light"
     },
     "output_type": "display_data"
    }
   ],
   "source": [
    "y = vali_data['pred']\n",
    "x = vali_data['price']\n",
    "\n",
    "ymax = max(x.max(), y.max())*1.1\n",
    "\n",
    "fig, ax = plt.subplots(1, 1)\n",
    "ax.scatter(x, y, s=5, color='blue', alpha=1)\n",
    "ax.set_ylabel('predict ghi($W/m^2$)')\n",
    "ax.set_xlabel('true ghi($W/m^2$)')\n",
    "ax.plot(np.linspace(0, ymax, 100), np.linspace(0, ymax, 100), \n",
    "        linewidth=3, color='red')\n",
    "#ax.legend()\n",
    "ax.title.set_text('GAB_model')"
   ]
  },
  {
   "cell_type": "code",
   "execution_count": null,
   "metadata": {},
   "outputs": [],
   "source": []
  },
  {
   "cell_type": "code",
   "execution_count": null,
   "metadata": {},
   "outputs": [],
   "source": []
  },
  {
   "cell_type": "code",
   "execution_count": null,
   "metadata": {},
   "outputs": [],
   "source": []
  },
  {
   "cell_type": "code",
   "execution_count": null,
   "metadata": {},
   "outputs": [],
   "source": []
  },
  {
   "cell_type": "code",
   "execution_count": null,
   "metadata": {},
   "outputs": [],
   "source": []
  },
  {
   "cell_type": "code",
   "execution_count": null,
   "metadata": {},
   "outputs": [],
   "source": []
  },
  {
   "cell_type": "code",
   "execution_count": null,
   "metadata": {},
   "outputs": [],
   "source": []
  },
  {
   "cell_type": "code",
   "execution_count": null,
   "metadata": {},
   "outputs": [],
   "source": []
  },
  {
   "cell_type": "code",
   "execution_count": null,
   "metadata": {},
   "outputs": [],
   "source": []
  },
  {
   "cell_type": "code",
   "execution_count": null,
   "metadata": {},
   "outputs": [],
   "source": []
  }
 ],
 "metadata": {
  "kernelspec": {
   "display_name": "sp2109",
   "language": "python",
   "name": "sp2109"
  },
  "language_info": {
   "codemirror_mode": {
    "name": "ipython",
    "version": 3
   },
   "file_extension": ".py",
   "mimetype": "text/x-python",
   "name": "python",
   "nbconvert_exporter": "python",
   "pygments_lexer": "ipython3",
   "version": "3.6.3"
  }
 },
 "nbformat": 4,
 "nbformat_minor": 2
}
