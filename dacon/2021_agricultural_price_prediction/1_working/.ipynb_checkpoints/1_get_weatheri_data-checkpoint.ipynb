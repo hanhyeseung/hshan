{
 "cells": [
  {
   "cell_type": "markdown",
   "metadata": {},
   "source": [
    "# 웨더아이 크롤링\n",
    "* 웨더아이: 과거 날씨를 볼 수 있는 사이트 (https://www.weatheri.co.kr/bygone/bygone01.php)"
   ]
  },
  {
   "cell_type": "markdown",
   "metadata": {},
   "source": [
    "## 설정 필요\n",
    "* 지점 선택: def make_jijum_table 보고 원하는 지점 선택해야함 \n",
    "* 기간 설정"
   ]
  },
  {
   "cell_type": "code",
   "execution_count": 5,
   "metadata": {},
   "outputs": [],
   "source": [
    "from datetime import datetime, timedelta, date\n",
    "import pandas as pd\n",
    "\n",
    "import urllib\n",
    "from bs4 import BeautifulSoup\n",
    "\n",
    "from selenium import webdriver\n",
    "from selenium.webdriver.common.keys import Keys\n",
    "from selenium.webdriver.support import expected_conditions as EC\n",
    "from selenium.webdriver.support.select import Select\n",
    "from selenium.webdriver.support.ui import WebDriverWait\n",
    "from selenium.webdriver.common.by import By\n",
    "\n",
    "from time import sleep"
   ]
  },
  {
   "cell_type": "markdown",
   "metadata": {},
   "source": [
    "## 지점 id 리스트"
   ]
  },
  {
   "cell_type": "code",
   "execution_count": 6,
   "metadata": {},
   "outputs": [],
   "source": [
    "def make_jijum_table():\n",
    "    url2 = 'https://www.weatheri.co.kr/bygone/bygone01.php'\n",
    "\n",
    "    # get html\n",
    "    browser2 = webdriver.PhantomJS()\n",
    "    browser2.get(url2)\n",
    "\n",
    "    select_location = browser2.find_element_by_name('jijum_id')\n",
    "    options = select_location.find_elements_by_tag_name(\"option\")\n",
    "\n",
    "    jijum_table = pd.DataFrame(columns=['id', 'name'])\n",
    "    for element in options:\n",
    "        location_id = element.get_attribute(\"value\")\n",
    "        location_name = element.text\n",
    "        jijum_info = pd.Series([location_id, location_name], index=['id', 'name'])\n",
    "        jijum_table = jijum_table.append(jijum_info, ignore_index=True)\n",
    "    return jijum_table"
   ]
  },
  {
   "cell_type": "code",
   "execution_count": 7,
   "metadata": {},
   "outputs": [],
   "source": [
    "def make_dt_info(date):\n",
    "    \n",
    "    year = date.year\n",
    "    month = date.month\n",
    "    day = date.day\n",
    "    \n",
    "    return [year, month, day]"
   ]
  },
  {
   "cell_type": "code",
   "execution_count": 8,
   "metadata": {},
   "outputs": [],
   "source": [
    "def get_data(s_dt_info, e_dt_info, location_id):\n",
    "\n",
    "    url = 'https://www.weatheri.co.kr/bygone/pastDB_tmp.php?jijum_id={}&start={}-{}-{}&end={}-{}-{}'.\\\n",
    "    format(location_id,\n",
    "           s_dt_info[0], s_dt_info[1], s_dt_info[2], \n",
    "           e_dt_info[0],  e_dt_info[1],  e_dt_info[2]\n",
    "           )\n",
    "\n",
    "    # get html\n",
    "    browser = webdriver.PhantomJS()\n",
    "    browser.get(url)\n",
    "\n",
    "    table = browser.find_elements_by_tag_name('table')[2]\n",
    "\n",
    "    data_list = []\n",
    "    # table = browser.find_elements_by_tag_name('table')[2]\n",
    "    tbody = table.find_element_by_tag_name(\"tbody\")\n",
    "    for i in range(1, len(tbody.find_elements_by_tag_name(\"tr\"))):\n",
    "        rows = tbody.find_elements_by_tag_name(\"tr\")[i]\n",
    "        body= rows.find_elements_by_tag_name(\"td\")\n",
    "        row_data = []\n",
    "        for index, value in enumerate(body):\n",
    "            value_data = value.text\n",
    "            row_data.append(value_data)\n",
    "        data_list.append(row_data)\n",
    "\n",
    "    df = pd.DataFrame(data_list)\n",
    "\n",
    "    header = df.iloc[0]\n",
    "    df = df[1:]\n",
    "\n",
    "    df.rename(columns=header, inplace=True)\n",
    "    df['날짜'] = df['날짜'].str.replace('\\n', repl=r'')\n",
    "    df['날짜'] = df['날짜'].str.split(' ').str[0]\n",
    "    df['날짜'] = pd.to_datetime(df['날짜'], format='%Y년%m월%d일')\n",
    "    \n",
    "    return df"
   ]
  },
  {
   "cell_type": "code",
   "execution_count": 9,
   "metadata": {},
   "outputs": [
    {
     "name": "stderr",
     "output_type": "stream",
     "text": [
      "/home/hshan/venvs/sp2109/lib/python3.6/site-packages/selenium/webdriver/phantomjs/webdriver.py:49: UserWarning: Selenium support for PhantomJS has been deprecated, please use headless versions of Chrome or Firefox instead\n",
      "  warnings.warn('Selenium support for PhantomJS has been deprecated, please use headless '\n"
     ]
    },
    {
     "name": "stdout",
     "output_type": "stream",
     "text": [
      "108\n"
     ]
    }
   ],
   "source": [
    "jijum_table = make_jijum_table()\n",
    "loc_id = int(jijum_table[jijum_table['name'] == '서울']['id'].iloc[0])\n",
    "print(loc_id)"
   ]
  },
  {
   "cell_type": "code",
   "execution_count": 10,
   "metadata": {},
   "outputs": [],
   "source": [
    "dt_index = pd.date_range(start='20160101', periods=3, freq='MS')"
   ]
  },
  {
   "cell_type": "code",
   "execution_count": 11,
   "metadata": {},
   "outputs": [],
   "source": [
    "start_dt_info = make_dt_info(dt_index[0])\n",
    "end_dt_info = make_dt_info(dt_index[-1])"
   ]
  },
  {
   "cell_type": "code",
   "execution_count": 12,
   "metadata": {
    "scrolled": true
   },
   "outputs": [
    {
     "name": "stdout",
     "output_type": "stream",
     "text": [
      "[2016, 1, 1]\n"
     ]
    },
    {
     "name": "stderr",
     "output_type": "stream",
     "text": [
      "/home/hshan/venvs/sp2109/lib/python3.6/site-packages/selenium/webdriver/phantomjs/webdriver.py:49: UserWarning: Selenium support for PhantomJS has been deprecated, please use headless versions of Chrome or Firefox instead\n",
      "  warnings.warn('Selenium support for PhantomJS has been deprecated, please use headless '\n"
     ]
    },
    {
     "name": "stdout",
     "output_type": "stream",
     "text": [
      "[2016, 2, 1]\n"
     ]
    },
    {
     "name": "stderr",
     "output_type": "stream",
     "text": [
      "/home/hshan/venvs/sp2109/lib/python3.6/site-packages/selenium/webdriver/phantomjs/webdriver.py:49: UserWarning: Selenium support for PhantomJS has been deprecated, please use headless versions of Chrome or Firefox instead\n",
      "  warnings.warn('Selenium support for PhantomJS has been deprecated, please use headless '\n"
     ]
    },
    {
     "name": "stdout",
     "output_type": "stream",
     "text": [
      "[2016, 3, 1]\n"
     ]
    },
    {
     "name": "stderr",
     "output_type": "stream",
     "text": [
      "/home/hshan/venvs/sp2109/lib/python3.6/site-packages/selenium/webdriver/phantomjs/webdriver.py:49: UserWarning: Selenium support for PhantomJS has been deprecated, please use headless versions of Chrome or Firefox instead\n",
      "  warnings.warn('Selenium support for PhantomJS has been deprecated, please use headless '\n"
     ]
    }
   ],
   "source": [
    "wt_data = pd.DataFrame()\n",
    "for i in range(0, len(dt_index)):\n",
    "    start_dt_info = make_dt_info(dt_index[i])\n",
    "    print(start_dt_info)\n",
    "    monthly_wt_data = get_data(start_dt_info, end_dt_info, loc_id)\n",
    "    wt_data = wt_data.append(monthly_wt_data)"
   ]
  },
  {
   "cell_type": "code",
   "execution_count": 13,
   "metadata": {
    "scrolled": true
   },
   "outputs": [
    {
     "data": {
      "text/html": [
       "<div>\n",
       "<style scoped>\n",
       "    .dataframe tbody tr th:only-of-type {\n",
       "        vertical-align: middle;\n",
       "    }\n",
       "\n",
       "    .dataframe tbody tr th {\n",
       "        vertical-align: top;\n",
       "    }\n",
       "\n",
       "    .dataframe thead th {\n",
       "        text-align: right;\n",
       "    }\n",
       "</style>\n",
       "<table border=\"1\" class=\"dataframe\">\n",
       "  <thead>\n",
       "    <tr style=\"text-align: right;\">\n",
       "      <th></th>\n",
       "      <th>날짜</th>\n",
       "      <th>평균\\n기온</th>\n",
       "      <th>최고\\n기온</th>\n",
       "      <th>최저\\n기온</th>\n",
       "      <th>강수량(mm)</th>\n",
       "      <th>신적설(cm)</th>\n",
       "      <th>평균\\n풍속(m/s)</th>\n",
       "      <th>평균\\n습도\\n(%)</th>\n",
       "      <th>운량(1/10)</th>\n",
       "      <th>일조\\n시간\\n(Hr)</th>\n",
       "      <th>날씨</th>\n",
       "    </tr>\n",
       "  </thead>\n",
       "  <tbody>\n",
       "    <tr>\n",
       "      <th>1</th>\n",
       "      <td>2016-01-01</td>\n",
       "      <td>1.2</td>\n",
       "      <td>4.0</td>\n",
       "      <td>-3.3</td>\n",
       "      <td>-</td>\n",
       "      <td>-</td>\n",
       "      <td>1.7</td>\n",
       "      <td>73</td>\n",
       "      <td>7.0</td>\n",
       "      <td>2.1</td>\n",
       "      <td>구름많음/안개</td>\n",
       "    </tr>\n",
       "    <tr>\n",
       "      <th>2</th>\n",
       "      <td>2016-01-02</td>\n",
       "      <td>5.7</td>\n",
       "      <td>9.5</td>\n",
       "      <td>1.0</td>\n",
       "      <td>-</td>\n",
       "      <td>-</td>\n",
       "      <td>1.9</td>\n",
       "      <td>76</td>\n",
       "      <td>7.8</td>\n",
       "      <td>3.6</td>\n",
       "      <td>구름많음/안개</td>\n",
       "    </tr>\n",
       "    <tr>\n",
       "      <th>3</th>\n",
       "      <td>2016-01-03</td>\n",
       "      <td>6.5</td>\n",
       "      <td>9.4</td>\n",
       "      <td>5.1</td>\n",
       "      <td>-</td>\n",
       "      <td>-</td>\n",
       "      <td>1.9</td>\n",
       "      <td>81</td>\n",
       "      <td>7.5</td>\n",
       "      <td>2.2</td>\n",
       "      <td>구름많음/안개</td>\n",
       "    </tr>\n",
       "    <tr>\n",
       "      <th>4</th>\n",
       "      <td>2016-01-04</td>\n",
       "      <td>2.0</td>\n",
       "      <td>5.3</td>\n",
       "      <td>-2.5</td>\n",
       "      <td>-</td>\n",
       "      <td>-</td>\n",
       "      <td>3.2</td>\n",
       "      <td>55</td>\n",
       "      <td>4.4</td>\n",
       "      <td>8.6</td>\n",
       "      <td>구름조금/안개</td>\n",
       "    </tr>\n",
       "    <tr>\n",
       "      <th>5</th>\n",
       "      <td>2016-01-05</td>\n",
       "      <td>-2.7</td>\n",
       "      <td>1.5</td>\n",
       "      <td>-4.8</td>\n",
       "      <td>-</td>\n",
       "      <td>-</td>\n",
       "      <td>2.4</td>\n",
       "      <td>39</td>\n",
       "      <td>3.4</td>\n",
       "      <td>7.9</td>\n",
       "      <td>구름조금</td>\n",
       "    </tr>\n",
       "    <tr>\n",
       "      <th>...</th>\n",
       "      <td>...</td>\n",
       "      <td>...</td>\n",
       "      <td>...</td>\n",
       "      <td>...</td>\n",
       "      <td>...</td>\n",
       "      <td>...</td>\n",
       "      <td>...</td>\n",
       "      <td>...</td>\n",
       "      <td>...</td>\n",
       "      <td>...</td>\n",
       "      <td>...</td>\n",
       "    </tr>\n",
       "    <tr>\n",
       "      <th>27</th>\n",
       "      <td>2016-03-27</td>\n",
       "      <td>7.2</td>\n",
       "      <td>13.1</td>\n",
       "      <td>2.2</td>\n",
       "      <td>-</td>\n",
       "      <td>-</td>\n",
       "      <td>2.6</td>\n",
       "      <td>54</td>\n",
       "      <td>0.0</td>\n",
       "      <td>11.1</td>\n",
       "      <td>맑음/안개</td>\n",
       "    </tr>\n",
       "    <tr>\n",
       "      <th>28</th>\n",
       "      <td>2016-03-28</td>\n",
       "      <td>9.8</td>\n",
       "      <td>17.4</td>\n",
       "      <td>2.3</td>\n",
       "      <td>-</td>\n",
       "      <td>-</td>\n",
       "      <td>2.1</td>\n",
       "      <td>49</td>\n",
       "      <td>0.2</td>\n",
       "      <td>11.3</td>\n",
       "      <td>맑음/안개</td>\n",
       "    </tr>\n",
       "    <tr>\n",
       "      <th>29</th>\n",
       "      <td>2016-03-29</td>\n",
       "      <td>11.3</td>\n",
       "      <td>17.1</td>\n",
       "      <td>7.6</td>\n",
       "      <td>0.1</td>\n",
       "      <td>-</td>\n",
       "      <td>3.1</td>\n",
       "      <td>57</td>\n",
       "      <td>7.4</td>\n",
       "      <td>5.9</td>\n",
       "      <td>구름많음/비/안개</td>\n",
       "    </tr>\n",
       "    <tr>\n",
       "      <th>30</th>\n",
       "      <td>2016-03-30</td>\n",
       "      <td>11.5</td>\n",
       "      <td>18.3</td>\n",
       "      <td>7.0</td>\n",
       "      <td>-</td>\n",
       "      <td>-</td>\n",
       "      <td>2.3</td>\n",
       "      <td>52</td>\n",
       "      <td>2.0</td>\n",
       "      <td>10.5</td>\n",
       "      <td>구름조금/안개</td>\n",
       "    </tr>\n",
       "    <tr>\n",
       "      <th>31</th>\n",
       "      <td>2016-03-31</td>\n",
       "      <td>13.5</td>\n",
       "      <td>21.4</td>\n",
       "      <td>6.0</td>\n",
       "      <td>-</td>\n",
       "      <td>-</td>\n",
       "      <td>2.2</td>\n",
       "      <td>28</td>\n",
       "      <td>4.5</td>\n",
       "      <td>9.8</td>\n",
       "      <td>구름조금</td>\n",
       "    </tr>\n",
       "  </tbody>\n",
       "</table>\n",
       "<p>91 rows × 11 columns</p>\n",
       "</div>"
      ],
      "text/plain": [
       "           날짜 평균\\n기온 최고\\n기온 최저\\n기온 강수량(mm) 신적설(cm) 평균\\n풍속(m/s) 평균\\n습도\\n(%)  \\\n",
       "1  2016-01-01    1.2    4.0   -3.3       -       -         1.7          73   \n",
       "2  2016-01-02    5.7    9.5    1.0       -       -         1.9          76   \n",
       "3  2016-01-03    6.5    9.4    5.1       -       -         1.9          81   \n",
       "4  2016-01-04    2.0    5.3   -2.5       -       -         3.2          55   \n",
       "5  2016-01-05   -2.7    1.5   -4.8       -       -         2.4          39   \n",
       "..        ...    ...    ...    ...     ...     ...         ...         ...   \n",
       "27 2016-03-27    7.2   13.1    2.2       -       -         2.6          54   \n",
       "28 2016-03-28    9.8   17.4    2.3       -       -         2.1          49   \n",
       "29 2016-03-29   11.3   17.1    7.6     0.1       -         3.1          57   \n",
       "30 2016-03-30   11.5   18.3    7.0       -       -         2.3          52   \n",
       "31 2016-03-31   13.5   21.4    6.0       -       -         2.2          28   \n",
       "\n",
       "   운량(1/10) 일조\\n시간\\n(Hr)         날씨  \n",
       "1       7.0          2.1    구름많음/안개  \n",
       "2       7.8          3.6    구름많음/안개  \n",
       "3       7.5          2.2    구름많음/안개  \n",
       "4       4.4          8.6    구름조금/안개  \n",
       "5       3.4          7.9       구름조금  \n",
       "..      ...          ...        ...  \n",
       "27      0.0         11.1      맑음/안개  \n",
       "28      0.2         11.3      맑음/안개  \n",
       "29      7.4          5.9  구름많음/비/안개  \n",
       "30      2.0         10.5    구름조금/안개  \n",
       "31      4.5          9.8       구름조금  \n",
       "\n",
       "[91 rows x 11 columns]"
      ]
     },
     "execution_count": 13,
     "metadata": {},
     "output_type": "execute_result"
    }
   ],
   "source": [
    "wt_data"
   ]
  },
  {
   "cell_type": "code",
   "execution_count": null,
   "metadata": {},
   "outputs": [],
   "source": []
  },
  {
   "cell_type": "code",
   "execution_count": null,
   "metadata": {},
   "outputs": [],
   "source": []
  },
  {
   "cell_type": "code",
   "execution_count": null,
   "metadata": {},
   "outputs": [],
   "source": []
  },
  {
   "cell_type": "code",
   "execution_count": 16,
   "metadata": {},
   "outputs": [
    {
     "name": "stderr",
     "output_type": "stream",
     "text": [
      "/home/hshan/venvs/sp2109/lib/python3.6/site-packages/selenium/webdriver/phantomjs/webdriver.py:49: UserWarning: Selenium support for PhantomJS has been deprecated, please use headless versions of Chrome or Firefox instead\n",
      "  warnings.warn('Selenium support for PhantomJS has been deprecated, please use headless '\n"
     ]
    }
   ],
   "source": [
    "url2 = 'https://www.weatheri.co.kr/bygone/bygone01.php'\n",
    "\n",
    "# get html\n",
    "browser2 = webdriver.PhantomJS()\n",
    "browser2.get(url2)\n",
    "\n",
    "select_location = browser2.find_element_by_name('jijum_id')\n",
    "options = select_location.find_elements_by_tag_name(\"option\")\n",
    "\n",
    "jijum_table = pd.DataFrame(columns=['id', 'name'])\n",
    "for element in options:\n",
    "    location_id = element.get_attribute(\"value\")\n",
    "    location_name = element.text\n",
    "    jijum_info = pd.Series([location_id, location_name], index=['id', 'name'])\n",
    "    jijum_table = jijum_table.append(jijum_info, ignore_index=True)"
   ]
  },
  {
   "cell_type": "code",
   "execution_count": 17,
   "metadata": {},
   "outputs": [
    {
     "data": {
      "text/html": [
       "<div>\n",
       "<style scoped>\n",
       "    .dataframe tbody tr th:only-of-type {\n",
       "        vertical-align: middle;\n",
       "    }\n",
       "\n",
       "    .dataframe tbody tr th {\n",
       "        vertical-align: top;\n",
       "    }\n",
       "\n",
       "    .dataframe thead th {\n",
       "        text-align: right;\n",
       "    }\n",
       "</style>\n",
       "<table border=\"1\" class=\"dataframe\">\n",
       "  <thead>\n",
       "    <tr style=\"text-align: right;\">\n",
       "      <th></th>\n",
       "      <th>id</th>\n",
       "      <th>name</th>\n",
       "    </tr>\n",
       "  </thead>\n",
       "  <tbody>\n",
       "    <tr>\n",
       "      <th>0</th>\n",
       "      <td>105</td>\n",
       "      <td>강릉</td>\n",
       "    </tr>\n",
       "    <tr>\n",
       "      <th>1</th>\n",
       "      <td>259</td>\n",
       "      <td>강진군</td>\n",
       "    </tr>\n",
       "    <tr>\n",
       "      <th>2</th>\n",
       "      <td>201</td>\n",
       "      <td>강화</td>\n",
       "    </tr>\n",
       "    <tr>\n",
       "      <th>3</th>\n",
       "      <td>294</td>\n",
       "      <td>거제</td>\n",
       "    </tr>\n",
       "    <tr>\n",
       "      <th>4</th>\n",
       "      <td>284</td>\n",
       "      <td>거창</td>\n",
       "    </tr>\n",
       "  </tbody>\n",
       "</table>\n",
       "</div>"
      ],
      "text/plain": [
       "    id name\n",
       "0  105   강릉\n",
       "1  259  강진군\n",
       "2  201   강화\n",
       "3  294   거제\n",
       "4  284   거창"
      ]
     },
     "execution_count": 17,
     "metadata": {},
     "output_type": "execute_result"
    }
   ],
   "source": [
    "jijum_table.head()"
   ]
  },
  {
   "cell_type": "code",
   "execution_count": 18,
   "metadata": {},
   "outputs": [
    {
     "name": "stderr",
     "output_type": "stream",
     "text": [
      "/home/hshan/venvs/sp2109/lib/python3.6/site-packages/selenium/webdriver/phantomjs/webdriver.py:49: UserWarning: Selenium support for PhantomJS has been deprecated, please use headless versions of Chrome or Firefox instead\n",
      "  warnings.warn('Selenium support for PhantomJS has been deprecated, please use headless '\n"
     ]
    }
   ],
   "source": [
    "url = 'https://www.weatheri.co.kr/bygone/pastDB_tmp.php?jijum_id=108&start=2021-03-01&end=2021-05-31'\n",
    "\n",
    "# get html\n",
    "browser = webdriver.PhantomJS()\n",
    "browser.get(url)\n",
    "\n",
    "table = browser.find_elements_by_tag_name('table')[2]\n",
    "\n",
    "data_list = []\n",
    "# table = browser.find_elements_by_tag_name('table')[2]\n",
    "tbody = table.find_element_by_tag_name(\"tbody\")\n",
    "for i in range(1, len(tbody.find_elements_by_tag_name(\"tr\"))):\n",
    "    rows = tbody.find_elements_by_tag_name(\"tr\")[i]\n",
    "    body= rows.find_elements_by_tag_name(\"td\")\n",
    "    row_data = []\n",
    "    for index, value in enumerate(body):\n",
    "        value_data = value.text\n",
    "        row_data.append(value_data)\n",
    "    data_list.append(row_data)\n",
    "\n",
    "df = pd.DataFrame(data_list)\n",
    "\n",
    "header = df.iloc[0]\n",
    "df = df[1:]\n",
    "\n",
    "df.rename(columns=header, inplace=True)\n",
    "df['날짜'] = df['날짜'].str.replace('\\n', repl=r'')\n",
    "df['날짜'] = df['날짜'].str.split(' ').str[0]\n",
    "df['날짜'] = pd.to_datetime(df['날짜'], format='%Y년%m월%d일')"
   ]
  },
  {
   "cell_type": "code",
   "execution_count": 19,
   "metadata": {
    "scrolled": true
   },
   "outputs": [
    {
     "data": {
      "text/html": [
       "<div>\n",
       "<style scoped>\n",
       "    .dataframe tbody tr th:only-of-type {\n",
       "        vertical-align: middle;\n",
       "    }\n",
       "\n",
       "    .dataframe tbody tr th {\n",
       "        vertical-align: top;\n",
       "    }\n",
       "\n",
       "    .dataframe thead th {\n",
       "        text-align: right;\n",
       "    }\n",
       "</style>\n",
       "<table border=\"1\" class=\"dataframe\">\n",
       "  <thead>\n",
       "    <tr style=\"text-align: right;\">\n",
       "      <th></th>\n",
       "      <th>날짜</th>\n",
       "      <th>평균\\n기온</th>\n",
       "      <th>최고\\n기온</th>\n",
       "      <th>최저\\n기온</th>\n",
       "      <th>강수량(mm)</th>\n",
       "      <th>신적설(cm)</th>\n",
       "      <th>평균\\n풍속(m/s)</th>\n",
       "      <th>평균\\n습도\\n(%)</th>\n",
       "      <th>운량(1/10)</th>\n",
       "      <th>일조\\n시간\\n(Hr)</th>\n",
       "      <th>날씨</th>\n",
       "    </tr>\n",
       "  </thead>\n",
       "  <tbody>\n",
       "    <tr>\n",
       "      <th>1</th>\n",
       "      <td>2021-03-01</td>\n",
       "      <td>4.7</td>\n",
       "      <td>9.0</td>\n",
       "      <td>0.5</td>\n",
       "      <td>67.5</td>\n",
       "      <td>2.3</td>\n",
       "      <td>3.4</td>\n",
       "      <td>91</td>\n",
       "      <td>10.0</td>\n",
       "      <td>0.0</td>\n",
       "      <td>흐림/눈/비/진눈개비</td>\n",
       "    </tr>\n",
       "    <tr>\n",
       "      <th>2</th>\n",
       "      <td>2021-03-02</td>\n",
       "      <td>2.3</td>\n",
       "      <td>6.9</td>\n",
       "      <td>0.2</td>\n",
       "      <td>0.1</td>\n",
       "      <td>0.0</td>\n",
       "      <td>1.8</td>\n",
       "      <td>76</td>\n",
       "      <td>5.5</td>\n",
       "      <td>4.7</td>\n",
       "      <td>구름많음/눈</td>\n",
       "    </tr>\n",
       "    <tr>\n",
       "      <th>3</th>\n",
       "      <td>2021-03-03</td>\n",
       "      <td>4.4</td>\n",
       "      <td>9.9</td>\n",
       "      <td>-1.2</td>\n",
       "      <td>-</td>\n",
       "      <td>-</td>\n",
       "      <td>1.8</td>\n",
       "      <td>64</td>\n",
       "      <td>4.5</td>\n",
       "      <td>10.4</td>\n",
       "      <td>구름조금</td>\n",
       "    </tr>\n",
       "    <tr>\n",
       "      <th>4</th>\n",
       "      <td>2021-03-04</td>\n",
       "      <td>7.2</td>\n",
       "      <td>13.0</td>\n",
       "      <td>2.5</td>\n",
       "      <td>-</td>\n",
       "      <td>-</td>\n",
       "      <td>2.0</td>\n",
       "      <td>62</td>\n",
       "      <td>6.2</td>\n",
       "      <td>1.9</td>\n",
       "      <td>구름많음</td>\n",
       "    </tr>\n",
       "    <tr>\n",
       "      <th>5</th>\n",
       "      <td>2021-03-05</td>\n",
       "      <td>8.9</td>\n",
       "      <td>16.2</td>\n",
       "      <td>3.0</td>\n",
       "      <td>-</td>\n",
       "      <td>-</td>\n",
       "      <td>2.0</td>\n",
       "      <td>70</td>\n",
       "      <td>1.2</td>\n",
       "      <td>10.5</td>\n",
       "      <td>맑음</td>\n",
       "    </tr>\n",
       "  </tbody>\n",
       "</table>\n",
       "</div>"
      ],
      "text/plain": [
       "          날짜 평균\\n기온 최고\\n기온 최저\\n기온 강수량(mm) 신적설(cm) 평균\\n풍속(m/s) 평균\\n습도\\n(%)  \\\n",
       "1 2021-03-01    4.7    9.0    0.5    67.5     2.3         3.4          91   \n",
       "2 2021-03-02    2.3    6.9    0.2     0.1     0.0         1.8          76   \n",
       "3 2021-03-03    4.4    9.9   -1.2       -       -         1.8          64   \n",
       "4 2021-03-04    7.2   13.0    2.5       -       -         2.0          62   \n",
       "5 2021-03-05    8.9   16.2    3.0       -       -         2.0          70   \n",
       "\n",
       "  운량(1/10) 일조\\n시간\\n(Hr)           날씨  \n",
       "1     10.0          0.0  흐림/눈/비/진눈개비  \n",
       "2      5.5          4.7       구름많음/눈  \n",
       "3      4.5         10.4         구름조금  \n",
       "4      6.2          1.9         구름많음  \n",
       "5      1.2         10.5           맑음  "
      ]
     },
     "execution_count": 19,
     "metadata": {},
     "output_type": "execute_result"
    }
   ],
   "source": [
    "df.head()"
   ]
  },
  {
   "cell_type": "code",
   "execution_count": null,
   "metadata": {},
   "outputs": [],
   "source": []
  }
 ],
 "metadata": {
  "kernelspec": {
   "display_name": "sp2109",
   "language": "python",
   "name": "sp2109"
  },
  "language_info": {
   "codemirror_mode": {
    "name": "ipython",
    "version": 3
   },
   "file_extension": ".py",
   "mimetype": "text/x-python",
   "name": "python",
   "nbconvert_exporter": "python",
   "pygments_lexer": "ipython3",
   "version": "3.6.3"
  },
  "toc": {
   "base_numbering": 1,
   "nav_menu": {},
   "number_sections": true,
   "sideBar": true,
   "skip_h1_title": false,
   "title_cell": "Table of Contents",
   "title_sidebar": "Contents",
   "toc_cell": false,
   "toc_position": {},
   "toc_section_display": true,
   "toc_window_display": false
  },
  "varInspector": {
   "cols": {
    "lenName": 16,
    "lenType": 16,
    "lenVar": 40
   },
   "kernels_config": {
    "python": {
     "delete_cmd_postfix": "",
     "delete_cmd_prefix": "del ",
     "library": "var_list.py",
     "varRefreshCmd": "print(var_dic_list())"
    },
    "r": {
     "delete_cmd_postfix": ") ",
     "delete_cmd_prefix": "rm(",
     "library": "var_list.r",
     "varRefreshCmd": "cat(var_dic_list()) "
    }
   },
   "types_to_exclude": [
    "module",
    "function",
    "builtin_function_or_method",
    "instance",
    "_Feature"
   ],
   "window_display": false
  }
 },
 "nbformat": 4,
 "nbformat_minor": 2
}
