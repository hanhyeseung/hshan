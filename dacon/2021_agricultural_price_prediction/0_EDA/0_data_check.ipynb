{
 "cells": [
  {
   "cell_type": "markdown",
   "metadata": {},
   "source": [
    "# 데이터 톺아보기"
   ]
  },
  {
   "cell_type": "code",
   "execution_count": 2,
   "metadata": {},
   "outputs": [
    {
     "name": "stderr",
     "output_type": "stream",
     "text": [
      "/home/hshan/venvs/sp2109/lib/python3.6/site-packages/pandas/compat/__init__.py:120: UserWarning: Could not import the lzma module. Your installed Python is incomplete. Attempting to use lzma compression will result in a RuntimeError.\n",
      "  warnings.warn(msg)\n"
     ]
    }
   ],
   "source": [
    "import pandas as pd\n",
    "import numpy as np\n",
    "\n",
    "import os"
   ]
  },
  {
   "cell_type": "code",
   "execution_count": 3,
   "metadata": {},
   "outputs": [
    {
     "data": {
      "text/plain": [
       "'/home/hshan/00_individual/SP2109/0_EDA'"
      ]
     },
     "execution_count": 3,
     "metadata": {},
     "output_type": "execute_result"
    }
   ],
   "source": [
    "pwd"
   ]
  },
  {
   "cell_type": "code",
   "execution_count": 4,
   "metadata": {},
   "outputs": [],
   "source": [
    "file_list = os.listdir('/home/hshan/00_individual/SP2109/data/')\n",
    "# file_list = [s for s in file_list if \"xlsx\" in s]"
   ]
  },
  {
   "cell_type": "code",
   "execution_count": 5,
   "metadata": {},
   "outputs": [
    {
     "data": {
      "text/plain": [
       "['public_data', 'sample_submission.csv', '.ipynb_checkpoints', 'private_data']"
      ]
     },
     "execution_count": 5,
     "metadata": {},
     "output_type": "execute_result"
    }
   ],
   "source": [
    "file_list"
   ]
  },
  {
   "cell_type": "markdown",
   "metadata": {},
   "source": [
    "## submission"
   ]
  },
  {
   "cell_type": "code",
   "execution_count": 6,
   "metadata": {
    "scrolled": true
   },
   "outputs": [],
   "source": [
    "sub1 = pd.read_csv('../data/sample_submission.csv')"
   ]
  },
  {
   "cell_type": "code",
   "execution_count": 7,
   "metadata": {},
   "outputs": [
    {
     "data": {
      "text/html": [
       "<div>\n",
       "<style scoped>\n",
       "    .dataframe tbody tr th:only-of-type {\n",
       "        vertical-align: middle;\n",
       "    }\n",
       "\n",
       "    .dataframe tbody tr th {\n",
       "        vertical-align: top;\n",
       "    }\n",
       "\n",
       "    .dataframe thead th {\n",
       "        text-align: right;\n",
       "    }\n",
       "</style>\n",
       "<table border=\"1\" class=\"dataframe\">\n",
       "  <thead>\n",
       "    <tr style=\"text-align: right;\">\n",
       "      <th></th>\n",
       "      <th>예측대상일자</th>\n",
       "      <th>배추_가격(원/kg)</th>\n",
       "      <th>무_가격(원/kg)</th>\n",
       "      <th>양파_가격(원/kg)</th>\n",
       "      <th>건고추_가격(원/kg)</th>\n",
       "      <th>마늘_가격(원/kg)</th>\n",
       "      <th>대파_가격(원/kg)</th>\n",
       "      <th>얼갈이배추_가격(원/kg)</th>\n",
       "      <th>양배추_가격(원/kg)</th>\n",
       "      <th>깻잎_가격(원/kg)</th>\n",
       "      <th>...</th>\n",
       "      <th>당근_가격(원/kg)</th>\n",
       "      <th>파프리카_가격(원/kg)</th>\n",
       "      <th>새송이_가격(원/kg)</th>\n",
       "      <th>팽이버섯_가격(원/kg)</th>\n",
       "      <th>토마토_가격(원/kg)</th>\n",
       "      <th>청상추_가격(원/kg)</th>\n",
       "      <th>백다다기_가격(원/kg)</th>\n",
       "      <th>애호박_가격(원/kg)</th>\n",
       "      <th>캠벨얼리_가격(원/kg)</th>\n",
       "      <th>샤인마스캇_가격(원/kg)</th>\n",
       "    </tr>\n",
       "  </thead>\n",
       "  <tbody>\n",
       "    <tr>\n",
       "      <th>0</th>\n",
       "      <td>2020-09-29+1week</td>\n",
       "      <td>0</td>\n",
       "      <td>0</td>\n",
       "      <td>0</td>\n",
       "      <td>0</td>\n",
       "      <td>0</td>\n",
       "      <td>0</td>\n",
       "      <td>0</td>\n",
       "      <td>0</td>\n",
       "      <td>0</td>\n",
       "      <td>...</td>\n",
       "      <td>0</td>\n",
       "      <td>0</td>\n",
       "      <td>0</td>\n",
       "      <td>0</td>\n",
       "      <td>0</td>\n",
       "      <td>0</td>\n",
       "      <td>0</td>\n",
       "      <td>0</td>\n",
       "      <td>0</td>\n",
       "      <td>0</td>\n",
       "    </tr>\n",
       "    <tr>\n",
       "      <th>1</th>\n",
       "      <td>2020-09-29+2week</td>\n",
       "      <td>0</td>\n",
       "      <td>0</td>\n",
       "      <td>0</td>\n",
       "      <td>0</td>\n",
       "      <td>0</td>\n",
       "      <td>0</td>\n",
       "      <td>0</td>\n",
       "      <td>0</td>\n",
       "      <td>0</td>\n",
       "      <td>...</td>\n",
       "      <td>0</td>\n",
       "      <td>0</td>\n",
       "      <td>0</td>\n",
       "      <td>0</td>\n",
       "      <td>0</td>\n",
       "      <td>0</td>\n",
       "      <td>0</td>\n",
       "      <td>0</td>\n",
       "      <td>0</td>\n",
       "      <td>0</td>\n",
       "    </tr>\n",
       "  </tbody>\n",
       "</table>\n",
       "<p>2 rows × 22 columns</p>\n",
       "</div>"
      ],
      "text/plain": [
       "             예측대상일자  배추_가격(원/kg)  무_가격(원/kg)  양파_가격(원/kg)  건고추_가격(원/kg)  \\\n",
       "0  2020-09-29+1week            0           0            0             0   \n",
       "1  2020-09-29+2week            0           0            0             0   \n",
       "\n",
       "   마늘_가격(원/kg)  대파_가격(원/kg)  얼갈이배추_가격(원/kg)  양배추_가격(원/kg)  깻잎_가격(원/kg)  ...  \\\n",
       "0            0            0               0             0            0  ...   \n",
       "1            0            0               0             0            0  ...   \n",
       "\n",
       "   당근_가격(원/kg)  파프리카_가격(원/kg)  새송이_가격(원/kg)  팽이버섯_가격(원/kg)  토마토_가격(원/kg)  \\\n",
       "0            0              0             0              0             0   \n",
       "1            0              0             0              0             0   \n",
       "\n",
       "   청상추_가격(원/kg)  백다다기_가격(원/kg)  애호박_가격(원/kg)  캠벨얼리_가격(원/kg)  샤인마스캇_가격(원/kg)  \n",
       "0             0              0             0              0               0  \n",
       "1             0              0             0              0               0  \n",
       "\n",
       "[2 rows x 22 columns]"
      ]
     },
     "execution_count": 7,
     "metadata": {},
     "output_type": "execute_result"
    }
   ],
   "source": [
    "sub1.head(2)"
   ]
  },
  {
   "cell_type": "code",
   "execution_count": 8,
   "metadata": {},
   "outputs": [
    {
     "data": {
      "text/html": [
       "<div>\n",
       "<style scoped>\n",
       "    .dataframe tbody tr th:only-of-type {\n",
       "        vertical-align: middle;\n",
       "    }\n",
       "\n",
       "    .dataframe tbody tr th {\n",
       "        vertical-align: top;\n",
       "    }\n",
       "\n",
       "    .dataframe thead th {\n",
       "        text-align: right;\n",
       "    }\n",
       "</style>\n",
       "<table border=\"1\" class=\"dataframe\">\n",
       "  <thead>\n",
       "    <tr style=\"text-align: right;\">\n",
       "      <th></th>\n",
       "      <th>예측대상일자</th>\n",
       "      <th>배추_가격(원/kg)</th>\n",
       "      <th>무_가격(원/kg)</th>\n",
       "      <th>양파_가격(원/kg)</th>\n",
       "      <th>건고추_가격(원/kg)</th>\n",
       "      <th>마늘_가격(원/kg)</th>\n",
       "      <th>대파_가격(원/kg)</th>\n",
       "      <th>얼갈이배추_가격(원/kg)</th>\n",
       "      <th>양배추_가격(원/kg)</th>\n",
       "      <th>깻잎_가격(원/kg)</th>\n",
       "      <th>...</th>\n",
       "      <th>당근_가격(원/kg)</th>\n",
       "      <th>파프리카_가격(원/kg)</th>\n",
       "      <th>새송이_가격(원/kg)</th>\n",
       "      <th>팽이버섯_가격(원/kg)</th>\n",
       "      <th>토마토_가격(원/kg)</th>\n",
       "      <th>청상추_가격(원/kg)</th>\n",
       "      <th>백다다기_가격(원/kg)</th>\n",
       "      <th>애호박_가격(원/kg)</th>\n",
       "      <th>캠벨얼리_가격(원/kg)</th>\n",
       "      <th>샤인마스캇_가격(원/kg)</th>\n",
       "    </tr>\n",
       "  </thead>\n",
       "  <tbody>\n",
       "    <tr>\n",
       "      <th>0</th>\n",
       "      <td>2020-09-29+1week</td>\n",
       "      <td>0</td>\n",
       "      <td>0</td>\n",
       "      <td>0</td>\n",
       "      <td>0</td>\n",
       "      <td>0</td>\n",
       "      <td>0</td>\n",
       "      <td>0</td>\n",
       "      <td>0</td>\n",
       "      <td>0</td>\n",
       "      <td>...</td>\n",
       "      <td>0</td>\n",
       "      <td>0</td>\n",
       "      <td>0</td>\n",
       "      <td>0</td>\n",
       "      <td>0</td>\n",
       "      <td>0</td>\n",
       "      <td>0</td>\n",
       "      <td>0</td>\n",
       "      <td>0</td>\n",
       "      <td>0</td>\n",
       "    </tr>\n",
       "    <tr>\n",
       "      <th>1</th>\n",
       "      <td>2020-09-29+2week</td>\n",
       "      <td>0</td>\n",
       "      <td>0</td>\n",
       "      <td>0</td>\n",
       "      <td>0</td>\n",
       "      <td>0</td>\n",
       "      <td>0</td>\n",
       "      <td>0</td>\n",
       "      <td>0</td>\n",
       "      <td>0</td>\n",
       "      <td>...</td>\n",
       "      <td>0</td>\n",
       "      <td>0</td>\n",
       "      <td>0</td>\n",
       "      <td>0</td>\n",
       "      <td>0</td>\n",
       "      <td>0</td>\n",
       "      <td>0</td>\n",
       "      <td>0</td>\n",
       "      <td>0</td>\n",
       "      <td>0</td>\n",
       "    </tr>\n",
       "    <tr>\n",
       "      <th>2</th>\n",
       "      <td>2020-09-29+4week</td>\n",
       "      <td>0</td>\n",
       "      <td>0</td>\n",
       "      <td>0</td>\n",
       "      <td>0</td>\n",
       "      <td>0</td>\n",
       "      <td>0</td>\n",
       "      <td>0</td>\n",
       "      <td>0</td>\n",
       "      <td>0</td>\n",
       "      <td>...</td>\n",
       "      <td>0</td>\n",
       "      <td>0</td>\n",
       "      <td>0</td>\n",
       "      <td>0</td>\n",
       "      <td>0</td>\n",
       "      <td>0</td>\n",
       "      <td>0</td>\n",
       "      <td>0</td>\n",
       "      <td>0</td>\n",
       "      <td>0</td>\n",
       "    </tr>\n",
       "    <tr>\n",
       "      <th>3</th>\n",
       "      <td>2020-09-30+1week</td>\n",
       "      <td>0</td>\n",
       "      <td>0</td>\n",
       "      <td>0</td>\n",
       "      <td>0</td>\n",
       "      <td>0</td>\n",
       "      <td>0</td>\n",
       "      <td>0</td>\n",
       "      <td>0</td>\n",
       "      <td>0</td>\n",
       "      <td>...</td>\n",
       "      <td>0</td>\n",
       "      <td>0</td>\n",
       "      <td>0</td>\n",
       "      <td>0</td>\n",
       "      <td>0</td>\n",
       "      <td>0</td>\n",
       "      <td>0</td>\n",
       "      <td>0</td>\n",
       "      <td>0</td>\n",
       "      <td>0</td>\n",
       "    </tr>\n",
       "    <tr>\n",
       "      <th>4</th>\n",
       "      <td>2020-09-30+2week</td>\n",
       "      <td>0</td>\n",
       "      <td>0</td>\n",
       "      <td>0</td>\n",
       "      <td>0</td>\n",
       "      <td>0</td>\n",
       "      <td>0</td>\n",
       "      <td>0</td>\n",
       "      <td>0</td>\n",
       "      <td>0</td>\n",
       "      <td>...</td>\n",
       "      <td>0</td>\n",
       "      <td>0</td>\n",
       "      <td>0</td>\n",
       "      <td>0</td>\n",
       "      <td>0</td>\n",
       "      <td>0</td>\n",
       "      <td>0</td>\n",
       "      <td>0</td>\n",
       "      <td>0</td>\n",
       "      <td>0</td>\n",
       "    </tr>\n",
       "    <tr>\n",
       "      <th>5</th>\n",
       "      <td>2020-09-30+4week</td>\n",
       "      <td>0</td>\n",
       "      <td>0</td>\n",
       "      <td>0</td>\n",
       "      <td>0</td>\n",
       "      <td>0</td>\n",
       "      <td>0</td>\n",
       "      <td>0</td>\n",
       "      <td>0</td>\n",
       "      <td>0</td>\n",
       "      <td>...</td>\n",
       "      <td>0</td>\n",
       "      <td>0</td>\n",
       "      <td>0</td>\n",
       "      <td>0</td>\n",
       "      <td>0</td>\n",
       "      <td>0</td>\n",
       "      <td>0</td>\n",
       "      <td>0</td>\n",
       "      <td>0</td>\n",
       "      <td>0</td>\n",
       "    </tr>\n",
       "    <tr>\n",
       "      <th>6</th>\n",
       "      <td>2020-10-01+1week</td>\n",
       "      <td>0</td>\n",
       "      <td>0</td>\n",
       "      <td>0</td>\n",
       "      <td>0</td>\n",
       "      <td>0</td>\n",
       "      <td>0</td>\n",
       "      <td>0</td>\n",
       "      <td>0</td>\n",
       "      <td>0</td>\n",
       "      <td>...</td>\n",
       "      <td>0</td>\n",
       "      <td>0</td>\n",
       "      <td>0</td>\n",
       "      <td>0</td>\n",
       "      <td>0</td>\n",
       "      <td>0</td>\n",
       "      <td>0</td>\n",
       "      <td>0</td>\n",
       "      <td>0</td>\n",
       "      <td>0</td>\n",
       "    </tr>\n",
       "    <tr>\n",
       "      <th>7</th>\n",
       "      <td>2020-10-01+2week</td>\n",
       "      <td>0</td>\n",
       "      <td>0</td>\n",
       "      <td>0</td>\n",
       "      <td>0</td>\n",
       "      <td>0</td>\n",
       "      <td>0</td>\n",
       "      <td>0</td>\n",
       "      <td>0</td>\n",
       "      <td>0</td>\n",
       "      <td>...</td>\n",
       "      <td>0</td>\n",
       "      <td>0</td>\n",
       "      <td>0</td>\n",
       "      <td>0</td>\n",
       "      <td>0</td>\n",
       "      <td>0</td>\n",
       "      <td>0</td>\n",
       "      <td>0</td>\n",
       "      <td>0</td>\n",
       "      <td>0</td>\n",
       "    </tr>\n",
       "    <tr>\n",
       "      <th>8</th>\n",
       "      <td>2020-10-01+4week</td>\n",
       "      <td>0</td>\n",
       "      <td>0</td>\n",
       "      <td>0</td>\n",
       "      <td>0</td>\n",
       "      <td>0</td>\n",
       "      <td>0</td>\n",
       "      <td>0</td>\n",
       "      <td>0</td>\n",
       "      <td>0</td>\n",
       "      <td>...</td>\n",
       "      <td>0</td>\n",
       "      <td>0</td>\n",
       "      <td>0</td>\n",
       "      <td>0</td>\n",
       "      <td>0</td>\n",
       "      <td>0</td>\n",
       "      <td>0</td>\n",
       "      <td>0</td>\n",
       "      <td>0</td>\n",
       "      <td>0</td>\n",
       "    </tr>\n",
       "    <tr>\n",
       "      <th>9</th>\n",
       "      <td>2020-10-02+1week</td>\n",
       "      <td>0</td>\n",
       "      <td>0</td>\n",
       "      <td>0</td>\n",
       "      <td>0</td>\n",
       "      <td>0</td>\n",
       "      <td>0</td>\n",
       "      <td>0</td>\n",
       "      <td>0</td>\n",
       "      <td>0</td>\n",
       "      <td>...</td>\n",
       "      <td>0</td>\n",
       "      <td>0</td>\n",
       "      <td>0</td>\n",
       "      <td>0</td>\n",
       "      <td>0</td>\n",
       "      <td>0</td>\n",
       "      <td>0</td>\n",
       "      <td>0</td>\n",
       "      <td>0</td>\n",
       "      <td>0</td>\n",
       "    </tr>\n",
       "    <tr>\n",
       "      <th>10</th>\n",
       "      <td>2020-10-02+2week</td>\n",
       "      <td>0</td>\n",
       "      <td>0</td>\n",
       "      <td>0</td>\n",
       "      <td>0</td>\n",
       "      <td>0</td>\n",
       "      <td>0</td>\n",
       "      <td>0</td>\n",
       "      <td>0</td>\n",
       "      <td>0</td>\n",
       "      <td>...</td>\n",
       "      <td>0</td>\n",
       "      <td>0</td>\n",
       "      <td>0</td>\n",
       "      <td>0</td>\n",
       "      <td>0</td>\n",
       "      <td>0</td>\n",
       "      <td>0</td>\n",
       "      <td>0</td>\n",
       "      <td>0</td>\n",
       "      <td>0</td>\n",
       "    </tr>\n",
       "    <tr>\n",
       "      <th>11</th>\n",
       "      <td>2020-10-02+4week</td>\n",
       "      <td>0</td>\n",
       "      <td>0</td>\n",
       "      <td>0</td>\n",
       "      <td>0</td>\n",
       "      <td>0</td>\n",
       "      <td>0</td>\n",
       "      <td>0</td>\n",
       "      <td>0</td>\n",
       "      <td>0</td>\n",
       "      <td>...</td>\n",
       "      <td>0</td>\n",
       "      <td>0</td>\n",
       "      <td>0</td>\n",
       "      <td>0</td>\n",
       "      <td>0</td>\n",
       "      <td>0</td>\n",
       "      <td>0</td>\n",
       "      <td>0</td>\n",
       "      <td>0</td>\n",
       "      <td>0</td>\n",
       "    </tr>\n",
       "    <tr>\n",
       "      <th>12</th>\n",
       "      <td>2020-10-03+1week</td>\n",
       "      <td>0</td>\n",
       "      <td>0</td>\n",
       "      <td>0</td>\n",
       "      <td>0</td>\n",
       "      <td>0</td>\n",
       "      <td>0</td>\n",
       "      <td>0</td>\n",
       "      <td>0</td>\n",
       "      <td>0</td>\n",
       "      <td>...</td>\n",
       "      <td>0</td>\n",
       "      <td>0</td>\n",
       "      <td>0</td>\n",
       "      <td>0</td>\n",
       "      <td>0</td>\n",
       "      <td>0</td>\n",
       "      <td>0</td>\n",
       "      <td>0</td>\n",
       "      <td>0</td>\n",
       "      <td>0</td>\n",
       "    </tr>\n",
       "    <tr>\n",
       "      <th>13</th>\n",
       "      <td>2020-10-03+2week</td>\n",
       "      <td>0</td>\n",
       "      <td>0</td>\n",
       "      <td>0</td>\n",
       "      <td>0</td>\n",
       "      <td>0</td>\n",
       "      <td>0</td>\n",
       "      <td>0</td>\n",
       "      <td>0</td>\n",
       "      <td>0</td>\n",
       "      <td>...</td>\n",
       "      <td>0</td>\n",
       "      <td>0</td>\n",
       "      <td>0</td>\n",
       "      <td>0</td>\n",
       "      <td>0</td>\n",
       "      <td>0</td>\n",
       "      <td>0</td>\n",
       "      <td>0</td>\n",
       "      <td>0</td>\n",
       "      <td>0</td>\n",
       "    </tr>\n",
       "    <tr>\n",
       "      <th>14</th>\n",
       "      <td>2020-10-03+4week</td>\n",
       "      <td>0</td>\n",
       "      <td>0</td>\n",
       "      <td>0</td>\n",
       "      <td>0</td>\n",
       "      <td>0</td>\n",
       "      <td>0</td>\n",
       "      <td>0</td>\n",
       "      <td>0</td>\n",
       "      <td>0</td>\n",
       "      <td>...</td>\n",
       "      <td>0</td>\n",
       "      <td>0</td>\n",
       "      <td>0</td>\n",
       "      <td>0</td>\n",
       "      <td>0</td>\n",
       "      <td>0</td>\n",
       "      <td>0</td>\n",
       "      <td>0</td>\n",
       "      <td>0</td>\n",
       "      <td>0</td>\n",
       "    </tr>\n",
       "    <tr>\n",
       "      <th>15</th>\n",
       "      <td>2020-10-04+1week</td>\n",
       "      <td>0</td>\n",
       "      <td>0</td>\n",
       "      <td>0</td>\n",
       "      <td>0</td>\n",
       "      <td>0</td>\n",
       "      <td>0</td>\n",
       "      <td>0</td>\n",
       "      <td>0</td>\n",
       "      <td>0</td>\n",
       "      <td>...</td>\n",
       "      <td>0</td>\n",
       "      <td>0</td>\n",
       "      <td>0</td>\n",
       "      <td>0</td>\n",
       "      <td>0</td>\n",
       "      <td>0</td>\n",
       "      <td>0</td>\n",
       "      <td>0</td>\n",
       "      <td>0</td>\n",
       "      <td>0</td>\n",
       "    </tr>\n",
       "    <tr>\n",
       "      <th>16</th>\n",
       "      <td>2020-10-04+2week</td>\n",
       "      <td>0</td>\n",
       "      <td>0</td>\n",
       "      <td>0</td>\n",
       "      <td>0</td>\n",
       "      <td>0</td>\n",
       "      <td>0</td>\n",
       "      <td>0</td>\n",
       "      <td>0</td>\n",
       "      <td>0</td>\n",
       "      <td>...</td>\n",
       "      <td>0</td>\n",
       "      <td>0</td>\n",
       "      <td>0</td>\n",
       "      <td>0</td>\n",
       "      <td>0</td>\n",
       "      <td>0</td>\n",
       "      <td>0</td>\n",
       "      <td>0</td>\n",
       "      <td>0</td>\n",
       "      <td>0</td>\n",
       "    </tr>\n",
       "    <tr>\n",
       "      <th>17</th>\n",
       "      <td>2020-10-04+4week</td>\n",
       "      <td>0</td>\n",
       "      <td>0</td>\n",
       "      <td>0</td>\n",
       "      <td>0</td>\n",
       "      <td>0</td>\n",
       "      <td>0</td>\n",
       "      <td>0</td>\n",
       "      <td>0</td>\n",
       "      <td>0</td>\n",
       "      <td>...</td>\n",
       "      <td>0</td>\n",
       "      <td>0</td>\n",
       "      <td>0</td>\n",
       "      <td>0</td>\n",
       "      <td>0</td>\n",
       "      <td>0</td>\n",
       "      <td>0</td>\n",
       "      <td>0</td>\n",
       "      <td>0</td>\n",
       "      <td>0</td>\n",
       "    </tr>\n",
       "    <tr>\n",
       "      <th>18</th>\n",
       "      <td>2020-10-05+1week</td>\n",
       "      <td>0</td>\n",
       "      <td>0</td>\n",
       "      <td>0</td>\n",
       "      <td>0</td>\n",
       "      <td>0</td>\n",
       "      <td>0</td>\n",
       "      <td>0</td>\n",
       "      <td>0</td>\n",
       "      <td>0</td>\n",
       "      <td>...</td>\n",
       "      <td>0</td>\n",
       "      <td>0</td>\n",
       "      <td>0</td>\n",
       "      <td>0</td>\n",
       "      <td>0</td>\n",
       "      <td>0</td>\n",
       "      <td>0</td>\n",
       "      <td>0</td>\n",
       "      <td>0</td>\n",
       "      <td>0</td>\n",
       "    </tr>\n",
       "    <tr>\n",
       "      <th>19</th>\n",
       "      <td>2020-10-05+2week</td>\n",
       "      <td>0</td>\n",
       "      <td>0</td>\n",
       "      <td>0</td>\n",
       "      <td>0</td>\n",
       "      <td>0</td>\n",
       "      <td>0</td>\n",
       "      <td>0</td>\n",
       "      <td>0</td>\n",
       "      <td>0</td>\n",
       "      <td>...</td>\n",
       "      <td>0</td>\n",
       "      <td>0</td>\n",
       "      <td>0</td>\n",
       "      <td>0</td>\n",
       "      <td>0</td>\n",
       "      <td>0</td>\n",
       "      <td>0</td>\n",
       "      <td>0</td>\n",
       "      <td>0</td>\n",
       "      <td>0</td>\n",
       "    </tr>\n",
       "  </tbody>\n",
       "</table>\n",
       "<p>20 rows × 22 columns</p>\n",
       "</div>"
      ],
      "text/plain": [
       "              예측대상일자  배추_가격(원/kg)  무_가격(원/kg)  양파_가격(원/kg)  건고추_가격(원/kg)  \\\n",
       "0   2020-09-29+1week            0           0            0             0   \n",
       "1   2020-09-29+2week            0           0            0             0   \n",
       "2   2020-09-29+4week            0           0            0             0   \n",
       "3   2020-09-30+1week            0           0            0             0   \n",
       "4   2020-09-30+2week            0           0            0             0   \n",
       "5   2020-09-30+4week            0           0            0             0   \n",
       "6   2020-10-01+1week            0           0            0             0   \n",
       "7   2020-10-01+2week            0           0            0             0   \n",
       "8   2020-10-01+4week            0           0            0             0   \n",
       "9   2020-10-02+1week            0           0            0             0   \n",
       "10  2020-10-02+2week            0           0            0             0   \n",
       "11  2020-10-02+4week            0           0            0             0   \n",
       "12  2020-10-03+1week            0           0            0             0   \n",
       "13  2020-10-03+2week            0           0            0             0   \n",
       "14  2020-10-03+4week            0           0            0             0   \n",
       "15  2020-10-04+1week            0           0            0             0   \n",
       "16  2020-10-04+2week            0           0            0             0   \n",
       "17  2020-10-04+4week            0           0            0             0   \n",
       "18  2020-10-05+1week            0           0            0             0   \n",
       "19  2020-10-05+2week            0           0            0             0   \n",
       "\n",
       "    마늘_가격(원/kg)  대파_가격(원/kg)  얼갈이배추_가격(원/kg)  양배추_가격(원/kg)  깻잎_가격(원/kg)  ...  \\\n",
       "0             0            0               0             0            0  ...   \n",
       "1             0            0               0             0            0  ...   \n",
       "2             0            0               0             0            0  ...   \n",
       "3             0            0               0             0            0  ...   \n",
       "4             0            0               0             0            0  ...   \n",
       "5             0            0               0             0            0  ...   \n",
       "6             0            0               0             0            0  ...   \n",
       "7             0            0               0             0            0  ...   \n",
       "8             0            0               0             0            0  ...   \n",
       "9             0            0               0             0            0  ...   \n",
       "10            0            0               0             0            0  ...   \n",
       "11            0            0               0             0            0  ...   \n",
       "12            0            0               0             0            0  ...   \n",
       "13            0            0               0             0            0  ...   \n",
       "14            0            0               0             0            0  ...   \n",
       "15            0            0               0             0            0  ...   \n",
       "16            0            0               0             0            0  ...   \n",
       "17            0            0               0             0            0  ...   \n",
       "18            0            0               0             0            0  ...   \n",
       "19            0            0               0             0            0  ...   \n",
       "\n",
       "    당근_가격(원/kg)  파프리카_가격(원/kg)  새송이_가격(원/kg)  팽이버섯_가격(원/kg)  토마토_가격(원/kg)  \\\n",
       "0             0              0             0              0             0   \n",
       "1             0              0             0              0             0   \n",
       "2             0              0             0              0             0   \n",
       "3             0              0             0              0             0   \n",
       "4             0              0             0              0             0   \n",
       "5             0              0             0              0             0   \n",
       "6             0              0             0              0             0   \n",
       "7             0              0             0              0             0   \n",
       "8             0              0             0              0             0   \n",
       "9             0              0             0              0             0   \n",
       "10            0              0             0              0             0   \n",
       "11            0              0             0              0             0   \n",
       "12            0              0             0              0             0   \n",
       "13            0              0             0              0             0   \n",
       "14            0              0             0              0             0   \n",
       "15            0              0             0              0             0   \n",
       "16            0              0             0              0             0   \n",
       "17            0              0             0              0             0   \n",
       "18            0              0             0              0             0   \n",
       "19            0              0             0              0             0   \n",
       "\n",
       "    청상추_가격(원/kg)  백다다기_가격(원/kg)  애호박_가격(원/kg)  캠벨얼리_가격(원/kg)  샤인마스캇_가격(원/kg)  \n",
       "0              0              0             0              0               0  \n",
       "1              0              0             0              0               0  \n",
       "2              0              0             0              0               0  \n",
       "3              0              0             0              0               0  \n",
       "4              0              0             0              0               0  \n",
       "5              0              0             0              0               0  \n",
       "6              0              0             0              0               0  \n",
       "7              0              0             0              0               0  \n",
       "8              0              0             0              0               0  \n",
       "9              0              0             0              0               0  \n",
       "10             0              0             0              0               0  \n",
       "11             0              0             0              0               0  \n",
       "12             0              0             0              0               0  \n",
       "13             0              0             0              0               0  \n",
       "14             0              0             0              0               0  \n",
       "15             0              0             0              0               0  \n",
       "16             0              0             0              0               0  \n",
       "17             0              0             0              0               0  \n",
       "18             0              0             0              0               0  \n",
       "19             0              0             0              0               0  \n",
       "\n",
       "[20 rows x 22 columns]"
      ]
     },
     "execution_count": 8,
     "metadata": {},
     "output_type": "execute_result"
    }
   ],
   "source": [
    "sub1[:20]"
   ]
  },
  {
   "cell_type": "markdown",
   "metadata": {},
   "source": [
    "### 1) 예측 대상 농산물"
   ]
  },
  {
   "cell_type": "code",
   "execution_count": 9,
   "metadata": {},
   "outputs": [
    {
     "name": "stdout",
     "output_type": "stream",
     "text": [
      "예측 농산물 개수:  21\n"
     ]
    },
    {
     "data": {
      "text/plain": [
       "Index(['배추_가격(원/kg)', '무_가격(원/kg)', '양파_가격(원/kg)', '건고추_가격(원/kg)',\n",
       "       '마늘_가격(원/kg)', '대파_가격(원/kg)', '얼갈이배추_가격(원/kg)', '양배추_가격(원/kg)',\n",
       "       '깻잎_가격(원/kg)', '시금치_가격(원/kg)', '미나리_가격(원/kg)', '당근_가격(원/kg)',\n",
       "       '파프리카_가격(원/kg)', '새송이_가격(원/kg)', '팽이버섯_가격(원/kg)', '토마토_가격(원/kg)',\n",
       "       '청상추_가격(원/kg)', '백다다기_가격(원/kg)', '애호박_가격(원/kg)', '캠벨얼리_가격(원/kg)',\n",
       "       '샤인마스캇_가격(원/kg)'],\n",
       "      dtype='object')"
      ]
     },
     "execution_count": 9,
     "metadata": {},
     "output_type": "execute_result"
    }
   ],
   "source": [
    "print('예측 농산물 개수: ', len(sub1.drop(['예측대상일자'], axis=1).columns))\n",
    "sub1.drop(['예측대상일자'], axis=1).columns"
   ]
  },
  {
   "cell_type": "code",
   "execution_count": 10,
   "metadata": {},
   "outputs": [
    {
     "data": {
      "text/plain": [
       "['배추',\n",
       " '무',\n",
       " '양파',\n",
       " '건고추',\n",
       " '마늘',\n",
       " '대파',\n",
       " '얼갈이배추',\n",
       " '양배추',\n",
       " '깻잎',\n",
       " '시금치',\n",
       " '미나리',\n",
       " '당근',\n",
       " '파프리카',\n",
       " '새송이',\n",
       " '팽이버섯',\n",
       " '토마토',\n",
       " '청상추',\n",
       " '백다다기',\n",
       " '애호박',\n",
       " '캠벨얼리',\n",
       " '샤인마스캇']"
      ]
     },
     "execution_count": 10,
     "metadata": {},
     "output_type": "execute_result"
    }
   ],
   "source": [
    "output_list = sub1.drop(['예측대상일자'], axis=1).columns\n",
    "output_list = output_list.str.split('_').str[0]\n",
    "output_list.to_list()"
   ]
  },
  {
   "cell_type": "markdown",
   "metadata": {},
   "source": [
    "### 2) 예측 주기"
   ]
  },
  {
   "cell_type": "code",
   "execution_count": 11,
   "metadata": {},
   "outputs": [],
   "source": [
    "sub2 = sub1.copy()"
   ]
  },
  {
   "cell_type": "code",
   "execution_count": 12,
   "metadata": {},
   "outputs": [],
   "source": [
    "sub2['dt'] = sub2['예측대상일자'].str.split('+').str[0]\n",
    "sub2['fct_horizon'] = sub2['예측대상일자'].str.split('+').str[1]"
   ]
  },
  {
   "cell_type": "code",
   "execution_count": 13,
   "metadata": {},
   "outputs": [
    {
     "data": {
      "text/plain": [
       "array(['1week', '2week', '4week'], dtype=object)"
      ]
     },
     "execution_count": 13,
     "metadata": {},
     "output_type": "execute_result"
    }
   ],
   "source": [
    "sub2['fct_horizon'].unique()"
   ]
  },
  {
   "cell_type": "code",
   "execution_count": 14,
   "metadata": {},
   "outputs": [
    {
     "name": "stdout",
     "output_type": "stream",
     "text": [
      "76\n"
     ]
    },
    {
     "data": {
      "text/plain": [
       "array(['2020-09-29', '2020-09-30', '2020-10-01', '2020-10-02',\n",
       "       '2020-10-03', '2020-10-04', '2020-10-05', '2020-10-06',\n",
       "       '2020-10-07', '2020-10-08', '2020-10-09', '2020-10-10',\n",
       "       '2020-10-11', '2020-10-12', '2020-10-13', '2020-10-14',\n",
       "       '2020-10-15', '2020-10-16', '2020-10-17', '2020-10-18',\n",
       "       '2020-10-19', '2020-10-20', '2020-10-21', '2020-10-22',\n",
       "       '2020-10-23', '2020-10-24', '2020-10-25', '2020-10-26',\n",
       "       '2020-10-27', '2020-10-28', '2020-10-29', '2020-10-30',\n",
       "       '2020-10-31', '2020-11-01', '2020-11-02', '2020-11-03',\n",
       "       '2020-11-04', '2020-11-05', '2021-09-28', '2021-09-29',\n",
       "       '2021-09-30', '2021-10-01', '2021-10-02', '2021-10-03',\n",
       "       '2021-10-04', '2021-10-05', '2021-10-06', '2021-10-07',\n",
       "       '2021-10-08', '2021-10-09', '2021-10-10', '2021-10-11',\n",
       "       '2021-10-12', '2021-10-13', '2021-10-14', '2021-10-15',\n",
       "       '2021-10-16', '2021-10-17', '2021-10-18', '2021-10-19',\n",
       "       '2021-10-20', '2021-10-21', '2021-10-22', '2021-10-23',\n",
       "       '2021-10-24', '2021-10-25', '2021-10-26', '2021-10-27',\n",
       "       '2021-10-28', '2021-10-29', '2021-10-30', '2021-10-31',\n",
       "       '2021-11-01', '2021-11-02', '2021-11-03', '2021-11-04'],\n",
       "      dtype=object)"
      ]
     },
     "execution_count": 14,
     "metadata": {},
     "output_type": "execute_result"
    }
   ],
   "source": [
    "print(len(sub2['dt'].unique()))\n",
    "sub2['dt'].unique()"
   ]
  },
  {
   "cell_type": "markdown",
   "metadata": {},
   "source": [
    "* 2020-09-29~2020-11-05\n",
    "* 2021-09-28~2021-11-04"
   ]
  },
  {
   "cell_type": "code",
   "execution_count": 15,
   "metadata": {},
   "outputs": [
    {
     "data": {
      "text/plain": [
       "38"
      ]
     },
     "execution_count": 15,
     "metadata": {},
     "output_type": "execute_result"
    }
   ],
   "source": [
    "len(pd.date_range(start=sub2['dt'].unique().min(), end='20201105', freq='1d'))"
   ]
  },
  {
   "cell_type": "code",
   "execution_count": 16,
   "metadata": {},
   "outputs": [
    {
     "data": {
      "text/plain": [
       "38"
      ]
     },
     "execution_count": 16,
     "metadata": {},
     "output_type": "execute_result"
    }
   ],
   "source": [
    "len(pd.date_range(start='20210928', end=sub2['dt'].unique().max(), freq='1d'))"
   ]
  },
  {
   "cell_type": "code",
   "execution_count": 17,
   "metadata": {},
   "outputs": [
    {
     "data": {
      "text/plain": [
       "76"
      ]
     },
     "execution_count": 17,
     "metadata": {},
     "output_type": "execute_result"
    }
   ],
   "source": [
    "38+38"
   ]
  },
  {
   "cell_type": "code",
   "execution_count": 18,
   "metadata": {},
   "outputs": [
    {
     "data": {
      "text/plain": [
       "228"
      ]
     },
     "execution_count": 18,
     "metadata": {},
     "output_type": "execute_result"
    }
   ],
   "source": [
    "76*3"
   ]
  },
  {
   "cell_type": "markdown",
   "metadata": {},
   "source": [
    "## data/private_data/"
   ]
  },
  {
   "cell_type": "code",
   "execution_count": 19,
   "metadata": {},
   "outputs": [],
   "source": [
    "private1 = pd.read_csv('/home/hshan/00_individual/SP2109/data/private_data/private_data.csv')"
   ]
  },
  {
   "cell_type": "code",
   "execution_count": 20,
   "metadata": {},
   "outputs": [
    {
     "data": {
      "text/html": [
       "<div>\n",
       "<style scoped>\n",
       "    .dataframe tbody tr th:only-of-type {\n",
       "        vertical-align: middle;\n",
       "    }\n",
       "\n",
       "    .dataframe tbody tr th {\n",
       "        vertical-align: top;\n",
       "    }\n",
       "\n",
       "    .dataframe thead th {\n",
       "        text-align: right;\n",
       "    }\n",
       "</style>\n",
       "<table border=\"1\" class=\"dataframe\">\n",
       "  <thead>\n",
       "    <tr style=\"text-align: right;\">\n",
       "      <th></th>\n",
       "      <th>date</th>\n",
       "      <th>요일</th>\n",
       "      <th>배추_거래량(kg)</th>\n",
       "      <th>배추_가격(원/kg)</th>\n",
       "      <th>무_거래량(kg)</th>\n",
       "      <th>무_가격(원/kg)</th>\n",
       "      <th>양파_거래량(kg)</th>\n",
       "      <th>양파_가격(원/kg)</th>\n",
       "      <th>건고추_거래량(kg)</th>\n",
       "      <th>건고추_가격(원/kg)</th>\n",
       "      <th>...</th>\n",
       "      <th>청상추_거래량(kg)</th>\n",
       "      <th>청상추_가격(원/kg)</th>\n",
       "      <th>백다다기_거래량(kg)</th>\n",
       "      <th>백다다기_가격(원/kg)</th>\n",
       "      <th>애호박_거래량(kg)</th>\n",
       "      <th>애호박_가격(원/kg)</th>\n",
       "      <th>캠벨얼리_거래량(kg)</th>\n",
       "      <th>캠벨얼리_가격(원/kg)</th>\n",
       "      <th>샤인마스캇_거래량(kg)</th>\n",
       "      <th>샤인마스캇_가격(원/kg)</th>\n",
       "    </tr>\n",
       "  </thead>\n",
       "  <tbody>\n",
       "    <tr>\n",
       "      <th>0</th>\n",
       "      <td>2020-11-06</td>\n",
       "      <td>금요일</td>\n",
       "      <td>2051420.6</td>\n",
       "      <td>493.0</td>\n",
       "      <td>2764127.3</td>\n",
       "      <td>487.0</td>\n",
       "      <td>1969669.2</td>\n",
       "      <td>1138.0</td>\n",
       "      <td>958.0</td>\n",
       "      <td>22510.0</td>\n",
       "      <td>...</td>\n",
       "      <td>42634.0</td>\n",
       "      <td>1959.0</td>\n",
       "      <td>290660.8</td>\n",
       "      <td>1290.0</td>\n",
       "      <td>318723.1</td>\n",
       "      <td>1530.0</td>\n",
       "      <td>23697.0</td>\n",
       "      <td>2797.0</td>\n",
       "      <td>70824.0</td>\n",
       "      <td>10514.0</td>\n",
       "    </tr>\n",
       "  </tbody>\n",
       "</table>\n",
       "<p>1 rows × 44 columns</p>\n",
       "</div>"
      ],
      "text/plain": [
       "         date   요일  배추_거래량(kg)  배추_가격(원/kg)  무_거래량(kg)  무_가격(원/kg)  \\\n",
       "0  2020-11-06  금요일   2051420.6        493.0  2764127.3       487.0   \n",
       "\n",
       "   양파_거래량(kg)  양파_가격(원/kg)  건고추_거래량(kg)  건고추_가격(원/kg)  ...  청상추_거래량(kg)  \\\n",
       "0   1969669.2       1138.0        958.0       22510.0  ...      42634.0   \n",
       "\n",
       "   청상추_가격(원/kg)  백다다기_거래량(kg)  백다다기_가격(원/kg)  애호박_거래량(kg)  애호박_가격(원/kg)  \\\n",
       "0        1959.0      290660.8         1290.0     318723.1        1530.0   \n",
       "\n",
       "   캠벨얼리_거래량(kg)  캠벨얼리_가격(원/kg)  샤인마스캇_거래량(kg)  샤인마스캇_가격(원/kg)  \n",
       "0       23697.0         2797.0        70824.0         10514.0  \n",
       "\n",
       "[1 rows x 44 columns]"
      ]
     },
     "execution_count": 20,
     "metadata": {},
     "output_type": "execute_result"
    }
   ],
   "source": [
    "private1.head(1)"
   ]
  },
  {
   "cell_type": "code",
   "execution_count": 21,
   "metadata": {},
   "outputs": [],
   "source": [
    "dir_path = '/home/hshan/00_individual/SP2109/data/private_data/AT_TSALET_ALL/'"
   ]
  },
  {
   "cell_type": "code",
   "execution_count": 22,
   "metadata": {},
   "outputs": [],
   "source": [
    "file_list = os.listdir(dir_path)\n",
    "file_list = [s for s in file_list if \"csv\" in s]"
   ]
  },
  {
   "cell_type": "code",
   "execution_count": 23,
   "metadata": {},
   "outputs": [
    {
     "data": {
      "text/plain": [
       "['AT_TSALET_ALL_202101.csv',\n",
       " 'AT_TSALET_ALL_202103.csv',\n",
       " 'AT_TSALET_ALL_202107.csv',\n",
       " 'AT_TSALET_ALL_202012.csv',\n",
       " 'AT_TSALET_ALL_202104.csv',\n",
       " 'AT_TSALET_ALL_202106.csv',\n",
       " 'AT_TSALET_ALL_202105.csv',\n",
       " 'AT_TSALET_ALL_202108.csv',\n",
       " 'AT_TSALET_ALL_202011.csv',\n",
       " 'AT_TSALET_ALL_202102.csv']"
      ]
     },
     "execution_count": 23,
     "metadata": {},
     "output_type": "execute_result"
    }
   ],
   "source": [
    "file_list"
   ]
  },
  {
   "cell_type": "code",
   "execution_count": 24,
   "metadata": {
    "scrolled": true
   },
   "outputs": [
    {
     "name": "stderr",
     "output_type": "stream",
     "text": [
      "Skipping line 132505: Expected 15 fields in line 132505, saw 17\n",
      "Skipping line 397014: Expected 15 fields in line 397014, saw 20\n",
      "Skipping line 656275: Expected 15 fields in line 656275, saw 17\n",
      "Skipping line 1045302: Expected 15 fields in line 1045302, saw 20\n",
      "Skipping line 1573299: Expected 15 fields in line 1573299, saw 28\n",
      "Skipping line 1970834: Expected 15 fields in line 1970834, saw 22\n",
      "Skipping line 2100809: Expected 15 fields in line 2100809, saw 18\n",
      "Skipping line 2359308: Expected 15 fields in line 2359308, saw 23\n",
      "Skipping line 2617485: Expected 15 fields in line 2617485, saw 24\n",
      "Skipping line 3073813: Expected 15 fields in line 3073813, saw 19\n",
      "Skipping line 3139089: Expected 15 fields in line 3139089, saw 19\n",
      "Skipping line 3271746: Expected 15 fields in line 3271746, saw 16\n",
      "Skipping line 3404559: Expected 15 fields in line 3404559, saw 17\n",
      "Skipping line 3470889: Expected 15 fields in line 3470889, saw 23\n",
      "Skipping line 3603669: Expected 15 fields in line 3603669, saw 21\n",
      "Skipping line 3669999: Expected 15 fields in line 3669999, saw 19\n",
      "Skipping line 3933077: Expected 15 fields in line 3933077, saw 20\n",
      "Skipping line 3997826: Expected 15 fields in line 3997826, saw 17\n",
      "Skipping line 4191848: Expected 15 fields in line 4191848, saw 22\n",
      "Skipping line 4256312: Expected 15 fields in line 4256312, saw 18\n",
      "Skipping line 4450142: Expected 15 fields in line 4450142, saw 28\n",
      "Skipping line 4644637: Expected 15 fields in line 4644637, saw 26\n",
      "Skipping line 4774513: Expected 15 fields in line 4774513, saw 26\n"
     ]
    }
   ],
   "source": [
    "private_exp1 = pd.read_csv(dir_path+file_list[0], error_bad_lines=False, engine='python')"
   ]
  },
  {
   "cell_type": "code",
   "execution_count": 25,
   "metadata": {},
   "outputs": [
    {
     "data": {
      "text/html": [
       "<div>\n",
       "<style scoped>\n",
       "    .dataframe tbody tr th:only-of-type {\n",
       "        vertical-align: middle;\n",
       "    }\n",
       "\n",
       "    .dataframe tbody tr th {\n",
       "        vertical-align: top;\n",
       "    }\n",
       "\n",
       "    .dataframe thead th {\n",
       "        text-align: right;\n",
       "    }\n",
       "</style>\n",
       "<table border=\"1\" class=\"dataframe\">\n",
       "  <thead>\n",
       "    <tr style=\"text-align: right;\">\n",
       "      <th></th>\n",
       "      <th>SALEDATE</th>\n",
       "      <th>WHSAL_NM</th>\n",
       "      <th>CMP_NM</th>\n",
       "      <th>PUM_NM</th>\n",
       "      <th>KIND_NM</th>\n",
       "      <th>DAN_NM</th>\n",
       "      <th>POJ_NM</th>\n",
       "      <th>SIZE_NM</th>\n",
       "      <th>LV_NM</th>\n",
       "      <th>SAN_NM</th>\n",
       "      <th>DANQ</th>\n",
       "      <th>QTY</th>\n",
       "      <th>COST</th>\n",
       "      <th>TOT_QTY</th>\n",
       "      <th>TOT_AMT</th>\n",
       "    </tr>\n",
       "  </thead>\n",
       "  <tbody>\n",
       "    <tr>\n",
       "      <th>0</th>\n",
       "      <td>20210109.0</td>\n",
       "      <td>창원팔용도매시장</td>\n",
       "      <td>창원청과</td>\n",
       "      <td>대파</td>\n",
       "      <td>대파(일반)</td>\n",
       "      <td>kg</td>\n",
       "      <td>.</td>\n",
       "      <td>2개</td>\n",
       "      <td>특</td>\n",
       "      <td>경남 밀양시</td>\n",
       "      <td>5.0</td>\n",
       "      <td>2.0</td>\n",
       "      <td>7700.0</td>\n",
       "      <td>10.0</td>\n",
       "      <td>15400.0</td>\n",
       "    </tr>\n",
       "    <tr>\n",
       "      <th>1</th>\n",
       "      <td>20210109.0</td>\n",
       "      <td>창원팔용도매시장</td>\n",
       "      <td>창원청과</td>\n",
       "      <td>상추</td>\n",
       "      <td>적상추</td>\n",
       "      <td>kg</td>\n",
       "      <td>.</td>\n",
       "      <td>.</td>\n",
       "      <td>특</td>\n",
       "      <td>경남 밀양시</td>\n",
       "      <td>2.0</td>\n",
       "      <td>13.0</td>\n",
       "      <td>8500.0</td>\n",
       "      <td>26.0</td>\n",
       "      <td>110500.0</td>\n",
       "    </tr>\n",
       "    <tr>\n",
       "      <th>2</th>\n",
       "      <td>20210109.0</td>\n",
       "      <td>창원팔용도매시장</td>\n",
       "      <td>창원청과</td>\n",
       "      <td>상추</td>\n",
       "      <td>적상추</td>\n",
       "      <td>kg</td>\n",
       "      <td>.</td>\n",
       "      <td>.</td>\n",
       "      <td>특</td>\n",
       "      <td>경남 밀양시</td>\n",
       "      <td>2.0</td>\n",
       "      <td>11.0</td>\n",
       "      <td>9500.0</td>\n",
       "      <td>22.0</td>\n",
       "      <td>104500.0</td>\n",
       "    </tr>\n",
       "    <tr>\n",
       "      <th>3</th>\n",
       "      <td>20210109.0</td>\n",
       "      <td>창원팔용도매시장</td>\n",
       "      <td>창원청과</td>\n",
       "      <td>상추</td>\n",
       "      <td>적상추</td>\n",
       "      <td>kg</td>\n",
       "      <td>.</td>\n",
       "      <td>.</td>\n",
       "      <td>특</td>\n",
       "      <td>경남 밀양시</td>\n",
       "      <td>2.0</td>\n",
       "      <td>10.0</td>\n",
       "      <td>6300.0</td>\n",
       "      <td>20.0</td>\n",
       "      <td>63000.0</td>\n",
       "    </tr>\n",
       "    <tr>\n",
       "      <th>4</th>\n",
       "      <td>20210109.0</td>\n",
       "      <td>창원팔용도매시장</td>\n",
       "      <td>창원청과</td>\n",
       "      <td>상추</td>\n",
       "      <td>적상추</td>\n",
       "      <td>kg</td>\n",
       "      <td>.</td>\n",
       "      <td>.</td>\n",
       "      <td>특</td>\n",
       "      <td>경남 밀양시</td>\n",
       "      <td>2.0</td>\n",
       "      <td>4.0</td>\n",
       "      <td>7000.0</td>\n",
       "      <td>8.0</td>\n",
       "      <td>28000.0</td>\n",
       "    </tr>\n",
       "  </tbody>\n",
       "</table>\n",
       "</div>"
      ],
      "text/plain": [
       "     SALEDATE  WHSAL_NM CMP_NM PUM_NM KIND_NM DAN_NM POJ_NM SIZE_NM LV_NM  \\\n",
       "0  20210109.0  창원팔용도매시장   창원청과     대파  대파(일반)     kg      .      2개     특   \n",
       "1  20210109.0  창원팔용도매시장   창원청과     상추     적상추     kg      .       .     특   \n",
       "2  20210109.0  창원팔용도매시장   창원청과     상추     적상추     kg      .       .     특   \n",
       "3  20210109.0  창원팔용도매시장   창원청과     상추     적상추     kg      .       .     특   \n",
       "4  20210109.0  창원팔용도매시장   창원청과     상추     적상추     kg      .       .     특   \n",
       "\n",
       "   SAN_NM  DANQ   QTY    COST  TOT_QTY   TOT_AMT  \n",
       "0  경남 밀양시   5.0   2.0  7700.0     10.0   15400.0  \n",
       "1  경남 밀양시   2.0  13.0  8500.0     26.0  110500.0  \n",
       "2  경남 밀양시   2.0  11.0  9500.0     22.0  104500.0  \n",
       "3  경남 밀양시   2.0  10.0  6300.0     20.0   63000.0  \n",
       "4  경남 밀양시   2.0   4.0  7000.0      8.0   28000.0  "
      ]
     },
     "execution_count": 25,
     "metadata": {},
     "output_type": "execute_result"
    }
   ],
   "source": [
    "private_exp1.head()"
   ]
  },
  {
   "cell_type": "code",
   "execution_count": 26,
   "metadata": {},
   "outputs": [
    {
     "data": {
      "text/html": [
       "<div>\n",
       "<style scoped>\n",
       "    .dataframe tbody tr th:only-of-type {\n",
       "        vertical-align: middle;\n",
       "    }\n",
       "\n",
       "    .dataframe tbody tr th {\n",
       "        vertical-align: top;\n",
       "    }\n",
       "\n",
       "    .dataframe thead th {\n",
       "        text-align: right;\n",
       "    }\n",
       "</style>\n",
       "<table border=\"1\" class=\"dataframe\">\n",
       "  <thead>\n",
       "    <tr style=\"text-align: right;\">\n",
       "      <th></th>\n",
       "      <th>SALEDATE</th>\n",
       "      <th>WHSAL_NM</th>\n",
       "      <th>CMP_NM</th>\n",
       "      <th>PUM_NM</th>\n",
       "      <th>KIND_NM</th>\n",
       "      <th>DAN_NM</th>\n",
       "      <th>POJ_NM</th>\n",
       "      <th>SIZE_NM</th>\n",
       "      <th>LV_NM</th>\n",
       "      <th>SAN_NM</th>\n",
       "      <th>DANQ</th>\n",
       "      <th>QTY</th>\n",
       "      <th>COST</th>\n",
       "      <th>TOT_QTY</th>\n",
       "      <th>TOT_AMT</th>\n",
       "    </tr>\n",
       "  </thead>\n",
       "  <tbody>\n",
       "    <tr>\n",
       "      <th>4918724</th>\n",
       "      <td>0.0</td>\n",
       "      <td>16.0</td>\n",
       "      <td>37000</td>\n",
       "      <td>None</td>\n",
       "      <td>None</td>\n",
       "      <td>None</td>\n",
       "      <td>None</td>\n",
       "      <td>None</td>\n",
       "      <td>None</td>\n",
       "      <td>None</td>\n",
       "      <td>NaN</td>\n",
       "      <td>NaN</td>\n",
       "      <td>NaN</td>\n",
       "      <td>NaN</td>\n",
       "      <td>NaN</td>\n",
       "    </tr>\n",
       "  </tbody>\n",
       "</table>\n",
       "</div>"
      ],
      "text/plain": [
       "         SALEDATE WHSAL_NM CMP_NM PUM_NM KIND_NM DAN_NM POJ_NM SIZE_NM LV_NM  \\\n",
       "4918724       0.0     16.0  37000   None    None   None   None    None  None   \n",
       "\n",
       "        SAN_NM  DANQ  QTY  COST  TOT_QTY  TOT_AMT  \n",
       "4918724   None   NaN  NaN   NaN      NaN      NaN  "
      ]
     },
     "execution_count": 26,
     "metadata": {},
     "output_type": "execute_result"
    }
   ],
   "source": [
    "private_exp1[private_exp1['SALEDATE'] == 0]"
   ]
  },
  {
   "cell_type": "code",
   "execution_count": 27,
   "metadata": {
    "scrolled": true
   },
   "outputs": [
    {
     "data": {
      "text/plain": [
       "array(['대파', '상추', '깻잎', '쪽파', '꽈리고추', '풋고추', '양송이', '표고버섯', '생강', '배추',\n",
       "       '호박', '딸기', '감귤', '얼갈이배추', '기타', '칼리플라워(꽃양배추)', '마늘', '당근', '시금치',\n",
       "       '브로코리(녹색꽃양배추)', '치커리', '봄동배추', '홍고추', '모자반', '파래', '달래', '시레기',\n",
       "       '미역', '부추', '가지', '수수', '토마토', '양배추', '오이', '고구마', '감자', '팽이버섯',\n",
       "       '새송이', '콜라비(순무양배추)', '셀러리(양미나리)', '무순', '새싹', '고수', '전분 및 사료제조',\n",
       "       '다시마', '식용허브', '미나리', '방풍나물', '갓', '우뭇가사리', '돗나물', '도라지', '곡물제조',\n",
       "       '파프리카', '피망(단고추)', '방울토마토', '느타리버섯', '쑥갓', '아욱', '청경채', '망고',\n",
       "       '바나나', '포도', '무', '사과', '배', '곶감', '적채', '취나물', '열무', '겨자잎', '근대',\n",
       "       '겨자', '케일', '비타민', '단감', '어린잎', '아스파라가스', '만감', '오렌지', '파인애플',\n",
       "       '냉이', '양파', '동초', '숙주나물', '콩나물', '양상추', '토란', '만가닥', '춘채', '체리',\n",
       "       '수박', '신선초', '참당귀', '참나물', '기타식품', '쌈추', '아보카도', '유채', '말', '로메인',\n",
       "       '무청', '탄제린', '메론', '금감', '비트(붉은사탕무우)', '고사리', '우엉', '연근', '떫은감',\n",
       "       '조미제품', '우엉대', '고추잎', '자몽', '용과', '머위대', '선인장열매', '양하', '마',\n",
       "       '절임식품', '석류', '목이', '참다래(키위)', '레몬', '고구마순', '토란대', '블루베리',\n",
       "       '방울양배추(스프로스)', '파세리(향미나리)', '밤', '옥수수', '루꼴라', '다래', '땅콩', '유지',\n",
       "       '강낭콩', '멸치', '고비', '콩', '알타리무', '알로애', '차', '애느타리버섯', '조미가공',\n",
       "       '겨자채', '곤드레나물', '보리순', '순무', '속새', '고들빼기', '비름', '완두', '호두', '더덕',\n",
       "       '씀바귀', '삼채', '실파', '건고추', '꼬시래기', '돌나물', '참깨', '대추', '수삼',\n",
       "       '아스파라거스', '사보래(사보이양배추)', '어묵_어분_어비', '야콘', '방아', '야생화',\n",
       "       '크레송(고추무냉이)', '레드쉬', '빈스', '알파파싹', '두릅', '유자', '은행', '도토리', '방풍',\n",
       "       '노루궁뎅이버섯', '메밀순', '김', '종자', '천궁', '옻', '민들레', '질경이', '쑥',\n",
       "       '국화(기타)', '솔잎', '죽순', '컴프리', '금강초', '참외', '듀리안', '계피', '황기', '곤달비',\n",
       "       '가랏', '고추씨', '들깨', '송화버섯', '오크라', '아몬드', '꿀벌', '허브', '찹쌀', '팥',\n",
       "       '울금', '호박씨', '알로에', '무화과', '잣', '.', '보리수', '메밀', '보리', '상황버섯',\n",
       "       '청각', '가죽나물', '통조림', '카이란', '람부탄', '강황', '영지버섯', '경상남도 하동군', '오가피',\n",
       "       '감초', '머루', '코코넛', '고라비', '동부', '딸기타리버섯', '안스리움', '모과', '버찌', 'kg',\n",
       "       '호박잎', '시�자', '조란', '복숭아', '해바라기씨', '피망잎', '묵나물', '여주', '독활',\n",
       "       '건제품', '피마자', '분재류', '감갘)', '체리모야', '야자', '치자', '박', '과루인(하늘타리)',\n",
       "       None, '원추리', '2.0', '360.0', '리치', '거베라', '혼합과실', '피마자잎', '인삼',\n",
       "       '상자', '160.0', '녹두', '흑노호', '단', '포기찹', '초석잠', '16.0', '파파야',\n",
       "       '근괴류'], dtype=object)"
      ]
     },
     "execution_count": 27,
     "metadata": {},
     "output_type": "execute_result"
    }
   ],
   "source": [
    "private_exp1['PUM_NM'].unique()"
   ]
  },
  {
   "cell_type": "code",
   "execution_count": 28,
   "metadata": {},
   "outputs": [
    {
     "name": "stdout",
     "output_type": "stream",
     "text": [
      "0.0\n",
      "20210131.0\n"
     ]
    },
    {
     "data": {
      "text/plain": [
       "array([20210109., 20210108., 20210107., 20210106., 20210105., 20210104.,\n",
       "       20210102., 20210120., 20210119., 20210118., 20210116., 20210115.,\n",
       "       20210114., 20210113., 20210112., 20210111., 20210131., 20210130.,\n",
       "       20210129., 20210128., 20210127., 20210126., 20210125., 20210123.,\n",
       "       20210122., 20210121.,        0.])"
      ]
     },
     "execution_count": 28,
     "metadata": {},
     "output_type": "execute_result"
    }
   ],
   "source": [
    "print(private_exp1['SALEDATE'].unique().min())\n",
    "print(private_exp1['SALEDATE'].unique().max())\n",
    "private_exp1['SALEDATE'].unique()"
   ]
  },
  {
   "cell_type": "code",
   "execution_count": 29,
   "metadata": {},
   "outputs": [
    {
     "data": {
      "text/html": [
       "<div>\n",
       "<style scoped>\n",
       "    .dataframe tbody tr th:only-of-type {\n",
       "        vertical-align: middle;\n",
       "    }\n",
       "\n",
       "    .dataframe tbody tr th {\n",
       "        vertical-align: top;\n",
       "    }\n",
       "\n",
       "    .dataframe thead th {\n",
       "        text-align: right;\n",
       "    }\n",
       "</style>\n",
       "<table border=\"1\" class=\"dataframe\">\n",
       "  <thead>\n",
       "    <tr style=\"text-align: right;\">\n",
       "      <th></th>\n",
       "      <th>SALEDATE</th>\n",
       "      <th>WHSAL_NM</th>\n",
       "      <th>CMP_NM</th>\n",
       "      <th>PUM_NM</th>\n",
       "      <th>KIND_NM</th>\n",
       "      <th>DAN_NM</th>\n",
       "      <th>POJ_NM</th>\n",
       "      <th>SIZE_NM</th>\n",
       "      <th>LV_NM</th>\n",
       "      <th>SAN_NM</th>\n",
       "      <th>DANQ</th>\n",
       "      <th>QTY</th>\n",
       "      <th>COST</th>\n",
       "      <th>TOT_QTY</th>\n",
       "      <th>TOT_AMT</th>\n",
       "    </tr>\n",
       "  </thead>\n",
       "  <tbody>\n",
       "  </tbody>\n",
       "</table>\n",
       "</div>"
      ],
      "text/plain": [
       "Empty DataFrame\n",
       "Columns: [SALEDATE, WHSAL_NM, CMP_NM, PUM_NM, KIND_NM, DAN_NM, POJ_NM, SIZE_NM, LV_NM, SAN_NM, DANQ, QTY, COST, TOT_QTY, TOT_AMT]\n",
       "Index: []"
      ]
     },
     "execution_count": 29,
     "metadata": {},
     "output_type": "execute_result"
    }
   ],
   "source": [
    "private_exp1[private_exp1['PUM_NM'].isin(['샤인마스캇', '캠벨얼리', '애호박', '청상추', '백다다기'])]"
   ]
  },
  {
   "cell_type": "markdown",
   "metadata": {},
   "source": [
    "## data/public_data/"
   ]
  },
  {
   "cell_type": "code",
   "execution_count": 30,
   "metadata": {},
   "outputs": [],
   "source": [
    "public1 = pd.read_csv('/home/hshan/00_individual/SP2109/data/public_data/train.csv')"
   ]
  },
  {
   "cell_type": "code",
   "execution_count": 31,
   "metadata": {},
   "outputs": [
    {
     "data": {
      "text/html": [
       "<div>\n",
       "<style scoped>\n",
       "    .dataframe tbody tr th:only-of-type {\n",
       "        vertical-align: middle;\n",
       "    }\n",
       "\n",
       "    .dataframe tbody tr th {\n",
       "        vertical-align: top;\n",
       "    }\n",
       "\n",
       "    .dataframe thead th {\n",
       "        text-align: right;\n",
       "    }\n",
       "</style>\n",
       "<table border=\"1\" class=\"dataframe\">\n",
       "  <thead>\n",
       "    <tr style=\"text-align: right;\">\n",
       "      <th></th>\n",
       "      <th>date</th>\n",
       "      <th>요일</th>\n",
       "      <th>배추_거래량(kg)</th>\n",
       "      <th>배추_가격(원/kg)</th>\n",
       "      <th>무_거래량(kg)</th>\n",
       "      <th>무_가격(원/kg)</th>\n",
       "      <th>양파_거래량(kg)</th>\n",
       "      <th>양파_가격(원/kg)</th>\n",
       "      <th>건고추_거래량(kg)</th>\n",
       "      <th>건고추_가격(원/kg)</th>\n",
       "      <th>...</th>\n",
       "      <th>청상추_거래량(kg)</th>\n",
       "      <th>청상추_가격(원/kg)</th>\n",
       "      <th>백다다기_거래량(kg)</th>\n",
       "      <th>백다다기_가격(원/kg)</th>\n",
       "      <th>애호박_거래량(kg)</th>\n",
       "      <th>애호박_가격(원/kg)</th>\n",
       "      <th>캠벨얼리_거래량(kg)</th>\n",
       "      <th>캠벨얼리_가격(원/kg)</th>\n",
       "      <th>샤인마스캇_거래량(kg)</th>\n",
       "      <th>샤인마스캇_가격(원/kg)</th>\n",
       "    </tr>\n",
       "  </thead>\n",
       "  <tbody>\n",
       "    <tr>\n",
       "      <th>0</th>\n",
       "      <td>2016-01-01</td>\n",
       "      <td>금요일</td>\n",
       "      <td>0.0</td>\n",
       "      <td>0.0</td>\n",
       "      <td>0.0</td>\n",
       "      <td>0.0</td>\n",
       "      <td>0.0</td>\n",
       "      <td>0.0</td>\n",
       "      <td>0.0</td>\n",
       "      <td>0.0</td>\n",
       "      <td>...</td>\n",
       "      <td>0.0</td>\n",
       "      <td>0.0</td>\n",
       "      <td>0.0</td>\n",
       "      <td>0.0</td>\n",
       "      <td>0.0</td>\n",
       "      <td>0.0</td>\n",
       "      <td>0.0</td>\n",
       "      <td>0.0</td>\n",
       "      <td>0.0</td>\n",
       "      <td>0.0</td>\n",
       "    </tr>\n",
       "  </tbody>\n",
       "</table>\n",
       "<p>1 rows × 44 columns</p>\n",
       "</div>"
      ],
      "text/plain": [
       "         date   요일  배추_거래량(kg)  배추_가격(원/kg)  무_거래량(kg)  무_가격(원/kg)  \\\n",
       "0  2016-01-01  금요일         0.0          0.0        0.0         0.0   \n",
       "\n",
       "   양파_거래량(kg)  양파_가격(원/kg)  건고추_거래량(kg)  건고추_가격(원/kg)  ...  청상추_거래량(kg)  \\\n",
       "0         0.0          0.0          0.0           0.0  ...          0.0   \n",
       "\n",
       "   청상추_가격(원/kg)  백다다기_거래량(kg)  백다다기_가격(원/kg)  애호박_거래량(kg)  애호박_가격(원/kg)  \\\n",
       "0           0.0           0.0            0.0          0.0           0.0   \n",
       "\n",
       "   캠벨얼리_거래량(kg)  캠벨얼리_가격(원/kg)  샤인마스캇_거래량(kg)  샤인마스캇_가격(원/kg)  \n",
       "0           0.0            0.0            0.0             0.0  \n",
       "\n",
       "[1 rows x 44 columns]"
      ]
     },
     "execution_count": 31,
     "metadata": {},
     "output_type": "execute_result"
    }
   ],
   "source": [
    "public1.head(1)"
   ]
  },
  {
   "cell_type": "code",
   "execution_count": 32,
   "metadata": {},
   "outputs": [
    {
     "name": "stdout",
     "output_type": "stream",
     "text": [
      "2016-01-01\n",
      "2020-09-28\n"
     ]
    }
   ],
   "source": [
    "print(public1['date'].min())\n",
    "print(public1['date'].max())"
   ]
  },
  {
   "cell_type": "code",
   "execution_count": 33,
   "metadata": {},
   "outputs": [
    {
     "data": {
      "text/plain": [
       "1733"
      ]
     },
     "execution_count": 33,
     "metadata": {},
     "output_type": "execute_result"
    }
   ],
   "source": [
    "len(public1)"
   ]
  },
  {
   "cell_type": "code",
   "execution_count": 34,
   "metadata": {},
   "outputs": [],
   "source": [
    "dir_path = '/home/hshan/00_individual/SP2109/data/public_data/train_AT_TSALET_ALL/'"
   ]
  },
  {
   "cell_type": "code",
   "execution_count": 35,
   "metadata": {},
   "outputs": [],
   "source": [
    "file_list = os.listdir(dir_path)\n",
    "file_list = [s for s in file_list if \"csv\" in s]"
   ]
  },
  {
   "cell_type": "code",
   "execution_count": 36,
   "metadata": {
    "scrolled": true
   },
   "outputs": [
    {
     "data": {
      "text/plain": [
       "['AT_TSALET_ALL_201712.csv',\n",
       " 'AT_TSALET_ALL_201902.csv',\n",
       " 'AT_TSALET_ALL_201801.csv',\n",
       " 'AT_TSALET_ALL_201706.csv',\n",
       " 'AT_TSALET_ALL_201810.csv',\n",
       " 'AT_TSALET_ALL_201709.csv',\n",
       " 'AT_TSALET_ALL_201607.csv',\n",
       " 'AT_TSALET_ALL_201608.csv',\n",
       " 'AT_TSALET_ALL_201802.csv',\n",
       " 'AT_TSALET_ALL_201806.csv',\n",
       " 'AT_TSALET_ALL_201804.csv',\n",
       " 'AT_TSALET_ALL_201612.csv',\n",
       " 'AT_TSALET_ALL_201611.csv',\n",
       " 'AT_TSALET_ALL_201903.csv',\n",
       " 'AT_TSALET_ALL_201704.csv',\n",
       " 'AT_TSALET_ALL_201805.csv',\n",
       " 'AT_TSALET_ALL_201605.csv',\n",
       " 'AT_TSALET_ALL_201811.csv',\n",
       " 'AT_TSALET_ALL_201705.csv',\n",
       " 'AT_TSALET_ALL_201702.csv',\n",
       " 'AT_TSALET_ALL_201711.csv',\n",
       " 'AT_TSALET_ALL_201610.csv',\n",
       " 'AT_TSALET_ALL_201906.csv',\n",
       " 'AT_TSALET_ALL_201707.csv',\n",
       " 'AT_TSALET_ALL_201904.csv',\n",
       " 'AT_TSALET_ALL_201703.csv',\n",
       " 'AT_TSALET_ALL_201601.csv',\n",
       " 'AT_TSALET_ALL_201812.csv',\n",
       " 'AT_TSALET_ALL_201710.csv',\n",
       " 'AT_TSALET_ALL_201606.csv',\n",
       " 'AT_TSALET_ALL_201803.csv',\n",
       " 'AT_TSALET_ALL_201604.csv',\n",
       " 'AT_TSALET_ALL_201807.csv',\n",
       " 'AT_TSALET_ALL_201701.csv',\n",
       " 'AT_TSALET_ALL_201609.csv',\n",
       " 'AT_TSALET_ALL_201905.csv',\n",
       " 'AT_TSALET_ALL_201708.csv',\n",
       " 'AT_TSALET_ALL_201808.csv',\n",
       " 'AT_TSALET_ALL_201809.csv',\n",
       " 'AT_TSALET_ALL_201901.csv',\n",
       " 'AT_TSALET_ALL_201602.csv',\n",
       " 'AT_TSALET_ALL_201603.csv']"
      ]
     },
     "execution_count": 36,
     "metadata": {},
     "output_type": "execute_result"
    }
   ],
   "source": [
    "file_list"
   ]
  },
  {
   "cell_type": "code",
   "execution_count": 37,
   "metadata": {},
   "outputs": [
    {
     "name": "stderr",
     "output_type": "stream",
     "text": [
      "Skipping line 134865: Expected 15 fields in line 134865, saw 20\n"
     ]
    },
    {
     "name": "stdout",
     "output_type": "stream",
     "text": [
      "201937\n"
     ]
    }
   ],
   "source": [
    "public_exp1 = pd.read_csv(dir_path+file_list[0], error_bad_lines=False, engine='python')\n",
    "print(len(public_exp1))"
   ]
  },
  {
   "cell_type": "code",
   "execution_count": 40,
   "metadata": {},
   "outputs": [
    {
     "data": {
      "text/html": [
       "<div>\n",
       "<style scoped>\n",
       "    .dataframe tbody tr th:only-of-type {\n",
       "        vertical-align: middle;\n",
       "    }\n",
       "\n",
       "    .dataframe tbody tr th {\n",
       "        vertical-align: top;\n",
       "    }\n",
       "\n",
       "    .dataframe thead th {\n",
       "        text-align: right;\n",
       "    }\n",
       "</style>\n",
       "<table border=\"1\" class=\"dataframe\">\n",
       "  <thead>\n",
       "    <tr style=\"text-align: right;\">\n",
       "      <th></th>\n",
       "      <th>SALEDATE</th>\n",
       "      <th>WHSAL_NM</th>\n",
       "      <th>CMP_NM</th>\n",
       "      <th>PUM_NM</th>\n",
       "      <th>KIND_NM</th>\n",
       "      <th>DAN_NM</th>\n",
       "      <th>POJ_NM</th>\n",
       "      <th>SIZE_NM</th>\n",
       "      <th>LV_NM</th>\n",
       "      <th>SAN_NM</th>\n",
       "      <th>DANQ</th>\n",
       "      <th>QTY</th>\n",
       "      <th>COST</th>\n",
       "      <th>TOT_QTY</th>\n",
       "      <th>TOT_AMT</th>\n",
       "    </tr>\n",
       "  </thead>\n",
       "  <tbody>\n",
       "    <tr>\n",
       "      <th>0</th>\n",
       "      <td>20171209</td>\n",
       "      <td>수원도매시장</td>\n",
       "      <td>수원청과</td>\n",
       "      <td>풋고추</td>\n",
       "      <td>롱그린</td>\n",
       "      <td>kg</td>\n",
       "      <td>.</td>\n",
       "      <td>.</td>\n",
       "      <td>특</td>\n",
       "      <td>경남 창녕군</td>\n",
       "      <td>10.0</td>\n",
       "      <td>4.0</td>\n",
       "      <td>16500.0</td>\n",
       "      <td>40.0</td>\n",
       "      <td>66000.0</td>\n",
       "    </tr>\n",
       "  </tbody>\n",
       "</table>\n",
       "</div>"
      ],
      "text/plain": [
       "   SALEDATE WHSAL_NM CMP_NM PUM_NM KIND_NM DAN_NM POJ_NM SIZE_NM LV_NM  \\\n",
       "0  20171209   수원도매시장   수원청과    풋고추     롱그린     kg      .       .     특   \n",
       "\n",
       "   SAN_NM  DANQ  QTY     COST  TOT_QTY  TOT_AMT  \n",
       "0  경남 창녕군  10.0  4.0  16500.0     40.0  66000.0  "
      ]
     },
     "execution_count": 40,
     "metadata": {},
     "output_type": "execute_result"
    }
   ],
   "source": [
    "public_exp1.head(1)"
   ]
  },
  {
   "cell_type": "code",
   "execution_count": 41,
   "metadata": {},
   "outputs": [
    {
     "data": {
      "text/plain": [
       "array([20171209, 20171208, 20171207, 20171206])"
      ]
     },
     "execution_count": 41,
     "metadata": {},
     "output_type": "execute_result"
    }
   ],
   "source": [
    "public_exp1['SALEDATE'].unique()"
   ]
  },
  {
   "cell_type": "code",
   "execution_count": 38,
   "metadata": {},
   "outputs": [
    {
     "data": {
      "text/html": [
       "<div>\n",
       "<style scoped>\n",
       "    .dataframe tbody tr th:only-of-type {\n",
       "        vertical-align: middle;\n",
       "    }\n",
       "\n",
       "    .dataframe tbody tr th {\n",
       "        vertical-align: top;\n",
       "    }\n",
       "\n",
       "    .dataframe thead th {\n",
       "        text-align: right;\n",
       "    }\n",
       "</style>\n",
       "<table border=\"1\" class=\"dataframe\">\n",
       "  <thead>\n",
       "    <tr style=\"text-align: right;\">\n",
       "      <th></th>\n",
       "      <th>SALEDATE</th>\n",
       "      <th>WHSAL_NM</th>\n",
       "      <th>CMP_NM</th>\n",
       "      <th>PUM_NM</th>\n",
       "      <th>KIND_NM</th>\n",
       "      <th>DAN_NM</th>\n",
       "      <th>POJ_NM</th>\n",
       "      <th>SIZE_NM</th>\n",
       "      <th>LV_NM</th>\n",
       "      <th>SAN_NM</th>\n",
       "      <th>DANQ</th>\n",
       "      <th>QTY</th>\n",
       "      <th>COST</th>\n",
       "      <th>TOT_QTY</th>\n",
       "      <th>TOT_AMT</th>\n",
       "    </tr>\n",
       "  </thead>\n",
       "  <tbody>\n",
       "    <tr>\n",
       "      <th>0</th>\n",
       "      <td>20171209</td>\n",
       "      <td>수원도매시장</td>\n",
       "      <td>수원청과</td>\n",
       "      <td>풋고추</td>\n",
       "      <td>롱그린</td>\n",
       "      <td>kg</td>\n",
       "      <td>.</td>\n",
       "      <td>.</td>\n",
       "      <td>특</td>\n",
       "      <td>경남 창녕군</td>\n",
       "      <td>10.0</td>\n",
       "      <td>4.0</td>\n",
       "      <td>16500.0</td>\n",
       "      <td>40.0</td>\n",
       "      <td>66000.0</td>\n",
       "    </tr>\n",
       "    <tr>\n",
       "      <th>1</th>\n",
       "      <td>20171209</td>\n",
       "      <td>수원도매시장</td>\n",
       "      <td>수원청과</td>\n",
       "      <td>풋고추</td>\n",
       "      <td>롱그린</td>\n",
       "      <td>kg</td>\n",
       "      <td>.</td>\n",
       "      <td>.</td>\n",
       "      <td>특</td>\n",
       "      <td>경남 창녕군</td>\n",
       "      <td>10.0</td>\n",
       "      <td>4.0</td>\n",
       "      <td>16500.0</td>\n",
       "      <td>40.0</td>\n",
       "      <td>66000.0</td>\n",
       "    </tr>\n",
       "  </tbody>\n",
       "</table>\n",
       "</div>"
      ],
      "text/plain": [
       "   SALEDATE WHSAL_NM CMP_NM PUM_NM KIND_NM DAN_NM POJ_NM SIZE_NM LV_NM  \\\n",
       "0  20171209   수원도매시장   수원청과    풋고추     롱그린     kg      .       .     특   \n",
       "1  20171209   수원도매시장   수원청과    풋고추     롱그린     kg      .       .     특   \n",
       "\n",
       "   SAN_NM  DANQ  QTY     COST  TOT_QTY  TOT_AMT  \n",
       "0  경남 창녕군  10.0  4.0  16500.0     40.0  66000.0  \n",
       "1  경남 창녕군  10.0  4.0  16500.0     40.0  66000.0  "
      ]
     },
     "execution_count": 38,
     "metadata": {},
     "output_type": "execute_result"
    }
   ],
   "source": [
    "public_exp1.head(2)"
   ]
  },
  {
   "cell_type": "markdown",
   "metadata": {},
   "source": [
    "* SALEDATE: 경락 일자\n",
    "* WHSAL_NM: 도매시장\n",
    "* CMP_NM: 법인\n",
    "* PUM_NM: 품목\n",
    "* KIND_NM: 품종\n",
    "* DAN_NM: 단위\n",
    "* POJ_NM: 포장\n",
    "* SIZE_NM: 크기\n",
    "* LV_NM: 등급\n",
    "* SAN_NM: 산지\n",
    "* DANQ: 단위중량\n",
    "* QTY: 물량\n",
    "* COST: 단가\n",
    "* TOT_QTY: 총물량 (음수로 집계된 값은 거래 취소 내역)\n",
    "* TOT_AMT: 총금액"
   ]
  },
  {
   "cell_type": "code",
   "execution_count": null,
   "metadata": {},
   "outputs": [],
   "source": []
  },
  {
   "cell_type": "code",
   "execution_count": null,
   "metadata": {},
   "outputs": [],
   "source": []
  },
  {
   "cell_type": "code",
   "execution_count": null,
   "metadata": {},
   "outputs": [],
   "source": []
  }
 ],
 "metadata": {
  "kernelspec": {
   "display_name": "sp2109",
   "language": "python",
   "name": "sp2109"
  },
  "language_info": {
   "codemirror_mode": {
    "name": "ipython",
    "version": 3
   },
   "file_extension": ".py",
   "mimetype": "text/x-python",
   "name": "python",
   "nbconvert_exporter": "python",
   "pygments_lexer": "ipython3",
   "version": "3.6.3"
  }
 },
 "nbformat": 4,
 "nbformat_minor": 4
}
