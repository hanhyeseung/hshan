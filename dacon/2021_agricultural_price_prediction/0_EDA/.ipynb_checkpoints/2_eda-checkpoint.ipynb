{
 "cells": [
  {
   "cell_type": "code",
   "execution_count": 4,
   "metadata": {},
   "outputs": [],
   "source": [
    "import pandas as pd\n",
    "import numpy as np\n",
    "import pickle\n",
    "import time\n",
    "\n",
    "from datetime import date, timedelta\n",
    "\n",
    "import seaborn as sns\n",
    "import matplotlib.pyplot as plt\n",
    "%matplotlib inline\n",
    "plt.rcParams[\"font.family\"] = 'NanumGothic'\n",
    "plt.rcParams['axes.unicode_minus'] = False\n",
    "plt.rcParams.update({'font.size': 25})\n",
    "plt.rcParams['xtick.labelsize']=15\n",
    "plt.rcParams['ytick.labelsize']=15"
   ]
  },
  {
   "cell_type": "markdown",
   "metadata": {},
   "source": [
    "* 예측해야하는 농산물 종류"
   ]
  },
  {
   "cell_type": "code",
   "execution_count": 9,
   "metadata": {},
   "outputs": [],
   "source": [
    "output_list = ['배추',\n",
    " '무',\n",
    " '양파',\n",
    " '건고추',\n",
    " '마늘',\n",
    " '대파',\n",
    " '얼갈이배추',\n",
    " '양배추',\n",
    " '깻잎',\n",
    " '시금치',\n",
    " '미나리',\n",
    " '당근',\n",
    " '파프리카',\n",
    " '새송이',\n",
    " '팽이버섯',\n",
    " '토마토',\n",
    " '청상추',\n",
    " '백다다기',\n",
    " '애호박',\n",
    " '캠벨얼리',\n",
    " '샤인마스캇']"
   ]
  },
  {
   "cell_type": "code",
   "execution_count": 11,
   "metadata": {},
   "outputs": [
    {
     "data": {
      "text/plain": [
       "21"
      ]
     },
     "execution_count": 11,
     "metadata": {},
     "output_type": "execute_result"
    }
   ],
   "source": [
    "len(output_list)"
   ]
  },
  {
   "cell_type": "code",
   "execution_count": 5,
   "metadata": {},
   "outputs": [],
   "source": [
    "data1 = pd.read_pickle('/home/hshan/00_individual/SP2109/pp_data/public_train_data.pkl')"
   ]
  },
  {
   "cell_type": "code",
   "execution_count": 17,
   "metadata": {},
   "outputs": [
    {
     "data": {
      "text/html": [
       "<div>\n",
       "<style scoped>\n",
       "    .dataframe tbody tr th:only-of-type {\n",
       "        vertical-align: middle;\n",
       "    }\n",
       "\n",
       "    .dataframe tbody tr th {\n",
       "        vertical-align: top;\n",
       "    }\n",
       "\n",
       "    .dataframe thead th {\n",
       "        text-align: right;\n",
       "    }\n",
       "</style>\n",
       "<table border=\"1\" class=\"dataframe\">\n",
       "  <thead>\n",
       "    <tr style=\"text-align: right;\">\n",
       "      <th></th>\n",
       "      <th>SALEDATE</th>\n",
       "      <th>WHSAL_NM</th>\n",
       "      <th>CMP_NM</th>\n",
       "      <th>PUM_NM</th>\n",
       "      <th>KIND_NM</th>\n",
       "      <th>DAN_NM</th>\n",
       "      <th>POJ_NM</th>\n",
       "      <th>SIZE_NM</th>\n",
       "      <th>LV_NM</th>\n",
       "      <th>SAN_NM</th>\n",
       "      <th>DANQ</th>\n",
       "      <th>QTY</th>\n",
       "      <th>COST</th>\n",
       "      <th>TOT_QTY</th>\n",
       "      <th>TOT_AMT</th>\n",
       "    </tr>\n",
       "  </thead>\n",
       "  <tbody>\n",
       "  </tbody>\n",
       "</table>\n",
       "</div>"
      ],
      "text/plain": [
       "Empty DataFrame\n",
       "Columns: [SALEDATE, WHSAL_NM, CMP_NM, PUM_NM, KIND_NM, DAN_NM, POJ_NM, SIZE_NM, LV_NM, SAN_NM, DANQ, QTY, COST, TOT_QTY, TOT_AMT]\n",
       "Index: []"
      ]
     },
     "execution_count": 17,
     "metadata": {},
     "output_type": "execute_result"
    }
   ],
   "source": [
    "data1[data1['PUM_NM'] == '샤인마스캇']"
   ]
  },
  {
   "cell_type": "code",
   "execution_count": 8,
   "metadata": {},
   "outputs": [
    {
     "data": {
      "text/plain": [
       "array(['감귤', '만감', '사과', '방울토마토', '딸기', '단감', '포도', '자몽', '바나나', '팽이버섯',\n",
       "       '새송이', '절임식품', '양송이', '느타리버섯', '고사리', '기타', '파프리카', '도라지', '참나물',\n",
       "       '표고버섯', '조미제품', '마늘', '풋고추', '대파', '무', '냉이', '고구마', '감자', '가지',\n",
       "       '오이', '호박', '파인애플', '참다래(키위)', '곶감', '쪽파', '깻잎', '쑥갓', '미나리', '근대',\n",
       "       '부추', '아욱', '고구마순', '달래', '시금치', '콩나물', '상추', '꽈리고추', '건고추', '홍고추',\n",
       "       '생강', '양상추', '브로코리(녹색꽃양배추)', '파세리(향미나리)', '방울양배추(스프로스)', '당근',\n",
       "       '연근', '양파', '머위대', '우엉대', '무청', '쌈추', '알타리무', '취나물', '마', '미역',\n",
       "       '토마토', '블루베리', '체리', '석류', '대추', '열무', '배추', '동초', '토란대', '메론',\n",
       "       '금감', '유자', '오렌지', '양배추', '봄동배추', '얼갈이배추', '우엉', '갓', '무순', '청경채',\n",
       "       '고수', '은행', '밤', '레몬', '떫은감', '배', '새싹', '유채', '다시마', '울금', '참당귀',\n",
       "       '만가닥', '치커리', '피망(단고추)', '겨자', '식용허브', '로메인', '케일', '셀러리(양미나리)',\n",
       "       '비트(붉은사탕무우)', '비타민', '레드쉬', '아스파라가스', '콜라비(순무양배추)', '파래', '우뭇가사리',\n",
       "       '조미가공', '꼬시래기', '시레기', '숙주나물', '수박', '쑥', '토란', '보리순', '고추잎', '꿀벌',\n",
       "       '멸치', '어묵_어분_어비', '적채', '가랏', '곡물제조', '전분 및 사료제조', '기타식품', '유지',\n",
       "       '참깨', '아보카도', '망고', '옥수수', '강낭콩', '금강초', '보리', '야콘', '야생화', '겨자채',\n",
       "       '순무', '돗나물', '칼리플라워(꽃양배추)', '더덕', '수삼', '땅콩', '춘채', '곤드레나물', '고비',\n",
       "       '콩', '빈스', '차', '돌나물', '호두', '민들레', '애느타리버섯', '방아', '솔잎', '방풍나물',\n",
       "       '신선초', '양하', '초석잠', '씀바귀', '모과', '알로애', '실파', '오크라', '허브', '비름',\n",
       "       '말', '선인장열매', '알파파싹', '동부', '김', '고들빼기', '완두', '속새', '과루인(하늘타리)',\n",
       "       '목이', '모자반', '구약', '고추씨', '들깨', '두릅', '겨자잎', '삼채', '메밀순', '통조림',\n",
       "       '�', '곤달비', '질경이', '조란', '다래', '피망잎', '독활', '코코넛', '듀리안', '팥',\n",
       "       '녹두', '수수', '노루궁뎅이버섯', '묵나물', '근괴류', '체리모야', '크레송(고추무냉이)', '용과',\n",
       "       '파파야', '여주', '홍화씨', '복숭아', '메밀', '인삼', '감초', '미안마', '방풍', '삼엽채',\n",
       "       '동충하초', '호박씨', '무종자', '황기', '계피', '젓갈', '원추리', '가죽나물', '참외',\n",
       "       '해바라기씨', '옻', '상황버섯', '영지버섯', '패션푸룻', '해바라기', '아몬드', None, '잣',\n",
       "       '아스파라거스', '호박잎', '건제품', '피마자잎', '국화(기타)', '가지나무순', '산마늘', '박',\n",
       "       '헛개나무', '모시대', '망고스턴', '알로에', '참죽나무순', '천궁', '도토리', '백삼', '죽순',\n",
       "       '아보케이트', '야자', '석이', '엉게나물', '오가피', '찹쌀', '음나무순', '복분자', '선인장',\n",
       "       '모시', '살구', '매실', '교나', '차류', '콩잎', '자두', '오디', '컴프리', '종자', '함초',\n",
       "       '보리수', '버찌', '청각', '모시잎', '자연산송이', '앵두', '사보래(사보이양배추)', '대파(일반)',\n",
       "       '람부탄', '아로니아', '상자', '아카시아버섯', '무화과', '수세미', '아마종자', '머루', '상�',\n",
       "       '오미자', '수엽류', '삼지구엽초', '능이버섯', '싸리버섯', '탱자', '익모초', '갈래곰보', '율무',\n",
       "       '강황', '골드', '조', '기장', '구기자', '아주까리', '피마자', '현미', '귀리', '블랙베리',\n",
       "       '눈개승마', '루꼴라', '플럼코트', '쌀', '1100.0', '분재류', '떫은�', '리치',\n",
       "       '20500.0', '결명자', '13000.0', '146000.0', '담배', '고추냉이', '하수오', '갈근',\n",
       "       '파종자', '어린잎', '탄제린', '사삼'], dtype=object)"
      ]
     },
     "execution_count": 8,
     "metadata": {},
     "output_type": "execute_result"
    }
   ],
   "source": [
    "data1['PUM_NM'].unique()"
   ]
  },
  {
   "cell_type": "code",
   "execution_count": 15,
   "metadata": {},
   "outputs": [
    {
     "data": {
      "text/plain": [
       "array(['팽이버섯', '새송이', '파프리카', '마늘', '대파', '무', '깻잎', '미나리', '시금치', '건고추',\n",
       "       '당근', '양파', '토마토', '배추', '양배추', '얼갈이배추'], dtype=object)"
      ]
     },
     "execution_count": 15,
     "metadata": {},
     "output_type": "execute_result"
    }
   ],
   "source": [
    "data1[data1['PUM_NM'].isin(output_list)].PUM_NM.unique()"
   ]
  },
  {
   "cell_type": "code",
   "execution_count": 16,
   "metadata": {},
   "outputs": [
    {
     "data": {
      "text/plain": [
       "['샤인마스캇', '캠벨얼리', '애호박', '청상추', '백다다기']"
      ]
     },
     "execution_count": 16,
     "metadata": {},
     "output_type": "execute_result"
    }
   ],
   "source": [
    "list(set(output_list) - set(data1[data1['PUM_NM'].isin(output_list)].PUM_NM.unique()))"
   ]
  },
  {
   "cell_type": "markdown",
   "metadata": {},
   "source": [
    "* 데이터 날짜 형식 변경"
   ]
  },
  {
   "cell_type": "code",
   "execution_count": 29,
   "metadata": {},
   "outputs": [],
   "source": [
    "data2 = data1.copy()\n",
    "data2['SALEDATE'] = pd.to_datetime(data2['SALEDATE'], format='%Y%m%d')"
   ]
  },
  {
   "cell_type": "code",
   "execution_count": 45,
   "metadata": {},
   "outputs": [],
   "source": [
    "data2['year'] = data2['SALEDATE'].dt.year\n",
    "data2['month'] = data2['SALEDATE'].dt.month\n",
    "data2['week'] = data2['SALEDATE'].dt.weekday"
   ]
  },
  {
   "cell_type": "code",
   "execution_count": 46,
   "metadata": {
    "scrolled": true
   },
   "outputs": [
    {
     "data": {
      "text/html": [
       "<div>\n",
       "<style scoped>\n",
       "    .dataframe tbody tr th:only-of-type {\n",
       "        vertical-align: middle;\n",
       "    }\n",
       "\n",
       "    .dataframe tbody tr th {\n",
       "        vertical-align: top;\n",
       "    }\n",
       "\n",
       "    .dataframe thead th {\n",
       "        text-align: right;\n",
       "    }\n",
       "</style>\n",
       "<table border=\"1\" class=\"dataframe\">\n",
       "  <thead>\n",
       "    <tr style=\"text-align: right;\">\n",
       "      <th></th>\n",
       "      <th>SALEDATE</th>\n",
       "      <th>WHSAL_NM</th>\n",
       "      <th>CMP_NM</th>\n",
       "      <th>PUM_NM</th>\n",
       "      <th>KIND_NM</th>\n",
       "      <th>DAN_NM</th>\n",
       "      <th>POJ_NM</th>\n",
       "      <th>SIZE_NM</th>\n",
       "      <th>LV_NM</th>\n",
       "      <th>SAN_NM</th>\n",
       "      <th>DANQ</th>\n",
       "      <th>QTY</th>\n",
       "      <th>COST</th>\n",
       "      <th>TOT_QTY</th>\n",
       "      <th>TOT_AMT</th>\n",
       "      <th>month</th>\n",
       "      <th>year</th>\n",
       "      <th>week</th>\n",
       "    </tr>\n",
       "  </thead>\n",
       "  <tbody>\n",
       "    <tr>\n",
       "      <th>567368</th>\n",
       "      <td>2016-01-01</td>\n",
       "      <td>충주도매시장</td>\n",
       "      <td>중원청과</td>\n",
       "      <td>감귤</td>\n",
       "      <td>조생귤</td>\n",
       "      <td>kg</td>\n",
       "      <td>상자</td>\n",
       "      <td>.</td>\n",
       "      <td>상</td>\n",
       "      <td>제주 서귀포시</td>\n",
       "      <td>10.0</td>\n",
       "      <td>58.0</td>\n",
       "      <td>11000.0</td>\n",
       "      <td>580.0</td>\n",
       "      <td>638000.0</td>\n",
       "      <td>1</td>\n",
       "      <td>2016</td>\n",
       "      <td>4</td>\n",
       "    </tr>\n",
       "    <tr>\n",
       "      <th>567348</th>\n",
       "      <td>2016-01-01</td>\n",
       "      <td>충주도매시장</td>\n",
       "      <td>중원청과</td>\n",
       "      <td>감귤</td>\n",
       "      <td>조생귤</td>\n",
       "      <td>kg</td>\n",
       "      <td>상자</td>\n",
       "      <td>.</td>\n",
       "      <td>상</td>\n",
       "      <td>제주 남제주군</td>\n",
       "      <td>5.0</td>\n",
       "      <td>26.0</td>\n",
       "      <td>4000.0</td>\n",
       "      <td>130.0</td>\n",
       "      <td>104000.0</td>\n",
       "      <td>1</td>\n",
       "      <td>2016</td>\n",
       "      <td>4</td>\n",
       "    </tr>\n",
       "  </tbody>\n",
       "</table>\n",
       "</div>"
      ],
      "text/plain": [
       "         SALEDATE WHSAL_NM CMP_NM PUM_NM KIND_NM DAN_NM POJ_NM SIZE_NM LV_NM  \\\n",
       "567368 2016-01-01   충주도매시장   중원청과     감귤     조생귤     kg     상자       .     상   \n",
       "567348 2016-01-01   충주도매시장   중원청과     감귤     조생귤     kg     상자       .     상   \n",
       "\n",
       "         SAN_NM  DANQ   QTY     COST  TOT_QTY   TOT_AMT  month  year  week  \n",
       "567368  제주 서귀포시  10.0  58.0  11000.0    580.0  638000.0      1  2016     4  \n",
       "567348  제주 남제주군   5.0  26.0   4000.0    130.0  104000.0      1  2016     4  "
      ]
     },
     "execution_count": 46,
     "metadata": {},
     "output_type": "execute_result"
    }
   ],
   "source": [
    "data2.head(2)"
   ]
  },
  {
   "cell_type": "code",
   "execution_count": null,
   "metadata": {},
   "outputs": [],
   "source": []
  },
  {
   "cell_type": "code",
   "execution_count": 35,
   "metadata": {},
   "outputs": [
    {
     "data": {
      "text/html": [
       "<div>\n",
       "<style scoped>\n",
       "    .dataframe tbody tr th:only-of-type {\n",
       "        vertical-align: middle;\n",
       "    }\n",
       "\n",
       "    .dataframe tbody tr th {\n",
       "        vertical-align: top;\n",
       "    }\n",
       "\n",
       "    .dataframe thead th {\n",
       "        text-align: right;\n",
       "    }\n",
       "</style>\n",
       "<table border=\"1\" class=\"dataframe\">\n",
       "  <thead>\n",
       "    <tr style=\"text-align: right;\">\n",
       "      <th></th>\n",
       "      <th>DANQ</th>\n",
       "      <th>QTY</th>\n",
       "      <th>COST</th>\n",
       "      <th>TOT_QTY</th>\n",
       "      <th>TOT_AMT</th>\n",
       "      <th>month</th>\n",
       "      <th>year</th>\n",
       "    </tr>\n",
       "  </thead>\n",
       "  <tbody>\n",
       "    <tr>\n",
       "      <th>DANQ</th>\n",
       "      <td>1.000000</td>\n",
       "      <td>-0.002779</td>\n",
       "      <td>0.422095</td>\n",
       "      <td>0.071311</td>\n",
       "      <td>0.037580</td>\n",
       "      <td>0.005898</td>\n",
       "      <td>-0.000873</td>\n",
       "    </tr>\n",
       "    <tr>\n",
       "      <th>QTY</th>\n",
       "      <td>-0.002779</td>\n",
       "      <td>1.000000</td>\n",
       "      <td>-0.025375</td>\n",
       "      <td>0.426899</td>\n",
       "      <td>0.469677</td>\n",
       "      <td>-0.006264</td>\n",
       "      <td>0.000224</td>\n",
       "    </tr>\n",
       "    <tr>\n",
       "      <th>COST</th>\n",
       "      <td>0.422095</td>\n",
       "      <td>-0.025375</td>\n",
       "      <td>1.000000</td>\n",
       "      <td>0.055150</td>\n",
       "      <td>0.091047</td>\n",
       "      <td>-0.006049</td>\n",
       "      <td>0.003175</td>\n",
       "    </tr>\n",
       "    <tr>\n",
       "      <th>TOT_QTY</th>\n",
       "      <td>0.071311</td>\n",
       "      <td>0.426899</td>\n",
       "      <td>0.055150</td>\n",
       "      <td>1.000000</td>\n",
       "      <td>0.701879</td>\n",
       "      <td>-0.002190</td>\n",
       "      <td>-0.004927</td>\n",
       "    </tr>\n",
       "    <tr>\n",
       "      <th>TOT_AMT</th>\n",
       "      <td>0.037580</td>\n",
       "      <td>0.469677</td>\n",
       "      <td>0.091047</td>\n",
       "      <td>0.701879</td>\n",
       "      <td>1.000000</td>\n",
       "      <td>-0.026209</td>\n",
       "      <td>-0.004187</td>\n",
       "    </tr>\n",
       "    <tr>\n",
       "      <th>month</th>\n",
       "      <td>0.005898</td>\n",
       "      <td>-0.006264</td>\n",
       "      <td>-0.006049</td>\n",
       "      <td>-0.002190</td>\n",
       "      <td>-0.026209</td>\n",
       "      <td>1.000000</td>\n",
       "      <td>-0.094393</td>\n",
       "    </tr>\n",
       "    <tr>\n",
       "      <th>year</th>\n",
       "      <td>-0.000873</td>\n",
       "      <td>0.000224</td>\n",
       "      <td>0.003175</td>\n",
       "      <td>-0.004927</td>\n",
       "      <td>-0.004187</td>\n",
       "      <td>-0.094393</td>\n",
       "      <td>1.000000</td>\n",
       "    </tr>\n",
       "  </tbody>\n",
       "</table>\n",
       "</div>"
      ],
      "text/plain": [
       "             DANQ       QTY      COST   TOT_QTY   TOT_AMT     month      year\n",
       "DANQ     1.000000 -0.002779  0.422095  0.071311  0.037580  0.005898 -0.000873\n",
       "QTY     -0.002779  1.000000 -0.025375  0.426899  0.469677 -0.006264  0.000224\n",
       "COST     0.422095 -0.025375  1.000000  0.055150  0.091047 -0.006049  0.003175\n",
       "TOT_QTY  0.071311  0.426899  0.055150  1.000000  0.701879 -0.002190 -0.004927\n",
       "TOT_AMT  0.037580  0.469677  0.091047  0.701879  1.000000 -0.026209 -0.004187\n",
       "month    0.005898 -0.006264 -0.006049 -0.002190 -0.026209  1.000000 -0.094393\n",
       "year    -0.000873  0.000224  0.003175 -0.004927 -0.004187 -0.094393  1.000000"
      ]
     },
     "execution_count": 35,
     "metadata": {},
     "output_type": "execute_result"
    }
   ],
   "source": [
    "data2.corr()"
   ]
  },
  {
   "cell_type": "code",
   "execution_count": 44,
   "metadata": {},
   "outputs": [
    {
     "data": {
      "image/png": "[encoded data removed]",
      "text/plain": [
       "<Figure size 432x288 with 1 Axes>"
      ]
     },
     "metadata": {
      "needs_background": "light"
     },
     "output_type": "display_data"
    }
   ],
   "source": [
    "for pum_name in output_list[:1]:\n",
    "    temp1 = data2[data2['PUM_NM'] == pum_name]\n",
    "#     plt.scatter(x=temp1['month'], y=temp1['COST'])\n",
    "    temp1 = temp1.sort_values('SALEDATE')\n",
    "    temp1\n",
    "    "
   ]
  },
  {
   "cell_type": "code",
   "execution_count": null,
   "metadata": {},
   "outputs": [],
   "source": []
  },
  {
   "cell_type": "markdown",
   "metadata": {},
   "source": [
    "## 그래프 그려보기"
   ]
  },
  {
   "cell_type": "code",
   "execution_count": 47,
   "metadata": {},
   "outputs": [],
   "source": [
    "data2 = data1[data1['PUM_NM'] == output_list[0]]"
   ]
  },
  {
   "cell_type": "code",
   "execution_count": 48,
   "metadata": {},
   "outputs": [],
   "source": [
    "data3 = data2.copy()\n",
    "data3['SALEDATE'] = pd.to_datetime(data3['SALEDATE'], format='%Y%m%d')\n",
    "\n",
    "data3['year'] = data3['SALEDATE'].dt.year\n",
    "data3['month'] = data3['SALEDATE'].dt.month\n",
    "data3['day'] = data3['SALEDATE'].dt.day\n",
    "data3['week'] = data3['SALEDATE'].dt.weekday"
   ]
  },
  {
   "cell_type": "code",
   "execution_count": 49,
   "metadata": {},
   "outputs": [
    {
     "data": {
      "text/plain": [
       "array([ 2,  4,  5,  6,  7,  8,  9,  1,  3, 10])"
      ]
     },
     "execution_count": 49,
     "metadata": {},
     "output_type": "execute_result"
    }
   ],
   "source": [
    "data3['SALEDATE'].dt.day.unique()"
   ]
  },
  {
   "cell_type": "code",
   "execution_count": 50,
   "metadata": {},
   "outputs": [
    {
     "data": {
      "text/plain": [
       "array([ 1,  2,  3,  4,  5,  6,  7,  8,  9, 10, 11, 12])"
      ]
     },
     "execution_count": 50,
     "metadata": {},
     "output_type": "execute_result"
    }
   ],
   "source": [
    "data3['SALEDATE'].dt.month.unique()"
   ]
  },
  {
   "cell_type": "code",
   "execution_count": 51,
   "metadata": {},
   "outputs": [
    {
     "data": {
      "text/html": [
       "<div>\n",
       "<style scoped>\n",
       "    .dataframe tbody tr th:only-of-type {\n",
       "        vertical-align: middle;\n",
       "    }\n",
       "\n",
       "    .dataframe tbody tr th {\n",
       "        vertical-align: top;\n",
       "    }\n",
       "\n",
       "    .dataframe thead th {\n",
       "        text-align: right;\n",
       "    }\n",
       "</style>\n",
       "<table border=\"1\" class=\"dataframe\">\n",
       "  <thead>\n",
       "    <tr style=\"text-align: right;\">\n",
       "      <th></th>\n",
       "      <th>SALEDATE</th>\n",
       "      <th>WHSAL_NM</th>\n",
       "      <th>CMP_NM</th>\n",
       "      <th>PUM_NM</th>\n",
       "      <th>KIND_NM</th>\n",
       "      <th>DAN_NM</th>\n",
       "      <th>POJ_NM</th>\n",
       "      <th>SIZE_NM</th>\n",
       "      <th>LV_NM</th>\n",
       "      <th>SAN_NM</th>\n",
       "      <th>DANQ</th>\n",
       "      <th>QTY</th>\n",
       "      <th>COST</th>\n",
       "      <th>TOT_QTY</th>\n",
       "      <th>TOT_AMT</th>\n",
       "      <th>year</th>\n",
       "      <th>month</th>\n",
       "      <th>day</th>\n",
       "      <th>week</th>\n",
       "    </tr>\n",
       "  </thead>\n",
       "  <tbody>\n",
       "    <tr>\n",
       "      <th>574693</th>\n",
       "      <td>2016-01-02</td>\n",
       "      <td>울산도매시장</td>\n",
       "      <td>울산원협(공)</td>\n",
       "      <td>배추</td>\n",
       "      <td>쌈배추</td>\n",
       "      <td>kg</td>\n",
       "      <td>상자</td>\n",
       "      <td>.</td>\n",
       "      <td>상</td>\n",
       "      <td>경북 영덕군</td>\n",
       "      <td>10.0</td>\n",
       "      <td>25.0</td>\n",
       "      <td>4000.0</td>\n",
       "      <td>250.0</td>\n",
       "      <td>100000.0</td>\n",
       "      <td>2016</td>\n",
       "      <td>1</td>\n",
       "      <td>2</td>\n",
       "      <td>5</td>\n",
       "    </tr>\n",
       "    <tr>\n",
       "      <th>574692</th>\n",
       "      <td>2016-01-02</td>\n",
       "      <td>울산도매시장</td>\n",
       "      <td>울산원협(공)</td>\n",
       "      <td>배추</td>\n",
       "      <td>쌈배추</td>\n",
       "      <td>kg</td>\n",
       "      <td>상자</td>\n",
       "      <td>.</td>\n",
       "      <td>상</td>\n",
       "      <td>경북 영덕군</td>\n",
       "      <td>10.0</td>\n",
       "      <td>25.0</td>\n",
       "      <td>4000.0</td>\n",
       "      <td>250.0</td>\n",
       "      <td>100000.0</td>\n",
       "      <td>2016</td>\n",
       "      <td>1</td>\n",
       "      <td>2</td>\n",
       "      <td>5</td>\n",
       "    </tr>\n",
       "    <tr>\n",
       "      <th>574691</th>\n",
       "      <td>2016-01-02</td>\n",
       "      <td>울산도매시장</td>\n",
       "      <td>울산원협(공)</td>\n",
       "      <td>배추</td>\n",
       "      <td>쌈배추</td>\n",
       "      <td>kg</td>\n",
       "      <td>상자</td>\n",
       "      <td>.</td>\n",
       "      <td>상</td>\n",
       "      <td>경북 영덕군</td>\n",
       "      <td>10.0</td>\n",
       "      <td>20.0</td>\n",
       "      <td>4000.0</td>\n",
       "      <td>200.0</td>\n",
       "      <td>80000.0</td>\n",
       "      <td>2016</td>\n",
       "      <td>1</td>\n",
       "      <td>2</td>\n",
       "      <td>5</td>\n",
       "    </tr>\n",
       "    <tr>\n",
       "      <th>574690</th>\n",
       "      <td>2016-01-02</td>\n",
       "      <td>울산도매시장</td>\n",
       "      <td>울산원협(공)</td>\n",
       "      <td>배추</td>\n",
       "      <td>월동배추</td>\n",
       "      <td>kg</td>\n",
       "      <td>봉지</td>\n",
       "      <td>.</td>\n",
       "      <td>5등</td>\n",
       "      <td>울산광역시</td>\n",
       "      <td>15.0</td>\n",
       "      <td>5.0</td>\n",
       "      <td>2600.0</td>\n",
       "      <td>75.0</td>\n",
       "      <td>13000.0</td>\n",
       "      <td>2016</td>\n",
       "      <td>1</td>\n",
       "      <td>2</td>\n",
       "      <td>5</td>\n",
       "    </tr>\n",
       "    <tr>\n",
       "      <th>574688</th>\n",
       "      <td>2016-01-02</td>\n",
       "      <td>울산도매시장</td>\n",
       "      <td>울산원협(공)</td>\n",
       "      <td>배추</td>\n",
       "      <td>월동배추</td>\n",
       "      <td>kg</td>\n",
       "      <td>봉지</td>\n",
       "      <td>.</td>\n",
       "      <td>보통</td>\n",
       "      <td>울산광역시</td>\n",
       "      <td>15.0</td>\n",
       "      <td>13.0</td>\n",
       "      <td>4300.0</td>\n",
       "      <td>195.0</td>\n",
       "      <td>55900.0</td>\n",
       "      <td>2016</td>\n",
       "      <td>1</td>\n",
       "      <td>2</td>\n",
       "      <td>5</td>\n",
       "    </tr>\n",
       "    <tr>\n",
       "      <th>...</th>\n",
       "      <td>...</td>\n",
       "      <td>...</td>\n",
       "      <td>...</td>\n",
       "      <td>...</td>\n",
       "      <td>...</td>\n",
       "      <td>...</td>\n",
       "      <td>...</td>\n",
       "      <td>...</td>\n",
       "      <td>...</td>\n",
       "      <td>...</td>\n",
       "      <td>...</td>\n",
       "      <td>...</td>\n",
       "      <td>...</td>\n",
       "      <td>...</td>\n",
       "      <td>...</td>\n",
       "      <td>...</td>\n",
       "      <td>...</td>\n",
       "      <td>...</td>\n",
       "      <td>...</td>\n",
       "    </tr>\n",
       "    <tr>\n",
       "      <th>22266</th>\n",
       "      <td>2019-06-10</td>\n",
       "      <td>부산반여도매</td>\n",
       "      <td>동부청과</td>\n",
       "      <td>배추</td>\n",
       "      <td>여름배추</td>\n",
       "      <td>kg</td>\n",
       "      <td>상자</td>\n",
       "      <td>.</td>\n",
       "      <td>상</td>\n",
       "      <td>강원도</td>\n",
       "      <td>9.0</td>\n",
       "      <td>30.0</td>\n",
       "      <td>8600.0</td>\n",
       "      <td>270.0</td>\n",
       "      <td>258000.0</td>\n",
       "      <td>2019</td>\n",
       "      <td>6</td>\n",
       "      <td>10</td>\n",
       "      <td>0</td>\n",
       "    </tr>\n",
       "    <tr>\n",
       "      <th>22265</th>\n",
       "      <td>2019-06-10</td>\n",
       "      <td>부산반여도매</td>\n",
       "      <td>동부청과</td>\n",
       "      <td>배추</td>\n",
       "      <td>여름배추</td>\n",
       "      <td>kg</td>\n",
       "      <td>상자</td>\n",
       "      <td>.</td>\n",
       "      <td>상</td>\n",
       "      <td>강원도</td>\n",
       "      <td>9.0</td>\n",
       "      <td>30.0</td>\n",
       "      <td>8200.0</td>\n",
       "      <td>270.0</td>\n",
       "      <td>246000.0</td>\n",
       "      <td>2019</td>\n",
       "      <td>6</td>\n",
       "      <td>10</td>\n",
       "      <td>0</td>\n",
       "    </tr>\n",
       "    <tr>\n",
       "      <th>22264</th>\n",
       "      <td>2019-06-10</td>\n",
       "      <td>부산반여도매</td>\n",
       "      <td>동부청과</td>\n",
       "      <td>배추</td>\n",
       "      <td>여름배추</td>\n",
       "      <td>kg</td>\n",
       "      <td>상자</td>\n",
       "      <td>.</td>\n",
       "      <td>상</td>\n",
       "      <td>강원도</td>\n",
       "      <td>9.0</td>\n",
       "      <td>30.0</td>\n",
       "      <td>8200.0</td>\n",
       "      <td>270.0</td>\n",
       "      <td>246000.0</td>\n",
       "      <td>2019</td>\n",
       "      <td>6</td>\n",
       "      <td>10</td>\n",
       "      <td>0</td>\n",
       "    </tr>\n",
       "    <tr>\n",
       "      <th>22302</th>\n",
       "      <td>2019-06-10</td>\n",
       "      <td>부산반여도매</td>\n",
       "      <td>동부청과</td>\n",
       "      <td>배추</td>\n",
       "      <td>기타배추</td>\n",
       "      <td>kg</td>\n",
       "      <td>상자</td>\n",
       "      <td>.</td>\n",
       "      <td>상</td>\n",
       "      <td>경남 의령군</td>\n",
       "      <td>8.0</td>\n",
       "      <td>60.0</td>\n",
       "      <td>3600.0</td>\n",
       "      <td>480.0</td>\n",
       "      <td>216000.0</td>\n",
       "      <td>2019</td>\n",
       "      <td>6</td>\n",
       "      <td>10</td>\n",
       "      <td>0</td>\n",
       "    </tr>\n",
       "    <tr>\n",
       "      <th>22303</th>\n",
       "      <td>2019-06-10</td>\n",
       "      <td>부산반여도매</td>\n",
       "      <td>동부청과</td>\n",
       "      <td>배추</td>\n",
       "      <td>기타배추</td>\n",
       "      <td>kg</td>\n",
       "      <td>상자</td>\n",
       "      <td>.</td>\n",
       "      <td>상</td>\n",
       "      <td>경남 의령군</td>\n",
       "      <td>8.0</td>\n",
       "      <td>40.0</td>\n",
       "      <td>3500.0</td>\n",
       "      <td>320.0</td>\n",
       "      <td>140000.0</td>\n",
       "      <td>2019</td>\n",
       "      <td>6</td>\n",
       "      <td>10</td>\n",
       "      <td>0</td>\n",
       "    </tr>\n",
       "  </tbody>\n",
       "</table>\n",
       "<p>102834 rows × 19 columns</p>\n",
       "</div>"
      ],
      "text/plain": [
       "         SALEDATE WHSAL_NM   CMP_NM PUM_NM KIND_NM DAN_NM POJ_NM SIZE_NM  \\\n",
       "574693 2016-01-02   울산도매시장  울산원협(공)     배추     쌈배추     kg     상자       .   \n",
       "574692 2016-01-02   울산도매시장  울산원협(공)     배추     쌈배추     kg     상자       .   \n",
       "574691 2016-01-02   울산도매시장  울산원협(공)     배추     쌈배추     kg     상자       .   \n",
       "574690 2016-01-02   울산도매시장  울산원협(공)     배추    월동배추     kg     봉지       .   \n",
       "574688 2016-01-02   울산도매시장  울산원협(공)     배추    월동배추     kg     봉지       .   \n",
       "...           ...      ...      ...    ...     ...    ...    ...     ...   \n",
       "22266  2019-06-10   부산반여도매     동부청과     배추    여름배추     kg     상자       .   \n",
       "22265  2019-06-10   부산반여도매     동부청과     배추    여름배추     kg     상자       .   \n",
       "22264  2019-06-10   부산반여도매     동부청과     배추    여름배추     kg     상자       .   \n",
       "22302  2019-06-10   부산반여도매     동부청과     배추    기타배추     kg     상자       .   \n",
       "22303  2019-06-10   부산반여도매     동부청과     배추    기타배추     kg     상자       .   \n",
       "\n",
       "       LV_NM  SAN_NM  DANQ   QTY    COST  TOT_QTY   TOT_AMT  year  month  day  \\\n",
       "574693     상  경북 영덕군  10.0  25.0  4000.0    250.0  100000.0  2016      1    2   \n",
       "574692     상  경북 영덕군  10.0  25.0  4000.0    250.0  100000.0  2016      1    2   \n",
       "574691     상  경북 영덕군  10.0  20.0  4000.0    200.0   80000.0  2016      1    2   \n",
       "574690    5등   울산광역시  15.0   5.0  2600.0     75.0   13000.0  2016      1    2   \n",
       "574688    보통   울산광역시  15.0  13.0  4300.0    195.0   55900.0  2016      1    2   \n",
       "...      ...     ...   ...   ...     ...      ...       ...   ...    ...  ...   \n",
       "22266      상     강원도   9.0  30.0  8600.0    270.0  258000.0  2019      6   10   \n",
       "22265      상     강원도   9.0  30.0  8200.0    270.0  246000.0  2019      6   10   \n",
       "22264      상     강원도   9.0  30.0  8200.0    270.0  246000.0  2019      6   10   \n",
       "22302      상  경남 의령군   8.0  60.0  3600.0    480.0  216000.0  2019      6   10   \n",
       "22303      상  경남 의령군   8.0  40.0  3500.0    320.0  140000.0  2019      6   10   \n",
       "\n",
       "        week  \n",
       "574693     5  \n",
       "574692     5  \n",
       "574691     5  \n",
       "574690     5  \n",
       "574688     5  \n",
       "...      ...  \n",
       "22266      0  \n",
       "22265      0  \n",
       "22264      0  \n",
       "22302      0  \n",
       "22303      0  \n",
       "\n",
       "[102834 rows x 19 columns]"
      ]
     },
     "execution_count": 51,
     "metadata": {},
     "output_type": "execute_result"
    }
   ],
   "source": [
    "data3"
   ]
  },
  {
   "cell_type": "code",
   "execution_count": 52,
   "metadata": {},
   "outputs": [
    {
     "data": {
      "text/plain": [
       "<AxesSubplot:>"
      ]
     },
     "execution_count": 52,
     "metadata": {},
     "output_type": "execute_result"
    },
    {
     "data": {
      "image/png": "[encoded data removed]",
      "text/plain": [
       "<Figure size 432x288 with 1 Axes>"
      ]
     },
     "metadata": {
      "needs_background": "light"
     },
     "output_type": "display_data"
    }
   ],
   "source": [
    "data3[(data3['year'] == 2016)&(data3['month'] == 3)&(data3['day'] == 5)]['COST'].plot(kind='bar')"
   ]
  },
  {
   "cell_type": "code",
   "execution_count": 53,
   "metadata": {},
   "outputs": [
    {
     "data": {
      "text/plain": [
       "[(0.0, 30000.0)]"
      ]
     },
     "execution_count": 53,
     "metadata": {},
     "output_type": "execute_result"
    },
    {
     "data": {
      "image/png": "[encoded data removed]",
      "text/plain": [
       "<Figure size 432x288 with 1 Axes>"
      ]
     },
     "metadata": {
      "needs_background": "light"
     },
     "output_type": "display_data"
    }
   ],
   "source": [
    "temp_data = data3[(data3['year'] == 2016)&(data3['month'] == 3)]\n",
    "\n",
    "g2 = sns.boxplot(x='day', y='COST', data=temp_data,\n",
    "                color='skyblue', fliersize=0.1,\n",
    "                 showmeans=True, \n",
    "                meanprops={'markersize':3,\"markerfacecolor\":\"blue\", \"markeredgecolor\":\"blue\"})\n",
    "g2.set(ylim=(0,30000))\n",
    "# g2.axhline(y=0, color='r')"
   ]
  },
  {
   "cell_type": "code",
   "execution_count": 54,
   "metadata": {},
   "outputs": [
    {
     "data": {
      "image/png": "[encoded data removed]",
      "text/plain": [
       "<Figure size 432x288 with 1 Axes>"
      ]
     },
     "metadata": {
      "needs_background": "light"
     },
     "output_type": "display_data"
    }
   ],
   "source": [
    "temp_data = data3[(data3['year'] == 2016)&(data3['month'] == 3)]\n",
    "\n",
    "g2 = sns.violinplot(x='day', y='COST', data=temp_data,\n",
    "                color='skyblue', fliersize=0.1,\n",
    "                 showmeans=True, \n",
    "                meanprops={'markersize':3,\"markerfacecolor\":\"blue\", \"markeredgecolor\":\"blue\"})\n",
    "# g2.set(ylim=(0,30000))"
   ]
  },
  {
   "cell_type": "code",
   "execution_count": 55,
   "metadata": {},
   "outputs": [
    {
     "data": {
      "text/html": [
       "<div>\n",
       "<style scoped>\n",
       "    .dataframe tbody tr th:only-of-type {\n",
       "        vertical-align: middle;\n",
       "    }\n",
       "\n",
       "    .dataframe tbody tr th {\n",
       "        vertical-align: top;\n",
       "    }\n",
       "\n",
       "    .dataframe thead th {\n",
       "        text-align: right;\n",
       "    }\n",
       "</style>\n",
       "<table border=\"1\" class=\"dataframe\">\n",
       "  <thead>\n",
       "    <tr style=\"text-align: right;\">\n",
       "      <th></th>\n",
       "      <th>SALEDATE</th>\n",
       "      <th>WHSAL_NM</th>\n",
       "      <th>CMP_NM</th>\n",
       "      <th>PUM_NM</th>\n",
       "      <th>KIND_NM</th>\n",
       "      <th>DAN_NM</th>\n",
       "      <th>POJ_NM</th>\n",
       "      <th>SIZE_NM</th>\n",
       "      <th>LV_NM</th>\n",
       "      <th>SAN_NM</th>\n",
       "      <th>DANQ</th>\n",
       "      <th>QTY</th>\n",
       "      <th>COST</th>\n",
       "      <th>TOT_QTY</th>\n",
       "      <th>TOT_AMT</th>\n",
       "      <th>year</th>\n",
       "      <th>month</th>\n",
       "      <th>day</th>\n",
       "      <th>week</th>\n",
       "    </tr>\n",
       "  </thead>\n",
       "  <tbody>\n",
       "    <tr>\n",
       "      <th>247501</th>\n",
       "      <td>2016-03-04</td>\n",
       "      <td>수원도매시장</td>\n",
       "      <td>수원청과</td>\n",
       "      <td>배추</td>\n",
       "      <td>월동배추</td>\n",
       "      <td>kg</td>\n",
       "      <td>PE대</td>\n",
       "      <td>.</td>\n",
       "      <td>상</td>\n",
       "      <td>서울 송파구</td>\n",
       "      <td>8.0</td>\n",
       "      <td>25.0</td>\n",
       "      <td>5500.0</td>\n",
       "      <td>200.0</td>\n",
       "      <td>137500.0</td>\n",
       "      <td>2016</td>\n",
       "      <td>3</td>\n",
       "      <td>4</td>\n",
       "      <td>4</td>\n",
       "    </tr>\n",
       "    <tr>\n",
       "      <th>247500</th>\n",
       "      <td>2016-03-04</td>\n",
       "      <td>수원도매시장</td>\n",
       "      <td>수원청과</td>\n",
       "      <td>배추</td>\n",
       "      <td>월동배추</td>\n",
       "      <td>kg</td>\n",
       "      <td>PE대</td>\n",
       "      <td>.</td>\n",
       "      <td>.</td>\n",
       "      <td>서울 송파구</td>\n",
       "      <td>8.0</td>\n",
       "      <td>226.0</td>\n",
       "      <td>9100.0</td>\n",
       "      <td>1808.0</td>\n",
       "      <td>2056600.0</td>\n",
       "      <td>2016</td>\n",
       "      <td>3</td>\n",
       "      <td>4</td>\n",
       "      <td>4</td>\n",
       "    </tr>\n",
       "  </tbody>\n",
       "</table>\n",
       "</div>"
      ],
      "text/plain": [
       "         SALEDATE WHSAL_NM CMP_NM PUM_NM KIND_NM DAN_NM POJ_NM SIZE_NM LV_NM  \\\n",
       "247501 2016-03-04   수원도매시장   수원청과     배추    월동배추     kg    PE대       .     상   \n",
       "247500 2016-03-04   수원도매시장   수원청과     배추    월동배추     kg    PE대       .     .   \n",
       "\n",
       "        SAN_NM  DANQ    QTY    COST  TOT_QTY    TOT_AMT  year  month  day  \\\n",
       "247501  서울 송파구   8.0   25.0  5500.0    200.0   137500.0  2016      3    4   \n",
       "247500  서울 송파구   8.0  226.0  9100.0   1808.0  2056600.0  2016      3    4   \n",
       "\n",
       "        week  \n",
       "247501     4  \n",
       "247500     4  "
      ]
     },
     "execution_count": 55,
     "metadata": {},
     "output_type": "execute_result"
    }
   ],
   "source": [
    "temp_data.head(2)"
   ]
  },
  {
   "cell_type": "code",
   "execution_count": 56,
   "metadata": {},
   "outputs": [
    {
     "data": {
      "text/plain": [
       "137500.0"
      ]
     },
     "execution_count": 56,
     "metadata": {},
     "output_type": "execute_result"
    }
   ],
   "source": [
    "25.0*5500.0"
   ]
  },
  {
   "cell_type": "code",
   "execution_count": 57,
   "metadata": {},
   "outputs": [
    {
     "data": {
      "text/plain": [
       "1137.5"
      ]
     },
     "execution_count": 57,
     "metadata": {},
     "output_type": "execute_result"
    }
   ],
   "source": [
    "2056600.0/1808.0"
   ]
  },
  {
   "cell_type": "code",
   "execution_count": 58,
   "metadata": {},
   "outputs": [
    {
     "data": {
      "text/plain": [
       "687.5"
      ]
     },
     "execution_count": 58,
     "metadata": {},
     "output_type": "execute_result"
    }
   ],
   "source": [
    "137500.0/200"
   ]
  },
  {
   "cell_type": "code",
   "execution_count": 59,
   "metadata": {},
   "outputs": [
    {
     "data": {
      "text/plain": [
       "day\n",
       "4      9100.021680\n",
       "5     10933.405556\n",
       "7     10987.838000\n",
       "8     10670.233010\n",
       "9     10497.194581\n",
       "10     9292.565684\n",
       "dtype: float64"
      ]
     },
     "execution_count": 59,
     "metadata": {},
     "output_type": "execute_result"
    }
   ],
   "source": [
    "temp_data.groupby(['day']).apply(lambda x: x.COST.mean())"
   ]
  },
  {
   "cell_type": "code",
   "execution_count": 60,
   "metadata": {},
   "outputs": [
    {
     "data": {
      "text/plain": [
       "day\n",
       "4     8080.755135\n",
       "5     7465.286437\n",
       "7     8013.022873\n",
       "8     7636.332111\n",
       "9     7353.288479\n",
       "10    6941.276173\n",
       "dtype: float64"
      ]
     },
     "execution_count": 60,
     "metadata": {},
     "output_type": "execute_result"
    }
   ],
   "source": [
    "temp_data.groupby(['day']).apply(lambda x: x.TOT_AMT.sum()/x.QTY.sum())"
   ]
  },
  {
   "cell_type": "code",
   "execution_count": null,
   "metadata": {},
   "outputs": [],
   "source": []
  },
  {
   "cell_type": "code",
   "execution_count": null,
   "metadata": {},
   "outputs": [],
   "source": []
  },
  {
   "cell_type": "code",
   "execution_count": null,
   "metadata": {},
   "outputs": [],
   "source": []
  },
  {
   "cell_type": "code",
   "execution_count": null,
   "metadata": {},
   "outputs": [],
   "source": []
  },
  {
   "cell_type": "code",
   "execution_count": null,
   "metadata": {},
   "outputs": [],
   "source": []
  },
  {
   "cell_type": "code",
   "execution_count": null,
   "metadata": {},
   "outputs": [],
   "source": []
  },
  {
   "cell_type": "code",
   "execution_count": null,
   "metadata": {},
   "outputs": [],
   "source": []
  },
  {
   "cell_type": "code",
   "execution_count": null,
   "metadata": {},
   "outputs": [],
   "source": []
  },
  {
   "cell_type": "code",
   "execution_count": null,
   "metadata": {},
   "outputs": [],
   "source": []
  }
 ],
 "metadata": {
  "kernelspec": {
   "display_name": "sp2109",
   "language": "python",
   "name": "sp2109"
  },
  "language_info": {
   "codemirror_mode": {
    "name": "ipython",
    "version": 3
   },
   "file_extension": ".py",
   "mimetype": "text/x-python",
   "name": "python",
   "nbconvert_exporter": "python",
   "pygments_lexer": "ipython3",
   "version": "3.6.3"
  }
 },
 "nbformat": 4,
 "nbformat_minor": 2
}
